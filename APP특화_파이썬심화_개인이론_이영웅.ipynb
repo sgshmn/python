{
 "cells": [
  {
   "cell_type": "markdown",
   "metadata": {},
   "source": [
    "===========================================================================================\n",
    "\n",
    "<font size=6><b>개인 이론 문제</b></font>\n",
    "\n",
    "- 시험 시간 : 30분\n",
    "- 시험 방법 : 답안지에 작성하여 제출 \n",
    "\n",
    "==========================================================================================="
   ]
  },
  {
   "cell_type": "markdown",
   "metadata": {},
   "source": [
    "# 과정명 : AI기반 서비스 App 특화"
   ]
  },
  {
   "cell_type": "markdown",
   "metadata": {},
   "source": [
    "# 이름 : 이영웅"
   ]
  },
  {
   "cell_type": "markdown",
   "metadata": {},
   "source": [
    "==================================================================\n",
    "\n",
    "<font size=5><b>1과목 : 파이썬 응용</b></font>\n",
    "\n",
    "=================================================================="
   ]
  },
  {
   "cell_type": "markdown",
   "metadata": {},
   "source": [
    "[ 문제 1 ] //, %, and 연산자들의 기능을 설명하시오."
   ]
  },
  {
   "cell_type": "markdown",
   "metadata": {},
   "source": [
    "<font size=5 color=red><b>[ 문제 1 답안 ]</b></font>"
   ]
  },
  {
   "cell_type": "code",
   "execution_count": 19,
   "metadata": {},
   "outputs": [
    {
     "name": "stdout",
     "output_type": "stream",
     "text": [
      "68.0\n",
      "68.74193548387096\n",
      "2.299999999999983\n",
      "2.2999999999999883\n"
     ]
    }
   ],
   "source": [
    "print(213.1 // 3.1)\n",
    "print(213.1 / 3.1)\n",
    "print(213.1 - 213.1 // 3.1 * 3.1)\n",
    "print(213.1 % 3.1)\n"
   ]
  },
  {
   "cell_type": "markdown",
   "metadata": {},
   "source": [
    "- // : 몫 연산자이다. a // b 를 하면 a를 b로 나눈 값에서 소수점 아래를 모두 버린 값을 반환한다\n",
    "- % : 나머지 연산자이다. a를 b로 나눴을 때의 나머지를 반환한다\n",
    "- and : 논리연산자이다. 주로 부울리안 타입끼리 연산할 때 사용한다. True and True 일때만 True를 반환하고 나머지는 False를 반환한다"
   ]
  },
  {
   "cell_type": "markdown",
   "metadata": {},
   "source": [
    "[ 문제 2 ] 리스트와 튜플의 차이점을 2가지 이상 서술하시오."
   ]
  },
  {
   "cell_type": "markdown",
   "metadata": {},
   "source": [
    "<font size=5 color=red><b>[ 문제 2 답안 ]</b></font>"
   ]
  },
  {
   "cell_type": "markdown",
   "metadata": {},
   "source": [
    "- 리스트는 값을 수정할수 있지만 튜플은 할 수 없다\n",
    "- 리스트는 값을 추가하거나 제거할 수 있지만 튜플은 할 수 없다"
   ]
  },
  {
   "cell_type": "markdown",
   "metadata": {},
   "source": [
    "[ 문제 3 ] 상속과 오버라이딩에 대해 설명하시오."
   ]
  },
  {
   "cell_type": "markdown",
   "metadata": {},
   "source": [
    "<font size=5 color=red><b>[ 문제 3 답안 ]</b></font>"
   ]
  },
  {
   "cell_type": "markdown",
   "metadata": {},
   "source": [
    "- 상속은 클래스가 다른 클래스의 변수와 함수를 이어 받는 것을 말한다.\n",
    "- Class 클래스1(클래스2) 이런 식으로 하면 클래스1이 클래스2를 상속받는다.\n",
    "- 클래스1에서는 클래스2의 변수와 함수를 쓸 수 있는데 \\_\\_ 접근제한자가 변수명이나 함수명앞에 붙어있는 것은 쓸 수 없다.\n",
    "\n",
    "- 오버라이딩을 위 예시로 설명하면 클래스1에서 클래스2의 변수나 함수를 재정의 하는 것을 뜻한다.\n",
    "- 클래스2에서 사용한 변수명과 함수명을 똑같이 써서 새롭게 정의하면 그게 오버라이딩이다."
   ]
  },
  {
   "cell_type": "markdown",
   "metadata": {},
   "source": [
    "==================================================================\n",
    "\n",
    "<font size=5><b>2과목 : 데이터 사이언스</b></font>\n",
    "\n",
    "=================================================================="
   ]
  },
  {
   "cell_type": "markdown",
   "metadata": {},
   "source": [
    "[ 문제 1 ] Series와 DataFrame에 대해 설명하시오."
   ]
  },
  {
   "cell_type": "markdown",
   "metadata": {},
   "source": [
    "<font size=5 color=red><b>[ 문제 1 답안 ]</b></font>"
   ]
  },
  {
   "cell_type": "markdown",
   "metadata": {},
   "source": [
    "- Series는 pandas 모듈의 데이터타입으로 1차원 데이터이다.\n",
    "- DataFrame은 pandas 모듈의 데이터타입으로 2차원 데이터이다."
   ]
  },
  {
   "cell_type": "markdown",
   "metadata": {},
   "source": [
    "[ 문제 2 ] concat() 함수와 cut() 함수에 대해 설명하시오."
   ]
  },
  {
   "cell_type": "markdown",
   "metadata": {},
   "source": [
    "<font size=5 color=red><b>[ 문제 2 답안 ]</b></font>"
   ]
  },
  {
   "cell_type": "markdown",
   "metadata": {},
   "source": [
    "- concat()은 Series나 DataFrame끼리 이어붙이는 함수이다. \n",
    "- 열 방향으로 이어붙일 때는 행 개수가 같아야 하고 행 방향으로 이어붙일 때는 열 개수가 같아야 한다"
   ]
  },
  {
   "cell_type": "markdown",
   "metadata": {},
   "source": [
    "[ 문제 3 ] describe() 함수의 기능 및 출력되는 값들을 2가지 이상 기술하고, 이를 통해 알 수 있는 것을 2가지 이상 기술하시오."
   ]
  },
  {
   "cell_type": "markdown",
   "metadata": {},
   "source": [
    "<font size=5 color=red><b>[ 문제 3 답안 ]</b></font>"
   ]
  },
  {
   "cell_type": "markdown",
   "metadata": {},
   "source": []
  },
  {
   "cell_type": "markdown",
   "metadata": {},
   "source": [
    "==================================================================\n",
    "\n",
    "<font size=5><b>3과목 : 데이터 시각화</b></font>\n",
    "\n",
    "=================================================================="
   ]
  },
  {
   "cell_type": "markdown",
   "metadata": {},
   "source": [
    "[ 문제 1 ] matplotlib 라이브러리에서 선을 그리는 함수는 ?"
   ]
  },
  {
   "cell_type": "markdown",
   "metadata": {},
   "source": [
    "<font size=5 color=red><b>[ 문제 1 답안 ]</b></font>"
   ]
  },
  {
   "cell_type": "markdown",
   "metadata": {},
   "source": [
    "- plot"
   ]
  },
  {
   "cell_type": "markdown",
   "metadata": {},
   "source": [
    "[ 문제 2 ] xticks(), xlim(), xlabel(), title() 함수의 기능에 대해 설명하시오."
   ]
  },
  {
   "cell_type": "markdown",
   "metadata": {},
   "source": [
    "<font size=5 color=red><b>[ 문제 2 답안 ]</b></font>"
   ]
  },
  {
   "cell_type": "markdown",
   "metadata": {},
   "source": [
    "- xticks() : x축의 눈금을 설정\n",
    "- yticks() : y축의 눈금을 설정\n",
    "- xlabel() : x축의 이름을 설정\n",
    "- ylabel() : y축의 이름을 설정"
   ]
  },
  {
   "cell_type": "markdown",
   "metadata": {},
   "source": [
    "[ 문제 3 ] 다음 코드에서 각 파라미터의 의미를 설명하시오.\n",
    "\n",
    "- plt.plot(x, y, ls = '--', lw=5, marker='o', ms=15, mec='g', mew=5, mfc='r')"
   ]
  },
  {
   "cell_type": "markdown",
   "metadata": {},
   "source": [
    "<font size=5 color=red><b>[ 문제 3 답안 ]</b></font>"
   ]
  },
  {
   "cell_type": "markdown",
   "metadata": {},
   "source": [
    "- x : 그래프를 그릴 때 필요한 x좌표 값, y와 길이가 같아야한다\n",
    "- y : 그래프를 그릴 때 필요한 y좌표 값, x와 길이가 같아야한다\n",
    "- ls : 선의 모양\n",
    "- lw : 선의 두께\n",
    "- marker : 찍은 점의 모양\n",
    "- ms : 찍은 점의 크기\n",
    "- mec : 찍은 점의 테두리 색깔\n",
    "- mew : 찍은 점의 테두리 두께\n",
    "- mfc : 찍은 점의 가운데 색깔"
   ]
  },
  {
   "cell_type": "code",
   "execution_count": null,
   "metadata": {},
   "outputs": [],
   "source": []
  }
 ],
 "metadata": {
  "hide_input": false,
  "kernelspec": {
   "display_name": "Python 3 (ipykernel)",
   "language": "python",
   "name": "python3"
  },
  "language_info": {
   "codemirror_mode": {
    "name": "ipython",
    "version": 3
   },
   "file_extension": ".py",
   "mimetype": "text/x-python",
   "name": "python",
   "nbconvert_exporter": "python",
   "pygments_lexer": "ipython3",
   "version": "3.9.12"
  },
  "toc": {
   "base_numbering": 1,
   "nav_menu": {},
   "number_sections": true,
   "sideBar": true,
   "skip_h1_title": false,
   "title_cell": "Table of Contents",
   "title_sidebar": "Contents",
   "toc_cell": false,
   "toc_position": {},
   "toc_section_display": true,
   "toc_window_display": false
  }
 },
 "nbformat": 4,
 "nbformat_minor": 4
}
