{
 "cells": [
  {
   "cell_type": "markdown",
   "metadata": {
    "id": "jR7mAkcWksEJ"
   },
   "source": [
    "# print"
   ]
  },
  {
   "cell_type": "code",
   "execution_count": 1,
   "metadata": {
    "colab": {
     "base_uri": "https://localhost:8080/"
    },
    "executionInfo": {
     "elapsed": 277,
     "status": "ok",
     "timestamp": 1656499452757,
     "user": {
      "displayName": "0000 0",
      "userId": "07788809946542167650"
     },
     "user_tz": -540
    },
    "id": "OlizLnZWGsME",
    "outputId": "378fd342-397a-48ed-9043-907d03b7041e"
   },
   "outputs": [
    {
     "name": "stdout",
     "output_type": "stream",
     "text": [
      "3\n",
      "내용출력\n"
     ]
    }
   ],
   "source": [
    "a = 10 # a에 10을 저장합니다.\n",
    "# 명령문 또는 키워드(파라미터)\n",
    "\n",
    "print(1 + 2)   \n",
    "print('내용출력')"
   ]
  },
  {
   "cell_type": "code",
   "execution_count": 2,
   "metadata": {
    "colab": {
     "base_uri": "https://localhost:8080/"
    },
    "executionInfo": {
     "elapsed": 16,
     "status": "ok",
     "timestamp": 1656499453620,
     "user": {
      "displayName": "0000 0",
      "userId": "07788809946542167650"
     },
     "user_tz": -540
    },
    "id": "jdYwJR2PV41n",
    "outputId": "0c8a4b43-82ee-4efc-97d3-2182d5bd212c"
   },
   "outputs": [
    {
     "name": "stdout",
     "output_type": "stream",
     "text": [
      "13\n",
      "25\n",
      "77\n"
     ]
    }
   ],
   "source": [
    "num1 = 13\n",
    "num2 = 25  \n",
    "num3 = 77\n",
    "\n",
    "print(num1)\n",
    "print(num2)\n",
    "print(num3) # 파이썬은 print는 자동으로 줄이 바뀐다."
   ]
  },
  {
   "cell_type": "code",
   "execution_count": 3,
   "metadata": {
    "colab": {
     "base_uri": "https://localhost:8080/"
    },
    "executionInfo": {
     "elapsed": 15,
     "status": "ok",
     "timestamp": 1656499453620,
     "user": {
      "displayName": "0000 0",
      "userId": "07788809946542167650"
     },
     "user_tz": -540
    },
    "id": "2rSXKkB4xNpe",
    "outputId": "cef8369c-1fef-48ed-9271-c9cb61ff9f8f",
    "scrolled": true
   },
   "outputs": [
    {
     "name": "stdout",
     "output_type": "stream",
     "text": [
      "13\n",
      "25\n",
      "77\n"
     ]
    }
   ],
   "source": [
    "print(num1); print(num2); print(num3);\n",
    "# 여러개의 명령을 한 줄에 쓸 때 ;로 구분"
   ]
  },
  {
   "cell_type": "code",
   "execution_count": 4,
   "metadata": {
    "colab": {
     "base_uri": "https://localhost:8080/"
    },
    "executionInfo": {
     "elapsed": 14,
     "status": "ok",
     "timestamp": 1656499453620,
     "user": {
      "displayName": "0000 0",
      "userId": "07788809946542167650"
     },
     "user_tz": -540
    },
    "id": "lVnMHx3vxZDH",
    "outputId": "64d122fa-3c61-4bee-c04c-21d127ed3b9a"
   },
   "outputs": [
    {
     "name": "stdout",
     "output_type": "stream",
     "text": [
      "13\n",
      "25\n",
      "77\n"
     ]
    }
   ],
   "source": [
    "# , 로도 구분\n",
    "print(num1), print(num2), print(num3);"
   ]
  },
  {
   "cell_type": "code",
   "execution_count": 5,
   "metadata": {
    "colab": {
     "base_uri": "https://localhost:8080/"
    },
    "executionInfo": {
     "elapsed": 15,
     "status": "ok",
     "timestamp": 1656499453621,
     "user": {
      "displayName": "0000 0",
      "userId": "07788809946542167650"
     },
     "user_tz": -540
    },
    "id": "P6gulna6xlgB",
    "outputId": "c970b843-e198-4b77-9911-e36c4704f3a1"
   },
   "outputs": [
    {
     "name": "stdout",
     "output_type": "stream",
     "text": [
      "13 25 77\n"
     ]
    }
   ],
   "source": [
    "# 여러개를 한번에 출력 하고 싶을 때 나중에 함수 배울 때 왜 이게 되는지 알게 된다.\n",
    "print(num1, num2, num3);"
   ]
  },
  {
   "cell_type": "code",
   "execution_count": 6,
   "metadata": {
    "colab": {
     "base_uri": "https://localhost:8080/"
    },
    "executionInfo": {
     "elapsed": 14,
     "status": "ok",
     "timestamp": 1656499453621,
     "user": {
      "displayName": "0000 0",
      "userId": "07788809946542167650"
     },
     "user_tz": -540
    },
    "id": "TC98Z-Y7XvJF",
    "outputId": "86d5e1f5-ca6b-4e18-f37e-96a467673a03",
    "scrolled": false
   },
   "outputs": [
    {
     "name": "stdout",
     "output_type": "stream",
     "text": [
      "13\n",
      "25 77\n"
     ]
    }
   ],
   "source": [
    "# 나는 줄을 바꾸기 싫다.\n",
    "# end : print()문의 끝 문자를 설정\n",
    "# \\n : 줄넘김 표시\n",
    "print(num1 , end = '\\n') # \\n 값이 디폴트다.\n",
    "print(num2 , end = ' ')\n",
    "print(num3)"
   ]
  },
  {
   "cell_type": "code",
   "execution_count": 7,
   "metadata": {
    "colab": {
     "base_uri": "https://localhost:8080/"
    },
    "executionInfo": {
     "elapsed": 14,
     "status": "ok",
     "timestamp": 1656499453621,
     "user": {
      "displayName": "0000 0",
      "userId": "07788809946542167650"
     },
     "user_tz": -540
    },
    "id": "xQfG0Hmbvo7x",
    "outputId": "5393df59-6e6b-4196-ba71-7ab314d30416"
   },
   "outputs": [
    {
     "data": {
      "text/plain": [
       "3.0"
      ]
     },
     "execution_count": 7,
     "metadata": {},
     "output_type": "execute_result"
    }
   ],
   "source": [
    "num4 = 3.1425\n",
    "num5 = 1.25\n",
    "num6 = 3.0\n",
    "\n",
    "num4\n",
    "num5\n",
    "num6 # 같은 위치에 덮어서 출력하기 때문에 num6만 출력하게 된다. 그래서 print를 쓴다. "
   ]
  },
  {
   "cell_type": "code",
   "execution_count": 8,
   "metadata": {
    "colab": {
     "base_uri": "https://localhost:8080/"
    },
    "executionInfo": {
     "elapsed": 13,
     "status": "ok",
     "timestamp": 1656499453621,
     "user": {
      "displayName": "0000 0",
      "userId": "07788809946542167650"
     },
     "user_tz": -540
    },
    "id": "LQp58JCLzFQq",
    "outputId": "29bc7fdd-8dcc-4bae-e77c-f457603b6b49",
    "scrolled": true
   },
   "outputs": [
    {
     "data": {
      "text/plain": [
       "(3.1425, 1.25, 3.0)"
      ]
     },
     "execution_count": 8,
     "metadata": {},
     "output_type": "execute_result"
    }
   ],
   "source": [
    "num4, num5, num6 # 튜플 형태로 출력한다."
   ]
  },
  {
   "cell_type": "code",
   "execution_count": 9,
   "metadata": {
    "colab": {
     "base_uri": "https://localhost:8080/"
    },
    "executionInfo": {
     "elapsed": 12,
     "status": "ok",
     "timestamp": 1656499453621,
     "user": {
      "displayName": "0000 0",
      "userId": "07788809946542167650"
     },
     "user_tz": -540
    },
    "id": "m3ukhF54zazS",
    "outputId": "f3160c71-3a41-45e8-ab0c-20c292b501d1"
   },
   "outputs": [
    {
     "name": "stdout",
     "output_type": "stream",
     "text": [
      "Funny python Easy python\n"
     ]
    },
    {
     "data": {
      "text/plain": [
       "('Funny python', 'Easy python', None)"
      ]
     },
     "execution_count": 9,
     "metadata": {},
     "output_type": "execute_result"
    }
   ],
   "source": [
    "# 문자열을 변수에 저장\n",
    "# 외따옴표, 쌍따옴표 둘다 사용할 수 있다. \n",
    "str1 = \"Funny python\"\n",
    "str2 = 'Easy python'\n",
    "str1, str2, print(str1, str2) # 섞어 쓰는것는 별로."
   ]
  },
  {
   "cell_type": "code",
   "execution_count": null,
   "metadata": {
    "colab": {
     "base_uri": "https://localhost:8080/"
    },
    "executionInfo": {
     "elapsed": 12,
     "status": "ok",
     "timestamp": 1656499453622,
     "user": {
      "displayName": "0000 0",
      "userId": "07788809946542167650"
     },
     "user_tz": -540
    },
    "id": "AvoMrKPQ0cNN",
    "outputId": "8a6586e8-8610-4442-c667-80802b83487a"
   },
   "outputs": [
    {
     "name": "stdout",
     "output_type": "stream",
     "text": [
      "True False\n"
     ]
    }
   ],
   "source": [
    "# 논리를 변수에 저장\n",
    "str1 = True\n",
    "str2 = False\n",
    "print(str1, str2)"
   ]
  },
  {
   "cell_type": "markdown",
   "metadata": {
    "id": "p5E0sbHb2AAy"
   },
   "source": [
    "## 변수명 작성 규칙\n",
    "\n",
    "- 영문자, 숫자, 언더바(_)만 쓸 수 있다. \n",
    "- 숫자로 시작할 수 없다. \n",
    "- 키워드는 변수명으로 쓸 수 없다."
   ]
  },
  {
   "cell_type": "code",
   "execution_count": null,
   "metadata": {
    "colab": {
     "base_uri": "https://localhost:8080/"
    },
    "executionInfo": {
     "elapsed": 12,
     "status": "ok",
     "timestamp": 1656499453622,
     "user": {
      "displayName": "0000 0",
      "userId": "07788809946542167650"
     },
     "user_tz": -540
    },
    "id": "r233d_Q12Sar",
    "outputId": "cf3f7f1d-1131-4a8e-cb25-0eaeea1e8028"
   },
   "outputs": [
    {
     "data": {
      "text/plain": [
       "<function print>"
      ]
     },
     "execution_count": 154,
     "metadata": {},
     "output_type": "execute_result"
    }
   ],
   "source": [
    "# 키워드는 변수명으로 사용하면 안된다.  \n",
    "# print = 100\n",
    "\n",
    "print # "
   ]
  },
  {
   "cell_type": "code",
   "execution_count": null,
   "metadata": {
    "id": "ezXgoD7W2aXu"
   },
   "outputs": [],
   "source": [
    "# print(str1) # print함수가 사라지고 print 정수형 변수만 남았다. "
   ]
  },
  {
   "cell_type": "code",
   "execution_count": null,
   "metadata": {
    "colab": {
     "base_uri": "https://localhost:8080/"
    },
    "executionInfo": {
     "elapsed": 11,
     "status": "ok",
     "timestamp": 1656499453622,
     "user": {
      "displayName": "0000 0",
      "userId": "07788809946542167650"
     },
     "user_tz": -540
    },
    "id": "ND9OpCWJ3BmC",
    "outputId": "e68d58fc-6339-4032-f81b-fd35526a27e4"
   },
   "outputs": [
    {
     "name": "stdout",
     "output_type": "stream",
     "text": [
      "10\n"
     ]
    }
   ],
   "source": [
    "print(10)"
   ]
  },
  {
   "cell_type": "code",
   "execution_count": null,
   "metadata": {
    "colab": {
     "base_uri": "https://localhost:8080/"
    },
    "executionInfo": {
     "elapsed": 10,
     "status": "ok",
     "timestamp": 1656499453622,
     "user": {
      "displayName": "0000 0",
      "userId": "07788809946542167650"
     },
     "user_tz": -540
    },
    "id": "2zZ3aQlM3H4x",
    "outputId": "7bf776f7-a293-4904-c07a-a52f4035a6b8"
   },
   "outputs": [
    {
     "name": "stdout",
     "output_type": "stream",
     "text": [
      "True\n"
     ]
    }
   ],
   "source": [
    "print(str1)"
   ]
  },
  {
   "cell_type": "code",
   "execution_count": null,
   "metadata": {
    "colab": {
     "base_uri": "https://localhost:8080/"
    },
    "executionInfo": {
     "elapsed": 11,
     "status": "ok",
     "timestamp": 1656499453623,
     "user": {
      "displayName": "0000 0",
      "userId": "07788809946542167650"
     },
     "user_tz": -540
    },
    "id": "W3SdiKzc3aLk",
    "outputId": "3317cbfa-841f-422a-e27f-143c4644ef60"
   },
   "outputs": [
    {
     "name": "stdout",
     "output_type": "stream",
     "text": [
      "10 20 30\n"
     ]
    }
   ],
   "source": [
    "# 파이썬에서는 동시에 여러 개의 변수에 값을 할당할 수 있다.\n",
    "a, b, c = 10, 20, 30\n",
    "\n",
    "print(a, b, c)"
   ]
  },
  {
   "cell_type": "code",
   "execution_count": null,
   "metadata": {
    "colab": {
     "base_uri": "https://localhost:8080/"
    },
    "executionInfo": {
     "elapsed": 10,
     "status": "ok",
     "timestamp": 1656499453623,
     "user": {
      "displayName": "0000 0",
      "userId": "07788809946542167650"
     },
     "user_tz": -540
    },
    "id": "XK4jXAch75wl",
    "outputId": "0d6f8ebe-5746-4f64-b51b-7447f403da88"
   },
   "outputs": [
    {
     "name": "stdout",
     "output_type": "stream",
     "text": [
      "100 홍길동 10.45 False\n"
     ]
    }
   ],
   "source": [
    "# <실습>\n",
    "# n1에 100, n2에 '홍길동', n3에 10.45, n4에 False 저장하고 출력\n",
    "n1, n2, n3, n4 = 100, '홍길동', 10.45, False\n",
    "print(n1, n2, n3, n4)"
   ]
  },
  {
   "cell_type": "code",
   "execution_count": null,
   "metadata": {
    "colab": {
     "base_uri": "https://localhost:8080/"
    },
    "executionInfo": {
     "elapsed": 10,
     "status": "ok",
     "timestamp": 1656499453623,
     "user": {
      "displayName": "0000 0",
      "userId": "07788809946542167650"
     },
     "user_tz": -540
    },
    "id": "67-dZG1q9Gd5",
    "outputId": "30bf44da-c6ad-40e3-a42f-a2739252bbf5"
   },
   "outputs": [
    {
     "name": "stdout",
     "output_type": "stream",
     "text": [
      "python python\n"
     ]
    }
   ],
   "source": [
    "# 동일한 값을 여러개의 변수에 할당\n",
    "str1 = str2 = \"python\"\n",
    "print(str1, str2)"
   ]
  },
  {
   "cell_type": "code",
   "execution_count": null,
   "metadata": {
    "colab": {
     "base_uri": "https://localhost:8080/"
    },
    "executionInfo": {
     "elapsed": 9,
     "status": "ok",
     "timestamp": 1656499453623,
     "user": {
      "displayName": "0000 0",
      "userId": "07788809946542167650"
     },
     "user_tz": -540
    },
    "id": "0F0oiDmB-QK7",
    "outputId": "c82f32f8-bc22-431d-92af-402e7cbbbf8a"
   },
   "outputs": [
    {
     "name": "stdout",
     "output_type": "stream",
     "text": [
      "300\n"
     ]
    }
   ],
   "source": [
    "# <실습>\n",
    "x, y = 100, 200\n",
    "hap = x + y # sum은 키워드라서 hap을 쓴다.\n",
    "\n",
    "print(hap)"
   ]
  },
  {
   "cell_type": "markdown",
   "metadata": {
    "id": "_QM6fdjlAI2M"
   },
   "source": [
    "# 문자열 저장\n",
    "- 문자열 안에 작은따옴표가 있는 경우 - 큰따옴표로 묶어준다.\n",
    "- 문자열 안에 큰따옴표가 있는 경우 - 작은따옴표로 묶어준다."
   ]
  },
  {
   "cell_type": "code",
   "execution_count": null,
   "metadata": {
    "colab": {
     "base_uri": "https://localhost:8080/"
    },
    "executionInfo": {
     "elapsed": 9,
     "status": "ok",
     "timestamp": 1656499453623,
     "user": {
      "displayName": "0000 0",
      "userId": "07788809946542167650"
     },
     "user_tz": -540
    },
    "id": "ccutAiNLAc1u",
    "outputId": "f1f7bade-095a-4757-91cc-e93c2df365eb"
   },
   "outputs": [
    {
     "name": "stdout",
     "output_type": "stream",
     "text": [
      "she's gone\n"
     ]
    }
   ],
   "source": [
    "str1 = \"she's gone\"\n",
    "print(str1)"
   ]
  },
  {
   "cell_type": "code",
   "execution_count": null,
   "metadata": {
    "colab": {
     "base_uri": "https://localhost:8080/"
    },
    "executionInfo": {
     "elapsed": 8,
     "status": "ok",
     "timestamp": 1656499453623,
     "user": {
      "displayName": "0000 0",
      "userId": "07788809946542167650"
     },
     "user_tz": -540
    },
    "id": "CCevyZRVAho9",
    "outputId": "f675396a-024e-4137-beed-c929dcee6857"
   },
   "outputs": [
    {
     "name": "stdout",
     "output_type": "stream",
     "text": [
      "she said \"I am sorry\"\n"
     ]
    }
   ],
   "source": [
    "str2 = 'she said \"I am sorry\"'\n",
    "print(str2)"
   ]
  },
  {
   "cell_type": "code",
   "execution_count": null,
   "metadata": {
    "colab": {
     "base_uri": "https://localhost:8080/"
    },
    "executionInfo": {
     "elapsed": 9,
     "status": "ok",
     "timestamp": 1656499453624,
     "user": {
      "displayName": "0000 0",
      "userId": "07788809946542167650"
     },
     "user_tz": -540
    },
    "id": "OeWqIW97ApJ2",
    "outputId": "d267f9d8-3053-4490-e154-d4f52be1c65f"
   },
   "outputs": [
    {
     "name": "stdout",
     "output_type": "stream",
     "text": [
      "she's gone she said \"I am sorry\"\n"
     ]
    }
   ],
   "source": [
    "# she's gone she said \"I am sorry \"\n",
    "\n",
    "# 문자열 안에 작은따옴표와 큰따옴표가 둘다 있을 때 - 역슬래시를 사용해서 해당 문자를 설정한다. \n",
    "# \\문자\n",
    "str3 = \"she\\'s gone she said \\\"I am sorry\\\"\"\n",
    "print(str3)"
   ]
  },
  {
   "cell_type": "code",
   "execution_count": null,
   "metadata": {
    "colab": {
     "base_uri": "https://localhost:8080/"
    },
    "executionInfo": {
     "elapsed": 8,
     "status": "ok",
     "timestamp": 1656499453624,
     "user": {
      "displayName": "0000 0",
      "userId": "07788809946542167650"
     },
     "user_tz": -540
    },
    "id": "FfyHvHQJB3w6",
    "outputId": "1c7b39e0-9942-49dd-8a0c-35ab5dfb913d"
   },
   "outputs": [
    {
     "name": "stdout",
     "output_type": "stream",
     "text": [
      "안녕하세요\n",
      " 파이썬입니다\tapp특화반입니다\n"
     ]
    }
   ],
   "source": [
    "# 제어문자\n",
    "# \\n : 줄넘김\n",
    "# \\t : tab 탭 일정한 크기의 공백을 추가\n",
    "# print를써야 역슬래시 문자자체가 아니라 뜻하는 기능을 출력할 수 있다. \n",
    "\n",
    "str4 = \"안녕하세요\\n 파이썬입니다\\tapp특화반입니다\"\n",
    "print(str4)"
   ]
  },
  {
   "cell_type": "code",
   "execution_count": null,
   "metadata": {
    "colab": {
     "base_uri": "https://localhost:8080/"
    },
    "executionInfo": {
     "elapsed": 649,
     "status": "ok",
     "timestamp": 1656499454265,
     "user": {
      "displayName": "0000 0",
      "userId": "07788809946542167650"
     },
     "user_tz": -540
    },
    "id": "feUFw6o2Dlpj",
    "outputId": "6d26b923-107a-4776-9669-d66e5923905d"
   },
   "outputs": [
    {
     "name": "stdout",
     "output_type": "stream",
     "text": [
      "안녕하세요\n",
      "파이썬입니다\n",
      "app특화반입니다\n"
     ]
    }
   ],
   "source": [
    "# 여러 줄의 문자열을 저장할 때\n",
    "# 작은따옴표나 큰따옴표 3개로 묶는다.\n",
    "\n",
    "str5 = '''안녕하세요\n",
    "파이썬입니다\n",
    "app특화반입니다'''\n",
    "\n",
    "print(str5)"
   ]
  },
  {
   "cell_type": "markdown",
   "metadata": {
    "id": "t7xexQWvFhCs"
   },
   "source": [
    "# 문자열 인덱싱\n",
    "\n",
    "- 인덱스 : 값에 저장되는 주소를 가리키는 번호. 자동으로 부여된다. \n",
    " - 왼쪽 인덱스 : 0부터 시작해서 1씩 증가\n",
    " - 오른쪽 인덱스 : -1부터 시작해서 1씩 감소\n",
    "\n",
    "- 인덱싱(Indexing) : 여러개의 값에서 한개의 값을 가져오는 것\n",
    " - 대괄호를 사용해서 인덱스를 설정\n",
    " - 변수명[인덱스]"
   ]
  },
  {
   "cell_type": "code",
   "execution_count": null,
   "metadata": {
    "colab": {
     "base_uri": "https://localhost:8080/"
    },
    "executionInfo": {
     "elapsed": 17,
     "status": "ok",
     "timestamp": 1656499454266,
     "user": {
      "displayName": "0000 0",
      "userId": "07788809946542167650"
     },
     "user_tz": -540
    },
    "id": "TwEmwFKALDZN",
    "outputId": "71af0015-da0e-4287-cb0d-aec710069262"
   },
   "outputs": [
    {
     "name": "stdout",
     "output_type": "stream",
     "text": [
      "e\n",
      "e\n"
     ]
    }
   ],
   "source": [
    "#       01234567890123\n",
    "str6 = 'Python is easy'\n",
    "#   -   43210987654321\n",
    "print(str6[10])\n",
    "print(str6[-4])"
   ]
  },
  {
   "cell_type": "code",
   "execution_count": null,
   "metadata": {
    "colab": {
     "base_uri": "https://localhost:8080/"
    },
    "executionInfo": {
     "elapsed": 17,
     "status": "ok",
     "timestamp": 1656499454267,
     "user": {
      "displayName": "0000 0",
      "userId": "07788809946542167650"
     },
     "user_tz": -540
    },
    "id": "0kPEqyitHFNd",
    "outputId": "1c45b865-7929-4b45-d2e3-b986797d3489"
   },
   "outputs": [
    {
     "name": "stdout",
     "output_type": "stream",
     "text": [
      "o\n",
      "o\n"
     ]
    }
   ],
   "source": [
    "print(str6[4])\n",
    "print(str6[-10])"
   ]
  },
  {
   "cell_type": "code",
   "execution_count": null,
   "metadata": {
    "colab": {
     "base_uri": "https://localhost:8080/"
    },
    "executionInfo": {
     "elapsed": 16,
     "status": "ok",
     "timestamp": 1656499454267,
     "user": {
      "displayName": "0000 0",
      "userId": "07788809946542167650"
     },
     "user_tz": -540
    },
    "id": "QCOdHHGlMUes",
    "outputId": "dd26bc43-b6c3-44d4-d9b2-bedc0d550d97"
   },
   "outputs": [
    {
     "name": "stdout",
     "output_type": "stream",
     "text": [
      "P o n y\n"
     ]
    }
   ],
   "source": [
    "# <실습> 문자열 안의 문자를 가져와서 Pony 를 출력\n",
    "print(str6[0], str6[4], str6[5], str6[-1])"
   ]
  },
  {
   "cell_type": "markdown",
   "metadata": {
    "id": "xNwg2Np2Np_q"
   },
   "source": [
    "# 문자열 슬라이싱\n",
    "\n",
    "- 범위(시작인덱스, 끝인덱스, 증가값)를 설정해서 해당 범위의 인데스를 가져오는 것. 여러개의 인덱스를 가져온다. \n",
    "\n",
    "- 변수명[시작인덱스:끝인덱스 + 1:증가값]\n",
    " - 시작인덱스를 생략하면 0 인덱스로 인식한다.\n",
    " - 끝인덱스를 생략하면 -1 인덱스로 인식한다.\n",
    " - 둘다 생략하면 전체 인덱스로 인식한다.\n",
    " - 증가값을 생략하면 1로 인식한다.\n",
    " - 증가값을 -1로 하면 순서를 뒤집는다. "
   ]
  },
  {
   "cell_type": "code",
   "execution_count": null,
   "metadata": {
    "colab": {
     "base_uri": "https://localhost:8080/"
    },
    "executionInfo": {
     "elapsed": 16,
     "status": "ok",
     "timestamp": 1656499454267,
     "user": {
      "displayName": "0000 0",
      "userId": "07788809946542167650"
     },
     "user_tz": -540
    },
    "id": "TI2gE65uOmYP",
    "outputId": "0da008bb-0b9d-4d52-cfd1-e55d097141d9"
   },
   "outputs": [
    {
     "name": "stdout",
     "output_type": "stream",
     "text": [
      "Python\n",
      "Python\n",
      "Python\n",
      "Python is easy\n",
      "\n"
     ]
    }
   ],
   "source": [
    "#       01234567890123\n",
    "str6 = 'Python is easy'\n",
    "#   -   43210987654321\n",
    "\n",
    "# Python\n",
    "print(str6[0:6:1])\n",
    "print(str6[0:6]) # 증가값 1은 생략\n",
    "print(str6[:6]) # 시작 인덱스가 0이면 생략가능\n",
    "\n",
    "#시작인덱스 끝인덱스 생략\n",
    "print(str6[:])\n",
    "print(str6[0:5:-1]) # 왜 안나올까"
   ]
  },
  {
   "cell_type": "code",
   "execution_count": null,
   "metadata": {
    "colab": {
     "base_uri": "https://localhost:8080/"
    },
    "executionInfo": {
     "elapsed": 16,
     "status": "ok",
     "timestamp": 1656499454267,
     "user": {
      "displayName": "0000 0",
      "userId": "07788809946542167650"
     },
     "user_tz": -540
    },
    "id": "iuM5rh7FQEv4",
    "outputId": "c8dbc267-60bb-45c5-bd29-f97d79af83cf"
   },
   "outputs": [
    {
     "name": "stdout",
     "output_type": "stream",
     "text": [
      "easy\n",
      "\n",
      "easy\n"
     ]
    }
   ],
   "source": [
    "# <실습> easy만 출력\n",
    "# 끝 인덱스를 접근하는 경우에는 반드시 생략하자.\n",
    "print(str6[10:14]) # 실행은 됐지만 14번 인덱스는 없다. 좋은 방법이 아니다. \n",
    "print(str6[-4:0])  # 오른쪽 인덱스 방식에는 0 인덱스가 없다.  \n",
    "print(str6[-4:])"
   ]
  },
  {
   "cell_type": "code",
   "execution_count": null,
   "metadata": {
    "colab": {
     "base_uri": "https://localhost:8080/"
    },
    "executionInfo": {
     "elapsed": 15,
     "status": "ok",
     "timestamp": 1656499454267,
     "user": {
      "displayName": "0000 0",
      "userId": "07788809946542167650"
     },
     "user_tz": -540
    },
    "id": "EFuevBzRSSPD",
    "outputId": "2f8cd6ae-1533-4b1d-f14c-7734612bc29b"
   },
   "outputs": [
    {
     "name": "stdout",
     "output_type": "stream",
     "text": [
      "년도: 2022\n",
      "월일: 0628\n",
      "날씨: Cloudy\n"
     ]
    }
   ],
   "source": [
    "# <실습>\n",
    "\n",
    "dy_info = \"20220628Cloudy\"\n",
    "year = dy_info[:4]\n",
    "day = dy_info[4:8]\n",
    "weather = dy_info[8:]\n",
    "print(\"년도:\", year)\n",
    "print(\"월일:\", day)\n",
    "print(\"날씨:\", weather)"
   ]
  },
  {
   "cell_type": "code",
   "execution_count": null,
   "metadata": {
    "colab": {
     "base_uri": "https://localhost:8080/"
    },
    "executionInfo": {
     "elapsed": 16,
     "status": "ok",
     "timestamp": 1656499454268,
     "user": {
      "displayName": "0000 0",
      "userId": "07788809946542167650"
     },
     "user_tz": -540
    },
    "id": "3RAeReU7Xima",
    "outputId": "faed4480-5e5e-4157-e7fd-9f8dcbdd2656"
   },
   "outputs": [
    {
     "name": "stdout",
     "output_type": "stream",
     "text": [
      "오늘은 6월 28일 입니다\n"
     ]
    }
   ],
   "source": [
    "# %로 대입\n",
    "# %d decimal %f float %s string %c char\n",
    "month , day = 6, 28\n",
    "str10 = \"오늘은 %d월 %d일 입니다\"%(month, day)\n",
    "\n",
    "print(str10)"
   ]
  },
  {
   "cell_type": "markdown",
   "metadata": {
    "id": "cH5gjNrcZuLj"
   },
   "source": [
    "# 문자열 포맷팅\n",
    "- 출력 문자열의 형식을 지정하는 것\n",
    "\n",
    "- 방법\n",
    "  - %\n",
    "  - format()\n",
    "  - f"
   ]
  },
  {
   "cell_type": "code",
   "execution_count": null,
   "metadata": {
    "colab": {
     "base_uri": "https://localhost:8080/"
    },
    "executionInfo": {
     "elapsed": 16,
     "status": "ok",
     "timestamp": 1656499454268,
     "user": {
      "displayName": "0000 0",
      "userId": "07788809946542167650"
     },
     "user_tz": -540
    },
    "id": "rdWgSkkQZ5qD",
    "outputId": "33c4a3b7-1443-49b8-82d3-77a5d5ad3a3d"
   },
   "outputs": [
    {
     "name": "stdout",
     "output_type": "stream",
     "text": [
      "내일은 6월 29일 입니다\n"
     ]
    }
   ],
   "source": [
    "today = \"내일\"\n",
    "month, day = 6, 29\n",
    "# 내일은 6월 29일 입니다. 출력\n",
    "\n",
    "str11 = \"%s은 %d월 %d일 입니다\"%(today, month, day)\n",
    "print(str11)"
   ]
  },
  {
   "cell_type": "code",
   "execution_count": null,
   "metadata": {
    "colab": {
     "base_uri": "https://localhost:8080/"
    },
    "executionInfo": {
     "elapsed": 15,
     "status": "ok",
     "timestamp": 1656499454268,
     "user": {
      "displayName": "0000 0",
      "userId": "07788809946542167650"
     },
     "user_tz": -540
    },
    "id": "wHqdfyyhcOvY",
    "outputId": "08df24ee-56f2-4154-c91f-9e82c39a9a86"
   },
   "outputs": [
    {
     "name": "stdout",
     "output_type": "stream",
     "text": [
      "내일은 6월 29일 입니다.\n"
     ]
    }
   ],
   "source": [
    "str12 = \"{}은 {}월 {}일 입니다.\".format(today, month, day)\n",
    "print(str12)"
   ]
  },
  {
   "cell_type": "code",
   "execution_count": null,
   "metadata": {
    "colab": {
     "base_uri": "https://localhost:8080/"
    },
    "executionInfo": {
     "elapsed": 15,
     "status": "ok",
     "timestamp": 1656499454268,
     "user": {
      "displayName": "0000 0",
      "userId": "07788809946542167650"
     },
     "user_tz": -540
    },
    "id": "zPER1ShIdmfi",
    "outputId": "a7b3e0b4-010f-4809-c5ce-95ce0cdb153a"
   },
   "outputs": [
    {
     "name": "stdout",
     "output_type": "stream",
     "text": [
      "100과 200의 합은 300입니다\n",
      "100과 200의 합은 300입니다\n"
     ]
    }
   ],
   "source": [
    "x, y = 100, 200\n",
    "hap = x + y\n",
    "\n",
    "str13 = \"%d과 %d의 합은 %d입니다\"%(x, y, hap)\n",
    "print(str13)\n",
    "str13 = \"{}과 {}의 합은 {}입니다\".format(x, y, hap)\n",
    "print(str13)"
   ]
  },
  {
   "cell_type": "code",
   "execution_count": null,
   "metadata": {
    "colab": {
     "base_uri": "https://localhost:8080/"
    },
    "executionInfo": {
     "elapsed": 15,
     "status": "ok",
     "timestamp": 1656499454268,
     "user": {
      "displayName": "0000 0",
      "userId": "07788809946542167650"
     },
     "user_tz": -540
    },
    "id": "fTT6fvB2epjh",
    "outputId": "a5d3b5c7-b030-4b5c-e2dc-5e43fd870b8e"
   },
   "outputs": [
    {
     "name": "stdout",
     "output_type": "stream",
     "text": [
      "오늘은 6월 28일 입니다\n"
     ]
    }
   ],
   "source": [
    "month = 6\n",
    "day = 28\n",
    "today = \"오늘\"\n",
    "\n",
    "str14 = f\"{today}은 {month}월 {day}일 입니다\"\n",
    "print(str14)"
   ]
  },
  {
   "cell_type": "code",
   "execution_count": null,
   "metadata": {
    "colab": {
     "base_uri": "https://localhost:8080/"
    },
    "executionInfo": {
     "elapsed": 12,
     "status": "ok",
     "timestamp": 1656499454269,
     "user": {
      "displayName": "0000 0",
      "userId": "07788809946542167650"
     },
     "user_tz": -540
    },
    "id": "4X2mVWzsgFcw",
    "outputId": "163163f5-5887-4359-f776-51b5a7b1254d"
   },
   "outputs": [
    {
     "name": "stdout",
     "output_type": "stream",
     "text": [
      "캐릭터 정보\n",
      "=======================================\n",
      "항목\t\t캐릭터1\t\t캐릭터2\n",
      "---------------------------------------\n",
      "이름\t\t홍길동\t\t캔디\n",
      "레벨\t\t50\t\t49\n",
      "경험치\t\t25.8%\t\t87.2%\n",
      "직업\t\t도적\t\t마법사\n",
      "---------------------------------------\n",
      "\n",
      "캐릭터 레벨의 합은 99입니다.\n"
     ]
    }
   ],
   "source": [
    "str1 = \"'홍길동' 캐릭터의 레벨은 50이며 현재 경험치는 25.8입니다. 직업은 도적입니다.\"\n",
    "str2 = \"'캔디' 캐릭터의 레벨은 49이며 현재 경험치는 87.2입니다. 직업은 마법사입니다.\"\n",
    "\n",
    "print(\"캐릭터 정보\")\n",
    "print(\"=======================================\")\n",
    "print(\"항목\\t\\t캐릭터1\\t\\t캐릭터2\")\n",
    "print(\"---------------------------------------\")\n",
    "print(f\"이름\\t\\t{str1[1:4]}\\t\\t{str2[1:3]}\")\n",
    "print(f\"레벨\\t\\t{str1[15:17]}\\t\\t{str2[14:16]}\")\n",
    "print(f\"경험치\\t\\t{str1[28:32]}%\\t\\t{str2[27:31]}%\")\n",
    "print(f\"직업\\t\\t{str1[-6:-4]}\\t\\t{str2[-7:-4]}\")\n",
    "print(\"---------------------------------------\\n\")\n",
    "print(f\"캐릭터 레벨의 합은 {(int(str1[15:17]) + int(str2[14:16]))}입니다.\")\n"
   ]
  },
  {
   "cell_type": "code",
   "execution_count": null,
   "metadata": {
    "colab": {
     "base_uri": "https://localhost:8080/"
    },
    "executionInfo": {
     "elapsed": 11,
     "status": "ok",
     "timestamp": 1656499454269,
     "user": {
      "displayName": "0000 0",
      "userId": "07788809946542167650"
     },
     "user_tz": -540
    },
    "id": "Ym-rUxT66iHA",
    "outputId": "4320bf1f-ee61-4b31-f270-c118fecaed74"
   },
   "outputs": [
    {
     "name": "stdout",
     "output_type": "stream",
     "text": [
      "캐릭터 정보\n",
      "================================\n",
      "항목        캐릭터1      캐릭터2\n",
      "--------------------------------\n",
      "이름        홍길동       캔디\n",
      "레벨        50           49\n",
      "경험치      25.8%        87.2%\n",
      "직업        도적         마법사\n",
      "--------------------------------\n",
      "\n",
      "캐릭터 레벨의 합은 99입니다.\n"
     ]
    }
   ],
   "source": [
    "str1 = \"'홍길동' 캐릭터의 레벨은 50이며 현재 경험치는 25.8입니다. 직업은 도적입니다.\"\n",
    "str2 = \"'캔디' 캐릭터의 레벨은 49이며 현재 경험치는 87.2입니다. 직업은 마법사입니다.\"\n",
    "\n",
    "print(\"캐릭터 정보\")\n",
    "print(\"================================\")\n",
    "print(\"%-10s%-10s%s\"%(\"항목\", \"캐릭터1\", \"캐릭터2\"))\n",
    "print(\"--------------------------------\")\n",
    "print(\"%-10s%-10s%s\"%(\"이름\", str1[1:4], str2[1:3]))\n",
    "print(\"%-10s%-13s%s\"%(\"레벨\", str1[15:17], str2[14:16]))\n",
    "print(\"%-9s%-13s%s\"%(\"경험치\", str1[28:32] + \"%\", str2[27:31] + \"%\"))\n",
    "print(\"%-10s%-11s%s\"%(\"직업\", str1[-6:-4], str2[-7:-4]))\n",
    "print(\"--------------------------------\")\n",
    "print(\"\")\n",
    "print(f\"캐릭터 레벨의 합은 99입니다.\")"
   ]
  },
  {
   "cell_type": "markdown",
   "metadata": {
    "id": "SRpp1AZWHD8a"
   },
   "source": [
    "# 문자열 함수\n",
    "\n",
    "- len(문자열) : 문자열에 포함된 문자의 수를 반환\n",
    "- 문자열.count(문자) : 문자열에 포함된 해당 문자의 수를 반환합니다. \n",
    "\n",
    "- 문자열.index(문자) : 문자열에서 해당 문자의 첫 번째 위치를 반환. 없으면 오류 발생\n",
    "- 문자열.find(문자) : 문자열에서 해당 문자의 첫 번째 위치를 반환. 없으면 -1을 반환\n",
    "\n",
    "- 문자.join(문자열) : 문자열 사이에 문자를 추가한다. \n",
    "\n",
    "- 문자열.upper() : 영어 소문자를 대문자로 바꾼다.\n",
    "- 문자열.lower() : 영어 대문자를 소문자로 바꾼다. 한글에는 쓸모 없다. \n",
    "\n",
    "- 문자열.lstrip() : 왼쪽 공백을 제거한다. \n",
    "- 문자열.rstrip() : 오른쪽 공백을 제거한다.\n",
    "- 문자열.strip() : 양쪽의 공백을 제거한다. \n",
    "\n",
    "- 문자열.replace(\"문자1\", \"문자2\") : 문자열에 포함된 문자1을 문자2로 변경\n",
    "\n",
    "- 문자열.split(문자) : 문자열을 해당 문자를 기준으로 분리한다. "
   ]
  },
  {
   "cell_type": "code",
   "execution_count": null,
   "metadata": {
    "colab": {
     "base_uri": "https://localhost:8080/"
    },
    "executionInfo": {
     "elapsed": 478,
     "status": "ok",
     "timestamp": 1656577419058,
     "user": {
      "displayName": "0000 0",
      "userId": "07788809946542167650"
     },
     "user_tz": -540
    },
    "id": "VxlSupy2KlE9",
    "outputId": "df4e694d-15c4-44a7-c381-ad240c68c973"
   },
   "outputs": [
    {
     "name": "stdout",
     "output_type": "stream",
     "text": [
      "25\n",
      "2\n",
      "7\n",
      "7\n",
      "-1\n",
      "P|y|t|h|o|n| |i|s| |E|a|s|y| |a|n|d| |S|i|m|p|l|e\n",
      "PYTHON IS EASY AND SIMPLE\n",
      "python is easy and simple\n",
      "Python         \n",
      "   Python\n",
      "Python\n",
      "Java is Easy and Simple\n",
      "['Python', 'is', 'Easy', 'and', 'Simple']\n"
     ]
    }
   ],
   "source": [
    "str1 = \"Python is Easy and Simple\"\n",
    "\n",
    "# 문자의 개수\n",
    "print(len(str1)) # 공백 포함해서 문자의 개수를 센다.\n",
    "\n",
    "# 문자열에 i 문자가 몇개 있을까?\n",
    "# 단어 빈도는 텍스트 분석에서 중요하다. \n",
    "print(str1.count('i'))\n",
    "\n",
    "# 문자열에서 첫 번째 i 문자의 위치\n",
    "print(str1.index('i'))\n",
    "print(str1.find('i'))\n",
    "\n",
    "# print(str1.index('k'))\n",
    "print(str1.find('k'))\n",
    "\n",
    "# 문자 추가\n",
    "print(\"|\".join(str1)) # 잘 안쓴다.\n",
    "\n",
    "# 대소문자 변환\n",
    "print(str1.upper())\n",
    "print(str1.lower())\n",
    "\n",
    "# 공백 제거 (왼쪽 오른쪽 양쪽)\n",
    "str2 = \"   Python         \"\n",
    "\n",
    "print(str2.lstrip()) # 드래그하면 공백이 있는지 없는지 알 수 있다.\n",
    "print(str2.rstrip())\n",
    "print(str2.strip()) # strip에 rstrip, lstrip이 들어가 있다. 그래서 한쪽만 필요할때 그냥 strip을 쓰면 느리다.\n",
    "\n",
    "# 문자변환 - 텍스트 전처리, 카테고리화? 이런데에 쓴다고 함\n",
    "print(str1.replace(\"Python\", \"Java\"))\n",
    "\n",
    "# 문자열 분리 - 텍스트 분석에서 초기 단계의 단어분리에 주로 사용\n",
    "print(str1.split(\" \"))"
   ]
  },
  {
   "cell_type": "code",
   "execution_count": null,
   "metadata": {
    "colab": {
     "base_uri": "https://localhost:8080/"
    },
    "executionInfo": {
     "elapsed": 1,
     "status": "ok",
     "timestamp": 1656577419260,
     "user": {
      "displayName": "0000 0",
      "userId": "07788809946542167650"
     },
     "user_tz": -540
    },
    "id": "QpTdRGDQPvof",
    "outputId": "cbfd738d-bcbe-4a84-8752-1f750bff8230"
   },
   "outputs": [
    {
     "name": "stdout",
     "output_type": "stream",
     "text": [
      "30\n",
      "2\n",
      "12\n",
      "   홍길동 :    24      :   의적    \n",
      "['홍길동', '20', '의적']\n",
      "['홍길동']\n",
      "['홍길동', '20', '의적']\n"
     ]
    }
   ],
   "source": [
    "str3 = \"   홍길동 :    20      :   의적    \"\n",
    "print(len(str3))\n",
    "print(str3.count(\":\"))\n",
    "print(str3.index(\"2\"))\n",
    "print(str3.replace(\"20\", \"24\"))\n",
    "str3_1 = str3.split(\":\")\n",
    "str3_2 = str3_1[0].split() + str3_1[1].split() + str3_1[2].split() # 이게 왜 될까? split()에 아무것도 안 넣었을 때 공백은 다 제거된다. ?\n",
    "print(str3_2)\n",
    "print(str3_1[0].split())\n",
    "str3_3 = str3.replace(\" \", \"\")\n",
    "print(str3_3.split(\":\"))\n",
    "\n"
   ]
  },
  {
   "cell_type": "markdown",
   "metadata": {
    "id": "iK_c-sm6cNRZ"
   },
   "source": [
    "# 연산자\n",
    "\n",
    "- 산술연산자 : +, -, *, /, //(몫), %(나머지)\n",
    "- 지수연산자 : **\n",
    "- 대입(복합)연산자 : =, +=, -=, *=, /=, //=, %=\n",
    "- 관계연산자 혹은 비교연산자 : ==, !=, >, >=, < <=\n",
    "- 논리연산자 : and, or, not(부정논리)\n",
    "- 삼항연산자 : True일때 값 if 조건 else False일때 값"
   ]
  },
  {
   "cell_type": "code",
   "execution_count": null,
   "metadata": {
    "colab": {
     "base_uri": "https://localhost:8080/"
    },
    "executionInfo": {
     "elapsed": 232,
     "status": "ok",
     "timestamp": 1656566917036,
     "user": {
      "displayName": "0000 0",
      "userId": "07788809946542167650"
     },
     "user_tz": -540
    },
    "id": "nTrF8qAVdAxe",
    "outputId": "4f989faf-4750-48de-bc32-2f4e3436b71f"
   },
   "outputs": [
    {
     "name": "stdout",
     "output_type": "stream",
     "text": [
      "1020\n",
      "70\n"
     ]
    }
   ],
   "source": [
    "# + 연산자가 문자열을 만나면??? -> 연결연산자, 결합연산자\n",
    "# 연산자 overriding? 같은 모양의 연산자지만 상황에 따라 다른 기능을 하는 것\n",
    "num1 = \"10\"\n",
    "num2 = \"20\"\n",
    "num3 = 30\n",
    "num4 = 40\n",
    "\n",
    "print(num1 + num2)\n",
    "print(num3 + num4)"
   ]
  },
  {
   "cell_type": "code",
   "execution_count": null,
   "metadata": {
    "id": "sEtkQ0A3eDad"
   },
   "outputs": [],
   "source": [
    "# 문자열과 숫자를 더하면?\n",
    "# print(num1 + num3) #안 된다. 문자에 정수는 결합할 수 없다.\n",
    "# print(num3 + num1) #얘도 안 된다. 정수와 문자열의 + 연산은 지원하지 않는"
   ]
  },
  {
   "cell_type": "markdown",
   "metadata": {
    "id": "6OVgO55shpcN"
   },
   "source": [
    "# 형변환 함수\n",
    "\n",
    "- int() : 문자열 타입의 숫자를 정수타입으로 변환\n",
    "- str() : 숫자를 문자열로 변환\n",
    "- float() : 문자열을 실수로 변"
   ]
  },
  {
   "cell_type": "code",
   "execution_count": null,
   "metadata": {
    "colab": {
     "base_uri": "https://localhost:8080/"
    },
    "executionInfo": {
     "elapsed": 9,
     "status": "ok",
     "timestamp": 1656499454270,
     "user": {
      "displayName": "0000 0",
      "userId": "07788809946542167650"
     },
     "user_tz": -540
    },
    "id": "YRQvBIpph-pO",
    "outputId": "9eb40a81-06d9-4fad-9193-51731163001e"
   },
   "outputs": [
    {
     "name": "stdout",
     "output_type": "stream",
     "text": [
      "40\n",
      "40\n"
     ]
    }
   ],
   "source": [
    "# 문자열을 정수로 변환해야 더하기를 할 수 있다.\n",
    "\n",
    "print(int(num1) + num3)\n",
    "print(num3 + int(num1))"
   ]
  },
  {
   "cell_type": "code",
   "execution_count": null,
   "metadata": {
    "colab": {
     "base_uri": "https://localhost:8080/"
    },
    "executionInfo": {
     "elapsed": 9,
     "status": "ok",
     "timestamp": 1656499454270,
     "user": {
      "displayName": "0000 0",
      "userId": "07788809946542167650"
     },
     "user_tz": -540
    },
    "id": "TrZdEpSKiXSQ",
    "outputId": "1facf52f-76ad-4af1-aa80-076c600a1579"
   },
   "outputs": [
    {
     "name": "stdout",
     "output_type": "stream",
     "text": [
      "홍길동님은 20세 입니다\n"
     ]
    }
   ],
   "source": [
    "# 홍길동님은 20세 입니다.\n",
    "str1 = \"홍길동\"\n",
    "age = 20\n",
    "\n",
    "print(str1 + \"님은 \" + str(age) + \"세 입니다\")"
   ]
  },
  {
   "cell_type": "markdown",
   "metadata": {
    "id": "vRQvMJRpkNs6"
   },
   "source": [
    "# input() : 값을 입력받는 함수\n",
    "- 기본적으로 문자열로 입력받는다."
   ]
  },
  {
   "cell_type": "code",
   "execution_count": null,
   "metadata": {
    "colab": {
     "base_uri": "https://localhost:8080/"
    },
    "executionInfo": {
     "elapsed": 2345,
     "status": "ok",
     "timestamp": 1656499469894,
     "user": {
      "displayName": "0000 0",
      "userId": "07788809946542167650"
     },
     "user_tz": -540
    },
    "id": "E8EJe2ihkYnF",
    "outputId": "5bc35645-4fc7-4f40-a528-e036168ba1b4"
   },
   "outputs": [
    {
     "name": "stdout",
     "output_type": "stream",
     "text": [
      "13\n",
      "13\n"
     ]
    }
   ],
   "source": [
    "num1 = input()\n",
    "\n",
    "print(num1)"
   ]
  },
  {
   "cell_type": "code",
   "execution_count": null,
   "metadata": {
    "colab": {
     "base_uri": "https://localhost:8080/"
    },
    "executionInfo": {
     "elapsed": 1740,
     "status": "ok",
     "timestamp": 1656499475904,
     "user": {
      "displayName": "0000 0",
      "userId": "07788809946542167650"
     },
     "user_tz": -540
    },
    "id": "28ye0sQOk35E",
    "outputId": "1d2c459e-f765-4c31-d098-064f8cc72226"
   },
   "outputs": [
    {
     "name": "stdout",
     "output_type": "stream",
     "text": [
      "값을 입력하세요 >> 2\n",
      "2\n"
     ]
    }
   ],
   "source": [
    "# 입력받을 때 메시지를 추가\n",
    "num2 = input(\"값을 입력하세요 >> \")\n",
    "\n",
    "print(num2)"
   ]
  },
  {
   "cell_type": "code",
   "execution_count": null,
   "metadata": {
    "colab": {
     "base_uri": "https://localhost:8080/"
    },
    "executionInfo": {
     "elapsed": 3114,
     "status": "ok",
     "timestamp": 1656499481483,
     "user": {
      "displayName": "0000 0",
      "userId": "07788809946542167650"
     },
     "user_tz": -540
    },
    "id": "HXiR-MkelMaU",
    "outputId": "b36f886d-0597-4d84-a78a-a47df1e977ba"
   },
   "outputs": [
    {
     "name": "stdout",
     "output_type": "stream",
     "text": [
      "num1 = 3\n",
      "num2 = 3\n",
      "더하기 결과 : 6\n",
      "빼기 결과 : 0\n",
      "곱하기 결과 : 9\n",
      "나누기 결과 : 1.000\n",
      "나누기 결과 : 1.000000\n",
      "나누기 결과 : 1.0000\n"
     ]
    }
   ],
   "source": [
    "num1 = int(input(\"num1 = \"))\n",
    "num2 = int(input(\"num2 = \"))\n",
    "\n",
    "print(f\"더하기 결과 : {num1 + num2}\")\n",
    "print(f\"빼기 결과 : {num1 - num2}\")\n",
    "print(f\"곱하기 결과 : {num1 * num2}\")\n",
    "print(\"나누기 결과 : {:.3f}\".format(num1 / num2)) # format() 함수로 출력 형식을 설정하려면 :을 쓴다.\n",
    "print(\"나누기 결과 : %f\"%(num1 / num2)) # %f는 소수점 6째자리까지 나타낸다.\n",
    "print(\"나누기 결과 : %.4f\"%(num1 / num2)) "
   ]
  },
  {
   "cell_type": "code",
   "execution_count": null,
   "metadata": {
    "colab": {
     "base_uri": "https://localhost:8080/"
    },
    "executionInfo": {
     "elapsed": 5310,
     "status": "ok",
     "timestamp": 1656567922439,
     "user": {
      "displayName": "0000 0",
      "userId": "07788809946542167650"
     },
     "user_tz": -540
    },
    "id": "0e2fseYCBfQ6",
    "outputId": "a3329a37-b4d5-44ae-8740-e30243c71ed7"
   },
   "outputs": [
    {
     "name": "stdout",
     "output_type": "stream",
     "text": [
      "시간 입력 >> 7533\n",
      "2시간 5분 33초\n"
     ]
    }
   ],
   "source": [
    "timeK = int(input(\"시간 입력 >> \"))\n",
    "hour = timeK // 3600\n",
    "minute = timeK % 3600 // 60\n",
    "second = timeK % 60\n",
    "print(f\"{hour}시간 {minute}분 {second}초\")"
   ]
  },
  {
   "cell_type": "code",
   "execution_count": 6,
   "metadata": {
    "colab": {
     "base_uri": "https://localhost:8080/"
    },
    "executionInfo": {
     "elapsed": 351,
     "status": "ok",
     "timestamp": 1656568507677,
     "user": {
      "displayName": "0000 0",
      "userId": "07788809946542167650"
     },
     "user_tz": -540
    },
    "id": "eU-5gn2Sp6rY",
    "outputId": "7a984de9-d554-43d7-97cd-ee992de8f021"
   },
   "outputs": [
    {
     "name": "stdout",
     "output_type": "stream",
     "text": [
      "2022년 8월 16일 1시 56분 39초\n"
     ]
    }
   ],
   "source": [
    "import time\n",
    "\n",
    "#nowTime = int(input(\"시간 입력 >> \"))\n",
    "nowTime = int(time.time()) # 지금 시간 초 단위로 가져오기\n",
    "\n",
    "hour = nowTime % (24 * 60 * 60) // 3600\n",
    "\n",
    "minute = nowTime % (60 * 60) // 60\n",
    "\n",
    "second = nowTime % 60\n",
    "\n",
    "totalDay = nowTime // (24 * 60 * 60) # 총 날수\n",
    "\n",
    "thisYear = int((719529 + totalDay) // 365.2425) # 올해. 구하느라 힘들었다.\n",
    "\n",
    "thisYearDay = totalDay # 올해의 날수\n",
    "\n",
    "yearK = 1970 # 기준년\n",
    "\n",
    "yunYear = False # F는 평년, T는 윤년\n",
    "\n",
    "month = 0\n",
    "\n",
    "day = 0\n",
    "\n",
    "while True: # 올해의 날수 구하기. 윤년이면 총 날수에서 365일이 아니라 366일을 뺀다.\n",
    "  if (yearK < thisYear):\n",
    "    if (yearK % 400 == 0):\n",
    "      thisYearDay -= 366\n",
    "    elif (yearK % 100 == 0):\n",
    "      thisYearDay -=365\n",
    "    elif (yearK % 4 == 0):\n",
    "      thisYearDay -=366\n",
    "    else:\n",
    "      thisYearDay -=365\n",
    "    yearK += 1\n",
    "  else:\n",
    "    break\n",
    "\n",
    "if (thisYear % 400 == 0): # 윤년 여부 판단\n",
    "  yunYear = True\n",
    "elif (thisYear % 100 == 0):\n",
    "  yunYear = False\n",
    "elif (thisYear % 4 == 0):\n",
    "  yunYear = True\n",
    "else:\n",
    "  yunYear = False\n",
    "\n",
    "if (~yunYear): # 평년이면 2월은 28일까지\n",
    "  if (thisYearDay < 31):\n",
    "    month = 1\n",
    "    day = 1 + thisYearDay # 날짜는 1년 시작하자마자 1일이기 때문에 1을 더해야 한다.\n",
    "  elif (thisYearDay < 31 + 28):\n",
    "    month = 2\n",
    "    day = 1 + thisYearDay - (31)\n",
    "  elif (thisYearDay < 31 + 28 + 31):\n",
    "    month = 3\n",
    "    day = 1 + thisYearDay - (31 + 28)\n",
    "  elif (thisYearDay < 31 + 28 + 31 + 30):\n",
    "    month = 4\n",
    "    day = 1 + thisYearDay - (31 + 28 + 31)\n",
    "  elif (thisYearDay < 31 + 28 + 31 + 30 + 31):\n",
    "    month = 5\n",
    "    day = 1 + thisYearDay - (31 + 28 + 31 + 30)\n",
    "  elif (thisYearDay < 31 + 28 + 31 + 30 + 31 + 30):\n",
    "    month = 6\n",
    "    day = 1 + thisYearDay - (31 + 28 + 31 + 30 + 31)\n",
    "  elif (thisYearDay < 31 + 28 + 31 + 30 + 31 + 30 + 31):\n",
    "    month = 7\n",
    "    day = 1 + thisYearDay - (31 + 28 + 31 + 30 + 31 + 30)\n",
    "  elif (thisYearDay < 31 + 28 + 31 + 30 + 31 + 30 + 31 + 31):\n",
    "    month = 8\n",
    "    day = 1 + thisYearDay - (31 + 28 + 31 + 30 + 31 + 30 + 31)\n",
    "  elif (thisYearDay < 31 + 28 + 31 + 30 + 31 + 30 + 31 + 31 + 30):\n",
    "    month = 9\n",
    "    day = 1 + thisYearDay - (31 + 28 + 31 + 30 + 31 + 30 + 31 + 31)\n",
    "  elif (thisYearDay < 31 + 28 + 31 + 30 + 31 + 30 + 31 + 31 + 30 + 31):\n",
    "    month = 10\n",
    "    day = 1 + thisYearDay - (31 + 28 + 31 + 30 + 31 + 30 + 31 + 31 + 30)\n",
    "  elif (thisYearDay < 31 + 28 + 31 + 30 + 31 + 30 + 31 + 31 + 30 + 31 + 30):\n",
    "    month = 11\n",
    "    day = 1 + thisYearDay - (31 + 28 + 31 + 30 + 31 + 30 + 31 + 31 + 30 + 31)\n",
    "  elif (thisYearDay < 31 + 28 + 31 + 30 + 31 + 30 + 31 + 31 + 30 + 31 + 30 + 31):\n",
    "    month = 12\n",
    "    day = 1 + thisYearDay - (31 + 28 + 31 + 30 + 31 + 30 + 31 + 31 + 30 + 31 + 30)\n",
    "else: # 윤년이면 2월은 29일 까지\n",
    "  if (thisYearDay < 31):\n",
    "    month = 1\n",
    "    day = 1 + thisYearDay\n",
    "  elif (thisYearDay < 31 + 29):\n",
    "    month = 2\n",
    "    day = 1 + thisYearDay - (31)\n",
    "  elif (thisYearDay < 31 + 29 + 31):\n",
    "    month = 3\n",
    "    day = 1 + thisYearDay - (31 + 29)\n",
    "  elif (thisYearDay < 31 + 29 + 31 + 30):\n",
    "    month = 4\n",
    "    day = 1 + thisYearDay - (31 + 29 + 31)\n",
    "  elif (thisYearDay < 31 + 29 + 31 + 30 + 31):\n",
    "    month = 5\n",
    "    day = 1 + thisYearDay - (31 + 29 + 31 + 30)\n",
    "  elif (thisYearDay < 31 + 29 + 31 + 30 + 31 + 30):\n",
    "    month = 6\n",
    "    day = 1 + thisYearDay - (31 + 29 + 31 + 30 + 31)\n",
    "  elif (thisYearDay < 31 + 29 + 31 + 30 + 31 + 30 + 31):\n",
    "    month = 7\n",
    "    day = 1 + thisYearDay - (31 + 29 + 31 + 30 + 31 + 30)\n",
    "  elif (thisYearDay < 31 + 29 + 31 + 30 + 31 + 30 + 31 + 31):\n",
    "    month = 8\n",
    "    day = 1 + thisYearDay - (31 + 29 + 31 + 30 + 31 + 30 + 31)\n",
    "  elif (thisYearDay < 31 + 29 + 31 + 30 + 31 + 30 + 31 + 31 + 30):\n",
    "    month = 9\n",
    "    day = 1 + thisYearDay - (31 + 29 + 31 + 30 + 31 + 30 + 31 + 31)\n",
    "  elif (thisYearDay < 31 + 29 + 31 + 30 + 31 + 30 + 31 + 31 + 30 + 31):\n",
    "    month = 10\n",
    "    day = 1 + thisYearDay - (31 + 29 + 31 + 30 + 31 + 30 + 31 + 31 + 30)\n",
    "  elif (thisYearDay < 31 + 29 + 31 + 30 + 31 + 30 + 31 + 31 + 30 + 31 + 30):\n",
    "    month = 11\n",
    "    day = 1 + thisYearDay - (31 + 29 + 31 + 30 + 31 + 30 + 31 + 31 + 30 + 31)\n",
    "  elif (thisYearDay < 31 + 29 + 31 + 30 + 31 + 30 + 31 + 31 + 30 + 31 + 30 + 31):\n",
    "    month = 12\n",
    "    day = 1 + thisYearDay - ( 31 + 29 + 31 + 30 + 31 + 30 + 31 + 31 + 30 + 31 + 30) # 너무 반복되는게 많다. 어떻게 줄일 수 있을까.\n",
    "\n",
    "print(f\"{thisYear}년 {month}월 {day}일 {hour}시 {minute}분 {second}초\")"
   ]
  },
  {
   "cell_type": "code",
   "execution_count": null,
   "metadata": {
    "colab": {
     "base_uri": "https://localhost:8080/"
    },
    "executionInfo": {
     "elapsed": 225,
     "status": "ok",
     "timestamp": 1656568696170,
     "user": {
      "displayName": "0000 0",
      "userId": "07788809946542167650"
     },
     "user_tz": -540
    },
    "id": "JssAoJXDLVWr",
    "outputId": "d64cf8d3-a94e-424b-f680-4cf41f373681"
   },
   "outputs": [
    {
     "name": "stdout",
     "output_type": "stream",
     "text": [
      "====================\n",
      "회원관리\n",
      "--------------------\n"
     ]
    }
   ],
   "source": [
    "# 문자열이 *연산자를 만나면? *는 반복 연산자가 된다.\n",
    "\n",
    "s = \"=\"\n",
    "\n",
    "print(s * 20)\n",
    "print(\"회원관리\")\n",
    "print(\"-\" * 20)\n"
   ]
  },
  {
   "cell_type": "markdown",
   "metadata": {
    "id": "SugiUQdaMF9n"
   },
   "source": [
    "# 지수 연산자 : 제곱을 한다."
   ]
  },
  {
   "cell_type": "code",
   "execution_count": null,
   "metadata": {
    "colab": {
     "base_uri": "https://localhost:8080/"
    },
    "executionInfo": {
     "elapsed": 213,
     "status": "ok",
     "timestamp": 1656568789909,
     "user": {
      "displayName": "0000 0",
      "userId": "07788809946542167650"
     },
     "user_tz": -540
    },
    "id": "dgROSfdZMJgX",
    "outputId": "1d9187f3-8a01-4e23-e3bf-e9b1761ecfee"
   },
   "outputs": [
    {
     "name": "stdout",
     "output_type": "stream",
     "text": [
      "1000\n"
     ]
    }
   ],
   "source": [
    "num1 = 10\n",
    "num2 = 3\n",
    "print(num1**num2)"
   ]
  },
  {
   "cell_type": "code",
   "execution_count": null,
   "metadata": {
    "colab": {
     "base_uri": "https://localhost:8080/"
    },
    "executionInfo": {
     "elapsed": 2989,
     "status": "ok",
     "timestamp": 1656569767691,
     "user": {
      "displayName": "0000 0",
      "userId": "07788809946542167650"
     },
     "user_tz": -540
    },
    "id": "JRAKYCZwMbiq",
    "outputId": "5ae24ae8-2708-487b-f2c8-b093c0b317ee"
   },
   "outputs": [
    {
     "name": "stdout",
     "output_type": "stream",
     "text": [
      "반지름 = 3.2\n",
      "원의 넓이 = 32.154\n"
     ]
    }
   ],
   "source": [
    "# <실습> 원의 반지름(실수값)을 입력 받아서 원의 넓이를 구하는 코드를 작성해보세요\n",
    "\n",
    "radius = float(input(\"반지름 = \"))\n",
    "\n",
    "print(\"원의 넓이 = {:.3f}\".format(radius ** 2 * 3.14))"
   ]
  },
  {
   "cell_type": "markdown",
   "metadata": {
    "id": "QEerL1OFQsHb"
   },
   "source": [
    "# 대입연산자 대입복합연산자\n",
    "\n",
    "- 대입연산자 : =\n",
    "- 대입복합연산자 : += -= *= /= //= %=\n",
    "  - a = a + 10 ▶ a += 10\n",
    "  "
   ]
  },
  {
   "cell_type": "markdown",
   "metadata": {
    "id": "eTuiXxOVTOKt"
   },
   "source": [
    "# 치환 : 두 변수의 값을 맞바꾸기"
   ]
  },
  {
   "cell_type": "code",
   "execution_count": null,
   "metadata": {
    "colab": {
     "base_uri": "https://localhost:8080/"
    },
    "executionInfo": {
     "elapsed": 237,
     "status": "ok",
     "timestamp": 1656570670615,
     "user": {
      "displayName": "0000 0",
      "userId": "07788809946542167650"
     },
     "user_tz": -540
    },
    "id": "UK8xIGqGTRw6",
    "outputId": "0faff8b8-b53f-4df1-eeae-168ed1bb0790"
   },
   "outputs": [
    {
     "name": "stdout",
     "output_type": "stream",
     "text": [
      "2 1\n"
     ]
    }
   ],
   "source": [
    "A = 1\n",
    "B = 2\n",
    "\n",
    "C = A\n",
    "A = B\n",
    "B = C\n",
    "\n",
    "print(A, B) # C 나 JAVA는 이렇게 함"
   ]
  },
  {
   "cell_type": "code",
   "execution_count": null,
   "metadata": {
    "colab": {
     "base_uri": "https://localhost:8080/"
    },
    "executionInfo": {
     "elapsed": 216,
     "status": "ok",
     "timestamp": 1656570707651,
     "user": {
      "displayName": "0000 0",
      "userId": "07788809946542167650"
     },
     "user_tz": -540
    },
    "id": "U40PnoqXTmsG",
    "outputId": "c9d9d97b-7c90-4bb1-8c6f-e8defb77a744"
   },
   "outputs": [
    {
     "name": "stdout",
     "output_type": "stream",
     "text": [
      "1 2\n"
     ]
    }
   ],
   "source": [
    "A, B = 1, 2\n",
    "\n",
    "print(A, B)"
   ]
  },
  {
   "cell_type": "code",
   "execution_count": null,
   "metadata": {
    "colab": {
     "base_uri": "https://localhost:8080/"
    },
    "executionInfo": {
     "elapsed": 206,
     "status": "ok",
     "timestamp": 1656570743816,
     "user": {
      "displayName": "0000 0",
      "userId": "07788809946542167650"
     },
     "user_tz": -540
    },
    "id": "hyXjR-CsTvxg",
    "outputId": "b3c30220-cdec-4a88-da8d-911c39af15d5"
   },
   "outputs": [
    {
     "name": "stdout",
     "output_type": "stream",
     "text": [
      "1 2\n"
     ]
    }
   ],
   "source": [
    "A ,B = B , A\n",
    "\n",
    "print(A, B)"
   ]
  },
  {
   "cell_type": "markdown",
   "metadata": {
    "id": "w0prVxPqULwJ"
   },
   "source": [
    "# 비교 연산자 : 크기를 비교한다. 결과는 True, False\n",
    "\n",
    "- == != > >= < <="
   ]
  },
  {
   "cell_type": "code",
   "execution_count": null,
   "metadata": {
    "colab": {
     "base_uri": "https://localhost:8080/"
    },
    "executionInfo": {
     "elapsed": 2,
     "status": "ok",
     "timestamp": 1656571040987,
     "user": {
      "displayName": "0000 0",
      "userId": "07788809946542167650"
     },
     "user_tz": -540
    },
    "id": "bwuqezgZUcwr",
    "outputId": "3c5b9b72-867b-4796-a3c4-b580eab0d82a"
   },
   "outputs": [
    {
     "name": "stdout",
     "output_type": "stream",
     "text": [
      "False\n",
      "True\n",
      "False\n",
      "True\n",
      "False\n",
      "True\n"
     ]
    }
   ],
   "source": [
    "a = 100\n",
    "b = 200 \n",
    "c = 200\n",
    "\n",
    "print(a == b)\n",
    "print(a != b)\n",
    "print(b > c)\n",
    "print(b >= c)\n",
    "print(b < c)\n",
    "print(b <= c)"
   ]
  },
  {
   "cell_type": "markdown",
   "metadata": {
    "id": "fJyS7wFTVXpx"
   },
   "source": [
    "# 논리연산자 : 두 개의 논리를 비교하여 결과를 판단\n",
    "\n",
    "- and : 두 개의 논리가 True인 경우만 결과가 True인 논리\n",
    "- or : 두개의 논리가 False인 경우만 결과가 False인 논리\n",
    "- not : 부정논리 True이면 False, False이면 True"
   ]
  },
  {
   "cell_type": "code",
   "execution_count": null,
   "metadata": {
    "colab": {
     "base_uri": "https://localhost:8080/"
    },
    "executionInfo": {
     "elapsed": 211,
     "status": "ok",
     "timestamp": 1656571511219,
     "user": {
      "displayName": "0000 0",
      "userId": "07788809946542167650"
     },
     "user_tz": -540
    },
    "id": "KsFYfEjJV1Xa",
    "outputId": "bfef7821-1b5a-451a-943f-3d36d2bae21b"
   },
   "outputs": [
    {
     "name": "stdout",
     "output_type": "stream",
     "text": [
      "False\n",
      "False\n",
      "False\n",
      "True\n"
     ]
    }
   ],
   "source": [
    "a = 100\n",
    "b = 200 \n",
    "c = 200\n",
    "\n",
    "# and\n",
    "print(a == b and a > b)\n",
    "print(a == b and a < b)\n",
    "print(a != b and a > b)\n",
    "print(a != b and a < b)\n",
    "\n"
   ]
  },
  {
   "cell_type": "code",
   "execution_count": null,
   "metadata": {
    "colab": {
     "base_uri": "https://localhost:8080/"
    },
    "executionInfo": {
     "elapsed": 218,
     "status": "ok",
     "timestamp": 1656571693508,
     "user": {
      "displayName": "0000 0",
      "userId": "07788809946542167650"
     },
     "user_tz": -540
    },
    "id": "75M06y0gWz62",
    "outputId": "8953a949-a2a4-4b65-eb91-3814e50c1da1"
   },
   "outputs": [
    {
     "name": "stdout",
     "output_type": "stream",
     "text": [
      "False\n",
      "True\n",
      "True\n",
      "True\n"
     ]
    }
   ],
   "source": [
    "a = 100\n",
    "b = 200 \n",
    "c = 200\n",
    "\n",
    "# or\n",
    "print(a == b or a > b)\n",
    "print(a == b or a < b)\n",
    "print(a != b or a > b)\n",
    "print(a != b or a < b)"
   ]
  },
  {
   "cell_type": "code",
   "execution_count": null,
   "metadata": {
    "colab": {
     "base_uri": "https://localhost:8080/"
    },
    "executionInfo": {
     "elapsed": 367,
     "status": "ok",
     "timestamp": 1656571716716,
     "user": {
      "displayName": "0000 0",
      "userId": "07788809946542167650"
     },
     "user_tz": -540
    },
    "id": "m_onKc9tXga4",
    "outputId": "931640d8-7b87-4ea6-e808-cee5c040a934"
   },
   "outputs": [
    {
     "name": "stdout",
     "output_type": "stream",
     "text": [
      "True\n"
     ]
    }
   ],
   "source": [
    "a = 100\n",
    "b = 200 \n",
    "c = 200\n",
    "\n",
    "# not\n",
    "\n",
    "print(not a == b)"
   ]
  },
  {
   "cell_type": "markdown",
   "metadata": {
    "id": "V_kjG46hXzEp"
   },
   "source": [
    "# 삼항 연산자\n",
    "\n",
    "- True일때 값 if 조건 else False일때 값"
   ]
  },
  {
   "cell_type": "code",
   "execution_count": null,
   "metadata": {
    "colab": {
     "base_uri": "https://localhost:8080/"
    },
    "executionInfo": {
     "elapsed": 211,
     "status": "ok",
     "timestamp": 1656571932455,
     "user": {
      "displayName": "0000 0",
      "userId": "07788809946542167650"
     },
     "user_tz": -540
    },
    "id": "2AX4QKDoX6DF",
    "outputId": "f9bb2a3f-9722-4fd4-c1b6-57712e1f5dd3"
   },
   "outputs": [
    {
     "name": "stdout",
     "output_type": "stream",
     "text": [
      "even number\n"
     ]
    }
   ],
   "source": [
    "num1 = 20\n",
    "\n",
    "result = \"even number\" if num1 %2 == 0 else \"odd number\"\n",
    "\n",
    "print(result)"
   ]
  },
  {
   "cell_type": "code",
   "execution_count": null,
   "metadata": {
    "colab": {
     "base_uri": "https://localhost:8080/"
    },
    "executionInfo": {
     "elapsed": 2678,
     "status": "ok",
     "timestamp": 1656573162632,
     "user": {
      "displayName": "0000 0",
      "userId": "07788809946542167650"
     },
     "user_tz": -540
    },
    "id": "tiuJ1EQ-Y0sh",
    "outputId": "02f930db-d8f8-478c-d3ce-d9533d8cdb2f"
   },
   "outputs": [
    {
     "name": "stdout",
     "output_type": "stream",
     "text": [
      "첫 번째 정수 입력 >> 1\n",
      "두 번째 정수 입력 >> 2\n",
      "두 수의 차 >> 1\n"
     ]
    }
   ],
   "source": [
    "num1 = int(input(\"첫 번째 정수 입력 >> \"))\n",
    "num2 = int(input(\"두 번째 정수 입력 >> \"))\n",
    "\n",
    "result = num2 - num1 if num1 < num2 else num1 - num2\n",
    "print(\"두 수의 차 >> {}\".format(result))"
   ]
  },
  {
   "cell_type": "markdown",
   "metadata": {
    "id": "hi0Xs8HmgSEI"
   },
   "source": [
    "# 조건문 : 조건에 따라 실행\n",
    "\n",
    " - 키워드 : if elif else\n",
    " "
   ]
  },
  {
   "cell_type": "code",
   "execution_count": null,
   "metadata": {
    "colab": {
     "base_uri": "https://localhost:8080/"
    },
    "executionInfo": {
     "elapsed": 212,
     "status": "ok",
     "timestamp": 1656574236745,
     "user": {
      "displayName": "0000 0",
      "userId": "07788809946542167650"
     },
     "user_tz": -540
    },
    "id": "sL1193viga9U",
    "outputId": "c95818cd-0c92-41ef-a8ce-b36a48ac6feb"
   },
   "outputs": [
    {
     "name": "stdout",
     "output_type": "stream",
     "text": [
      "버스를 탄다\n",
      "출발\n"
     ]
    }
   ],
   "source": [
    "# if \n",
    "\n",
    "money = 7000\n",
    "\n",
    "# 만약 money가 10000원 이상이면 택시를 탄다. \n",
    "if money >= 10000:\n",
    "  print(\"택시를 탄다\")\n",
    "\n",
    "\n",
    "# 만약 money가 10000원 미만이면 버스를 탄다. \n",
    "if money < 10000:\n",
    "  print(\"버스를 탄다\")\n",
    "\n",
    "# 들여쓰기를 안해서 if랑 상관없다. \n",
    "\n",
    "print(\"출발\")"
   ]
  },
  {
   "cell_type": "code",
   "execution_count": null,
   "metadata": {
    "colab": {
     "base_uri": "https://localhost:8080/"
    },
    "executionInfo": {
     "elapsed": 2273,
     "status": "ok",
     "timestamp": 1656574495571,
     "user": {
      "displayName": "0000 0",
      "userId": "07788809946542167650"
     },
     "user_tz": -540
    },
    "id": "P3KmYM_Hg99B",
    "outputId": "8d45ad13-df56-43d2-fe8b-bf22d963c085"
   },
   "outputs": [
    {
     "name": "stdout",
     "output_type": "stream",
     "text": [
      "정수 써봐 >> 13\n",
      "홀수야\n"
     ]
    }
   ],
   "source": [
    "# 실습 : 숫자를 입력받아서 짝수인지 홀수인지 출력하기\n",
    "\n",
    "inputData = int(input(\"정수 써봐 >> \"))\n",
    "\n",
    "if inputData%2 == 0:\n",
    "  print(\"짝수야\")\n",
    "\n",
    "if inputData%2 != 0:\n",
    "  print(\"홀수야\")"
   ]
  },
  {
   "cell_type": "code",
   "execution_count": null,
   "metadata": {
    "colab": {
     "base_uri": "https://localhost:8080/"
    },
    "executionInfo": {
     "elapsed": 247,
     "status": "ok",
     "timestamp": 1656574916815,
     "user": {
      "displayName": "0000 0",
      "userId": "07788809946542167650"
     },
     "user_tz": -540
    },
    "id": "r5ZCiX5xjiL8",
    "outputId": "7794e57d-a94a-4622-c875-fef132724da0"
   },
   "outputs": [
    {
     "name": "stdout",
     "output_type": "stream",
     "text": [
      "버스를 탄다\n"
     ]
    }
   ],
   "source": [
    "money = 9999\n",
    "\n",
    "if money < 10000:\n",
    "  print(\"버스를 탄다\")\n",
    "else:\n",
    "  print(\"택시를 탄다\")"
   ]
  },
  {
   "cell_type": "code",
   "execution_count": null,
   "metadata": {
    "colab": {
     "base_uri": "https://localhost:8080/"
    },
    "executionInfo": {
     "elapsed": 2493,
     "status": "ok",
     "timestamp": 1656575236008,
     "user": {
      "displayName": "0000 0",
      "userId": "07788809946542167650"
     },
     "user_tz": -540
    },
    "id": "WfPsXpHMkSfM",
    "outputId": "694a02da-040f-498e-a846-39d3e50ebffa"
   },
   "outputs": [
    {
     "name": "stdout",
     "output_type": "stream",
     "text": [
      "num = 13\n",
      "3과 5의 배수가 아닙니다\n"
     ]
    }
   ],
   "source": [
    "num = int(input(\"num = \"))\n",
    "\n",
    "if num % 5 != 0 or num % 3 != 0:\n",
    "  print(\"num은 3과 5의 배수가 아닙니다\")\n",
    "else:\n",
    "  print(\"num은 3과 5의 배수입니다\")"
   ]
  },
  {
   "cell_type": "code",
   "execution_count": null,
   "metadata": {
    "colab": {
     "base_uri": "https://localhost:8080/"
    },
    "executionInfo": {
     "elapsed": 2749,
     "status": "ok",
     "timestamp": 1656576982932,
     "user": {
      "displayName": "0000 0",
      "userId": "07788809946542167650"
     },
     "user_tz": -540
    },
    "id": "HPKoB-i7nbUZ",
    "outputId": "bfbf3b56-9be6-44b4-ede5-cde4a7bf0763"
   },
   "outputs": [
    {
     "name": "stdout",
     "output_type": "stream",
     "text": [
      "이거 몇개냐? 1\n",
      "저거는 몇갠데? 1\n",
      "똑같네\n"
     ]
    }
   ],
   "source": [
    "num1 = int(input(\"이거 몇 개냐? \"))\n",
    "num2 = int(input(\"저거는 몇 갠데? \"))\n",
    "\n",
    "if num1 < num2:\n",
    "  print(\"저게 더 많네\")\n",
    "elif num2 < num1:\n",
    "  print(\"이게 더 많네\")\n",
    "else:\n",
    "  print(\"똑같네\")"
   ]
  },
  {
   "cell_type": "code",
   "execution_count": null,
   "metadata": {
    "colab": {
     "base_uri": "https://localhost:8080/"
    },
    "executionInfo": {
     "elapsed": 2747,
     "status": "ok",
     "timestamp": 1656577572017,
     "user": {
      "displayName": "0000 0",
      "userId": "07788809946542167650"
     },
     "user_tz": -540
    },
    "id": "oIpSPpHZreaq",
    "outputId": "3c8cf05d-b8c7-4e17-f92d-8eb1edf61261"
   },
   "outputs": [
    {
     "name": "stdout",
     "output_type": "stream",
     "text": [
      "이름 >> 이영웅\n",
      "이씨입니다\n"
     ]
    }
   ],
   "source": [
    "# <실습> 사람 이름을 입력받아서 김씨인지 박씨인지 다른 성씨인지 알아내기\n",
    "\n",
    "inputName = input(\"이름 >> \")\n",
    "\n",
    "if inputName.find(\"김\") == 0:\n",
    "  print(\"김씨입니다\")\n",
    "elif inputName.find(\"이\") == 0:\n",
    "  print(\"이씨입니다\")\n",
    "elif inputName.find(\"박\") == 0:\n",
    "  print(\"박씨입니다\")\n",
    "else:\n",
    "  print(\"다른 성씨입니다\")"
   ]
  },
  {
   "cell_type": "code",
   "execution_count": 9,
   "metadata": {
    "colab": {
     "base_uri": "https://localhost:8080/"
    },
    "executionInfo": {
     "elapsed": 5574,
     "status": "ok",
     "timestamp": 1656657952594,
     "user": {
      "displayName": "0000 0",
      "userId": "07788809946542167650"
     },
     "user_tz": -540
    },
    "id": "1f6VN4hnxQpr",
    "outputId": "9e8fc54a-7012-481b-d3e8-69bf75de3b62"
   },
   "outputs": [
    {
     "name": "stdout",
     "output_type": "stream",
     "text": [
      "-----[Coffee Maker}-----\n",
      "현금 투입구 >> 13000\n",
      "커피를 고르세요\n",
      "[1]에스프레소 700원 [2]아메리카노 1100원 [3]헤이즐넛 1300원 >> 3\n",
      "거스름돈 11700원\n",
      "1000원 X 11\n",
      "500원 X 1\n",
      "100원 X 2\n"
     ]
    }
   ],
   "source": [
    "print(\"-----[Coffee Maker}-----\")\n",
    "inputMoney = int(input(\"현금 투입구 >> \"))\n",
    "print(\"커피를 고르세요\")\n",
    "inputMenu = int(input(\"[1]에스프레소 700원 [2]아메리카노 1100원 [3]헤이즐넛 1300원 >> \"))\n",
    "\n",
    "if inputMenu == 1:\n",
    "  price = 700\n",
    "elif inputMenu == 2:\n",
    "  price = 1100\n",
    "elif inputMenu == 3:\n",
    "  price = 1300\n",
    "\n",
    "if inputMoney < price:\n",
    "  print(\"돈이 부족해요\")\n",
    "else:\n",
    "  print(\"거스름돈 {}원\".format(inputMoney - price))\n",
    "  print(\"1000원 X {}\".format((inputMoney - price)//1000))\n",
    "  print(\"500원 X {}\".format((inputMoney - price)%1000//500))\n",
    "  print(\"100원 X {}\".format((inputMoney - price)%500//100))\n",
    "\n"
   ]
  }
 ],
 "metadata": {
  "colab": {
   "authorship_tag": "ABX9TyM3uxlhnr1tL2XCYjmBnD8h",
   "collapsed_sections": [
    "jR7mAkcWksEJ",
    "p5E0sbHb2AAy",
    "_QM6fdjlAI2M",
    "t7xexQWvFhCs",
    "xNwg2Np2Np_q",
    "cH5gjNrcZuLj",
    "SRpp1AZWHD8a",
    "iK_c-sm6cNRZ",
    "6OVgO55shpcN",
    "vRQvMJRpkNs6",
    "SugiUQdaMF9n",
    "eTuiXxOVTOKt",
    "w0prVxPqULwJ",
    "fJyS7wFTVXpx"
   ],
   "name": "파이썬01.ipynb",
   "provenance": []
  },
  "kernelspec": {
   "display_name": "Python 3 (ipykernel)",
   "language": "python",
   "name": "python3"
  },
  "language_info": {
   "codemirror_mode": {
    "name": "ipython",
    "version": 3
   },
   "file_extension": ".py",
   "mimetype": "text/x-python",
   "name": "python",
   "nbconvert_exporter": "python",
   "pygments_lexer": "ipython3",
   "version": "3.9.12"
  }
 },
 "nbformat": 4,
 "nbformat_minor": 1
}
