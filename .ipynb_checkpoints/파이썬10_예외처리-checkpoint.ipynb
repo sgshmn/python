{
 "cells": [
  {
   "cell_type": "markdown",
   "id": "4a98e635",
   "metadata": {},
   "source": [
    "# 예외처리(Exception)\n",
    "\n",
    "- 외부의 상황에 의해 오류가 발생할 때를 대비하는 것\n",
    "    - 잘 못 입력할 때(예 : 숫자를 넣어야하는데 문자를 넣을 때), 출력 장치가 없을 때, 통신이 끊어질 때, 파일이 없을 때, 클래스가 없을 때, 배열의 인덱스가 범위를 넘을 때, 숫자를 0으로 나눌 때 등등 너무 많다\n",
    "\n",
    "- try : 예외가 발생할 가능성이 있는 코드를 작성\n",
    "- except : try 에서 예외가 발생하면 실행하는 코드를 작성\n",
    "- else : try 에서 예외가 없으면 실행하는 코드를 작성\n",
    "- finally : 항상 마지막에 실행하는 코드를 작성\n",
    "- 주로 try, except만 쓴다 "
   ]
  },
  {
   "cell_type": "markdown",
   "id": "efd34a1c",
   "metadata": {},
   "source": [
    "- 숫자를 0으로 나눌 때"
   ]
  },
  {
   "cell_type": "code",
   "execution_count": 7,
   "id": "26711d65",
   "metadata": {},
   "outputs": [
    {
     "name": "stdout",
     "output_type": "stream",
     "text": [
      "수학 다시 배워라\n"
     ]
    }
   ],
   "source": [
    "try:\n",
    "    14 / 0\n",
    "except:\n",
    "    print(\"수학 다시 배워라\")"
   ]
  },
  {
   "cell_type": "markdown",
   "id": "a2a78143",
   "metadata": {},
   "source": [
    "- except 뒤에 에러의 종류를 쓰면 그 에러만 처리한다"
   ]
  },
  {
   "cell_type": "code",
   "execution_count": 10,
   "id": "3443bb9a",
   "metadata": {},
   "outputs": [
    {
     "name": "stdout",
     "output_type": "stream",
     "text": [
      "인덱스 넘겼다\n"
     ]
    }
   ],
   "source": [
    "import numpy as np\n",
    "\n",
    "try:\n",
    "    arr1 = np.array([1, 2, 3, 4])\n",
    "    print(arr1[10])\n",
    "    \n",
    "except ZeroDivisionError:\n",
    "    print(\"0으로 나누기\")\n",
    "    \n",
    "except IndexError:\n",
    "    print(\"인덱스 넘겼다\")"
   ]
  },
  {
   "cell_type": "markdown",
   "id": "265c2735",
   "metadata": {},
   "source": [
    "- 에러의 종류\n",
    "    - ZeroDivisionError : 숫자를 0으로 나눔\n",
    "    - IndexError : 나열형 데이터에서 인덱스의 범위를 넘김\n",
    "    - TypeError : 데이터의 타입이 틀렸음\n",
    "    - SyntaxError : 문법이 틀렸음 또는 오타\n",
    "    - NameError : 참조한 변수가 없음\n",
    "    - ValueError : 참조값이 없음\n",
    "    - KeyError : 딕셔너리에서 키가 없음\n",
    "    - AtrributeError : 모듈이나 클래스에서 속성이나 변수를 잘 못 씀\n",
    "    - FileNotFoundError : 파일이 없음\n",
    "    - 더 있다"
   ]
  },
  {
   "cell_type": "markdown",
   "id": "5728eeec",
   "metadata": {},
   "source": [
    "## 실습\n",
    "- input()으로 2개의 숫자를 입력한다\n",
    "- 2개의 합을 구하는 함수를 작성한다\n",
    "- 그 함수에서 문자를 넣으면 예외로 처리한다\n",
    "- 전체 프로그램은 클래스를 이용해서 구현"
   ]
  },
  {
   "cell_type": "code",
   "execution_count": 28,
   "id": "96b52c08",
   "metadata": {},
   "outputs": [],
   "source": [
    "class tryPractice:\n",
    "    \n",
    "    def inputN(self):\n",
    "        try:\n",
    "            self.n1 = int(input(\"n1 = \"))\n",
    "            self.n2 = int(input(\"n2 = \"))\n",
    "        except ValueError:\n",
    "            print('잘 못 넣었네')\n",
    "    def hapN(self):\n",
    "        try : \n",
    "            return self.n1 + self.n2\n",
    "        except AttributeError:\n",
    "            print(\"잘 못 넣어서 이것도 안 되네\")"
   ]
  },
  {
   "cell_type": "code",
   "execution_count": 29,
   "id": "85821f6a",
   "metadata": {},
   "outputs": [
    {
     "name": "stdout",
     "output_type": "stream",
     "text": [
      "n1 = 3\n",
      "n2 = ㅁ\n",
      "잘 못 넣었네\n",
      "잘 못 넣어서 이것도 안 되네\n"
     ]
    }
   ],
   "source": [
    "prac1 = tryPractice()\n",
    "\n",
    "prac1.inputN()\n",
    "prac1.hapN()"
   ]
  },
  {
   "cell_type": "markdown",
   "id": "9a2e3c6d",
   "metadata": {},
   "source": [
    "- 예외의 종류를 출력"
   ]
  },
  {
   "cell_type": "code",
   "execution_count": 33,
   "id": "63c8a0b8",
   "metadata": {},
   "outputs": [
    {
     "name": "stdout",
     "output_type": "stream",
     "text": [
      "unsupported operand type(s) for +: 'int' and 'list'\n"
     ]
    }
   ],
   "source": [
    "try:\n",
    "    10 + [3]\n",
    "except Exception as e:\n",
    "    print(e)"
   ]
  },
  {
   "cell_type": "code",
   "execution_count": null,
   "id": "83a5acb3",
   "metadata": {},
   "outputs": [],
   "source": []
  },
  {
   "cell_type": "code",
   "execution_count": null,
   "id": "7d67a811",
   "metadata": {},
   "outputs": [],
   "source": []
  },
  {
   "cell_type": "code",
   "execution_count": null,
   "id": "6c66ae6c",
   "metadata": {},
   "outputs": [],
   "source": []
  },
  {
   "cell_type": "code",
   "execution_count": null,
   "id": "0d56cb83",
   "metadata": {},
   "outputs": [],
   "source": []
  },
  {
   "cell_type": "code",
   "execution_count": null,
   "id": "581a2f57",
   "metadata": {},
   "outputs": [],
   "source": []
  },
  {
   "cell_type": "code",
   "execution_count": null,
   "id": "de83093e",
   "metadata": {},
   "outputs": [],
   "source": []
  },
  {
   "cell_type": "code",
   "execution_count": null,
   "id": "b3ea3d0d",
   "metadata": {},
   "outputs": [],
   "source": []
  },
  {
   "cell_type": "code",
   "execution_count": null,
   "id": "a1c5d482",
   "metadata": {},
   "outputs": [],
   "source": []
  },
  {
   "cell_type": "code",
   "execution_count": null,
   "id": "807bcbde",
   "metadata": {},
   "outputs": [],
   "source": []
  },
  {
   "cell_type": "code",
   "execution_count": null,
   "id": "a18cbc43",
   "metadata": {},
   "outputs": [],
   "source": []
  },
  {
   "cell_type": "code",
   "execution_count": null,
   "id": "fb2443b1",
   "metadata": {},
   "outputs": [],
   "source": []
  },
  {
   "cell_type": "code",
   "execution_count": null,
   "id": "eb08931a",
   "metadata": {},
   "outputs": [],
   "source": []
  },
  {
   "cell_type": "code",
   "execution_count": null,
   "id": "75279fc4",
   "metadata": {},
   "outputs": [],
   "source": []
  },
  {
   "cell_type": "code",
   "execution_count": null,
   "id": "12137ee7",
   "metadata": {},
   "outputs": [],
   "source": []
  },
  {
   "cell_type": "code",
   "execution_count": null,
   "id": "4583c042",
   "metadata": {},
   "outputs": [],
   "source": []
  },
  {
   "cell_type": "code",
   "execution_count": null,
   "id": "9e3ba907",
   "metadata": {},
   "outputs": [],
   "source": []
  },
  {
   "cell_type": "code",
   "execution_count": null,
   "id": "2f54cebe",
   "metadata": {},
   "outputs": [],
   "source": []
  },
  {
   "cell_type": "code",
   "execution_count": null,
   "id": "18459d0e",
   "metadata": {},
   "outputs": [],
   "source": []
  },
  {
   "cell_type": "code",
   "execution_count": null,
   "id": "0c737248",
   "metadata": {},
   "outputs": [],
   "source": []
  },
  {
   "cell_type": "code",
   "execution_count": null,
   "id": "d0de8884",
   "metadata": {},
   "outputs": [],
   "source": []
  },
  {
   "cell_type": "code",
   "execution_count": null,
   "id": "4873a597",
   "metadata": {},
   "outputs": [],
   "source": []
  },
  {
   "cell_type": "code",
   "execution_count": null,
   "id": "5eb3e1f2",
   "metadata": {},
   "outputs": [],
   "source": []
  },
  {
   "cell_type": "code",
   "execution_count": null,
   "id": "517ba01d",
   "metadata": {},
   "outputs": [],
   "source": []
  },
  {
   "cell_type": "code",
   "execution_count": null,
   "id": "4c830e7d",
   "metadata": {},
   "outputs": [],
   "source": []
  },
  {
   "cell_type": "code",
   "execution_count": null,
   "id": "2e2a9052",
   "metadata": {},
   "outputs": [],
   "source": []
  },
  {
   "cell_type": "code",
   "execution_count": null,
   "id": "91b6238e",
   "metadata": {},
   "outputs": [],
   "source": []
  },
  {
   "cell_type": "code",
   "execution_count": null,
   "id": "2a7afe1d",
   "metadata": {},
   "outputs": [],
   "source": []
  },
  {
   "cell_type": "code",
   "execution_count": null,
   "id": "ad0afbb7",
   "metadata": {},
   "outputs": [],
   "source": []
  },
  {
   "cell_type": "code",
   "execution_count": null,
   "id": "eede4ff7",
   "metadata": {},
   "outputs": [],
   "source": []
  },
  {
   "cell_type": "code",
   "execution_count": null,
   "id": "9ac773a9",
   "metadata": {},
   "outputs": [],
   "source": []
  },
  {
   "cell_type": "code",
   "execution_count": null,
   "id": "625c1063",
   "metadata": {},
   "outputs": [],
   "source": []
  },
  {
   "cell_type": "code",
   "execution_count": null,
   "id": "171c9537",
   "metadata": {},
   "outputs": [],
   "source": []
  },
  {
   "cell_type": "code",
   "execution_count": null,
   "id": "ae2a7b35",
   "metadata": {},
   "outputs": [],
   "source": []
  },
  {
   "cell_type": "code",
   "execution_count": null,
   "id": "ae5557ac",
   "metadata": {},
   "outputs": [],
   "source": []
  },
  {
   "cell_type": "code",
   "execution_count": null,
   "id": "7aa6be6d",
   "metadata": {},
   "outputs": [],
   "source": []
  },
  {
   "cell_type": "code",
   "execution_count": null,
   "id": "fc2bb424",
   "metadata": {},
   "outputs": [],
   "source": []
  },
  {
   "cell_type": "code",
   "execution_count": null,
   "id": "365376a2",
   "metadata": {},
   "outputs": [],
   "source": []
  }
 ],
 "metadata": {
  "kernelspec": {
   "display_name": "Python 3 (ipykernel)",
   "language": "python",
   "name": "python3"
  },
  "language_info": {
   "codemirror_mode": {
    "name": "ipython",
    "version": 3
   },
   "file_extension": ".py",
   "mimetype": "text/x-python",
   "name": "python",
   "nbconvert_exporter": "python",
   "pygments_lexer": "ipython3",
   "version": "3.9.12"
  }
 },
 "nbformat": 4,
 "nbformat_minor": 5
}
