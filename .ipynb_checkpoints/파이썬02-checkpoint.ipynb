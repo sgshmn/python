{
 "cells": [
  {
   "cell_type": "markdown",
   "metadata": {
    "id": "HBM9zWAUnEvF"
   },
   "source": [
    "# 리스트 (list)\n",
    "- 하나의 변수에 여러개의 값(요소)을 저장하는 데이터타입\n",
    "- 순서가 있는 인덱스가 있다. (왼쪽 끝에서 0부터 1씩 증가, 오르쪽 끝에서 -1부터 -1씩 증가)\n",
    "- 대괄호를 사용해서 요소를 정의\n",
    "- 요소는 쉼표(,)로 구분\n",
    "- 요소 추가, 수정, 삭제 가능\n",
    "- 모든 데이터 타입 저장 가능\n",
    "- 다른 리스트를 요소로 저장할 수 있다. "
   ]
  },
  {
   "cell_type": "code",
   "execution_count": null,
   "metadata": {
    "colab": {
     "base_uri": "https://localhost:8080/"
    },
    "executionInfo": {
     "elapsed": 5,
     "status": "ok",
     "timestamp": 1656660947265,
     "user": {
      "displayName": "0000 0",
      "userId": "07788809946542167650"
     },
     "user_tz": -540
    },
    "id": "ymR0ysTxrufp",
    "outputId": "2dfad5fb-b4f3-44f8-ad6d-3e947d13b89a"
   },
   "outputs": [
    {
     "name": "stdout",
     "output_type": "stream",
     "text": [
      "[]\n"
     ]
    }
   ],
   "source": [
    "# 빈 리스트 정의\n",
    "list1 = []\n",
    "\n",
    "print(list1)"
   ]
  },
  {
   "cell_type": "code",
   "execution_count": null,
   "metadata": {
    "colab": {
     "base_uri": "https://localhost:8080/"
    },
    "executionInfo": {
     "elapsed": 3,
     "status": "ok",
     "timestamp": 1656661011643,
     "user": {
      "displayName": "0000 0",
      "userId": "07788809946542167650"
     },
     "user_tz": -540
    },
    "id": "xjTUS1UMr-yW",
    "outputId": "f423275f-8d50-4a26-cd0d-1de616932e11"
   },
   "outputs": [
    {
     "name": "stdout",
     "output_type": "stream",
     "text": [
      "[2, 3123, 412, 31, 674354]\n"
     ]
    }
   ],
   "source": [
    "# 숫자를 저장\n",
    "list2 = [2, 3123, 412, 31, 674354]\n",
    "\n",
    "print(list2)"
   ]
  },
  {
   "cell_type": "code",
   "execution_count": null,
   "metadata": {
    "colab": {
     "base_uri": "https://localhost:8080/"
    },
    "executionInfo": {
     "elapsed": 3,
     "status": "ok",
     "timestamp": 1656661085220,
     "user": {
      "displayName": "0000 0",
      "userId": "07788809946542167650"
     },
     "user_tz": -540
    },
    "id": "7nq0Q-wssOh8",
    "outputId": "2e29f69a-4f6b-49b7-8801-f1c4cdfde04f"
   },
   "outputs": [
    {
     "name": "stdout",
     "output_type": "stream",
     "text": [
      "['soccer', 'basketball', 'rugby']\n"
     ]
    }
   ],
   "source": [
    "# 문자열 저장\n",
    "list3 = [\"soccer\", \"basketball\", \"rugby\"]\n",
    "\n",
    "print(list3)"
   ]
  },
  {
   "cell_type": "code",
   "execution_count": null,
   "metadata": {
    "colab": {
     "base_uri": "https://localhost:8080/"
    },
    "executionInfo": {
     "elapsed": 6,
     "status": "ok",
     "timestamp": 1656661195554,
     "user": {
      "displayName": "0000 0",
      "userId": "07788809946542167650"
     },
     "user_tz": -540
    },
    "id": "CzRMiZBhsgee",
    "outputId": "448f8c8f-1155-4566-f571-284c80d16f39"
   },
   "outputs": [
    {
     "name": "stdout",
     "output_type": "stream",
     "text": [
      "[11, 2.71, '김정은', False]\n"
     ]
    }
   ],
   "source": [
    "# 여러가지 타입의 데이터를 동시에 저장\n",
    "list4 = [11, 2.71, \"김정은\", False]\n",
    "\n",
    "print(list4)"
   ]
  },
  {
   "cell_type": "code",
   "execution_count": null,
   "metadata": {
    "colab": {
     "base_uri": "https://localhost:8080/"
    },
    "executionInfo": {
     "elapsed": 4,
     "status": "ok",
     "timestamp": 1656661364415,
     "user": {
      "displayName": "0000 0",
      "userId": "07788809946542167650"
     },
     "user_tz": -540
    },
    "id": "qYaI-P9zs7cc",
    "outputId": "25a8247d-3f39-4325-a073-c9b6ef9ed4ff"
   },
   "outputs": [
    {
     "name": "stdout",
     "output_type": "stream",
     "text": [
      "[[2, 3123, 412, 31, 674354], [11, 2.71, '김정은', False]]\n"
     ]
    }
   ],
   "source": [
    "# 리스트를 요소로 저장 가능\n",
    "list5 = [list2, list4]\n",
    "\n",
    "print(list5)"
   ]
  },
  {
   "cell_type": "markdown",
   "metadata": {
    "id": "ZgCT--GqtrIW"
   },
   "source": [
    "# 리스트 요소 검색\n",
    "\n",
    "- 인덱싱\n",
    "- 슬라이싱"
   ]
  },
  {
   "cell_type": "code",
   "execution_count": 3,
   "metadata": {
    "colab": {
     "base_uri": "https://localhost:8080/"
    },
    "executionInfo": {
     "elapsed": 2,
     "status": "ok",
     "timestamp": 1656661642357,
     "user": {
      "displayName": "0000 0",
      "userId": "07788809946542167650"
     },
     "user_tz": -540
    },
    "id": "-jkLxswotuSY",
    "outputId": "3eb0f26c-9a35-4ca1-dad5-202ee9430e4d"
   },
   "outputs": [
    {
     "name": "stdout",
     "output_type": "stream",
     "text": [
      "14\n",
      "14\n",
      "21\n"
     ]
    }
   ],
   "source": [
    "list6 = [2, 5, 7, 9, 10, 14, 16, 20]\n",
    "\n",
    "# 14가져오기\n",
    "print(list6[-3])\n",
    "print(list6[5])\n",
    "\n",
    "print(list6[1] + list6[-2])"
   ]
  },
  {
   "cell_type": "code",
   "execution_count": null,
   "metadata": {
    "colab": {
     "base_uri": "https://localhost:8080/"
    },
    "executionInfo": {
     "elapsed": 4,
     "status": "ok",
     "timestamp": 1656662103777,
     "user": {
      "displayName": "0000 0",
      "userId": "07788809946542167650"
     },
     "user_tz": -540
    },
    "id": "pIhul9NsuohF",
    "outputId": "941f7231-721d-4d48-e2c1-ebd5d38e8012"
   },
   "outputs": [
    {
     "name": "stdout",
     "output_type": "stream",
     "text": [
      "y\n",
      "th\n"
     ]
    }
   ],
   "source": [
    "list7 = [2, 5, 7, \"Python\"]\n",
    "\n",
    "#y 만 출력\n",
    "\n",
    "print(list7[-1][1])\n",
    "\n",
    "# th 만 출력\n",
    "print(list7[-1][2:4])"
   ]
  },
  {
   "cell_type": "code",
   "execution_count": null,
   "metadata": {
    "colab": {
     "base_uri": "https://localhost:8080/"
    },
    "executionInfo": {
     "elapsed": 7,
     "status": "ok",
     "timestamp": 1656662224364,
     "user": {
      "displayName": "0000 0",
      "userId": "07788809946542167650"
     },
     "user_tz": -540
    },
    "id": "YX_viG7BwZKH",
    "outputId": "2aa28ad4-83a9-46f2-97ca-81cf5a8f0738"
   },
   "outputs": [
    {
     "name": "stdout",
     "output_type": "stream",
     "text": [
      "16\n"
     ]
    }
   ],
   "source": [
    "list8 = [[2, 5, 7, 9], 10, [14, 16, 20]]\n",
    "\n",
    "# 16\n",
    "print(list8[-1][1])"
   ]
  },
  {
   "cell_type": "code",
   "execution_count": null,
   "metadata": {
    "colab": {
     "base_uri": "https://localhost:8080/"
    },
    "executionInfo": {
     "elapsed": 2,
     "status": "ok",
     "timestamp": 1656663254319,
     "user": {
      "displayName": "0000 0",
      "userId": "07788809946542167650"
     },
     "user_tz": -540
    },
    "id": "HlIQskN7w2mn",
    "outputId": "81a2a0d5-b78b-485e-c590-dfadf38577a4"
   },
   "outputs": [
    {
     "name": "stdout",
     "output_type": "stream",
     "text": [
      "동\n",
      "순\n"
     ]
    }
   ],
   "source": [
    "list9 = [[2, 5, 7, \"김유신\"], \"홍길동\", [14, \"이순신\", 20]]\n",
    "\n",
    "# 동\n",
    "print(list9[1][2])\n",
    "\n",
    "# 순\n",
    "print(list9[2][1][1])"
   ]
  },
  {
   "cell_type": "markdown",
   "metadata": {
    "id": "cw-aRt3T3fY1"
   },
   "source": [
    "- 리스트 + 리스트 하면 리스트리스트 가 된다. 연결연산자 또는 결합연산자"
   ]
  },
  {
   "cell_type": "code",
   "execution_count": 1,
   "metadata": {
    "colab": {
     "base_uri": "https://localhost:8080/"
    },
    "executionInfo": {
     "elapsed": 369,
     "status": "ok",
     "timestamp": 1656664342248,
     "user": {
      "displayName": "0000 0",
      "userId": "07788809946542167650"
     },
     "user_tz": -540
    },
    "id": "4fwon1Jj3p0C",
    "outputId": "80b98632-f1cd-4eb5-e695-266517149922"
   },
   "outputs": [
    {
     "name": "stdout",
     "output_type": "stream",
     "text": [
      "[1, 2, 3, 3, 4, 5]\n",
      "[3, 3, 4, 5]\n"
     ]
    }
   ],
   "source": [
    "list10 = [1, 2, 3]\n",
    "list11 = [3, 4, 5]\n",
    "\n",
    "list13 = list10 + list11\n",
    "# 3345만 출력\n",
    "print(list13[2:])"
   ]
  },
  {
   "cell_type": "markdown",
   "metadata": {
    "id": "awQaudB_5QYV"
   },
   "source": [
    "# 요소 추가하기\n",
    "\n",
    "- 리스트명.append(값) : 리스트의 오른쪽 끝에 값을 추가한다. \n",
    "- 리스트명.insert(인덱스,값) : 해당 인덱스에 값을 삽입한다. "
   ]
  },
  {
   "cell_type": "code",
   "execution_count": 4,
   "metadata": {
    "colab": {
     "base_uri": "https://localhost:8080/"
    },
    "executionInfo": {
     "elapsed": 336,
     "status": "ok",
     "timestamp": 1656664656387,
     "user": {
      "displayName": "0000 0",
      "userId": "07788809946542167650"
     },
     "user_tz": -540
    },
    "id": "Fyr8leVW5oQn",
    "outputId": "ce656ec6-1120-4e72-9684-984d9571876a"
   },
   "outputs": [
    {
     "name": "stdout",
     "output_type": "stream",
     "text": [
      "['홍길동', '김유신', '이순신']\n"
     ]
    }
   ],
   "source": [
    "list15 = [\"홍길동\", \"김유신\"]\n",
    "\n",
    "# 이순신을 추가\n",
    "list15.append(\"이순신\")\n",
    "\n",
    "print(list15)"
   ]
  },
  {
   "cell_type": "code",
   "execution_count": 5,
   "metadata": {
    "colab": {
     "base_uri": "https://localhost:8080/"
    },
    "executionInfo": {
     "elapsed": 347,
     "status": "ok",
     "timestamp": 1656664701665,
     "user": {
      "displayName": "0000 0",
      "userId": "07788809946542167650"
     },
     "user_tz": -540
    },
    "id": "S8L6HuUn6Ia2",
    "outputId": "2c02678e-e1d9-48b4-e1a4-34b04aca0b81"
   },
   "outputs": [
    {
     "name": "stdout",
     "output_type": "stream",
     "text": [
      "['마당쇠', '홍길동', '김유신', '이순신']\n"
     ]
    }
   ],
   "source": [
    "# 0번 인덱스에 마당쇠를 추가\n",
    "list15.insert(0, \"마당쇠\")\n",
    "\n",
    "print(list15)"
   ]
  },
  {
   "cell_type": "code",
   "execution_count": null,
   "metadata": {
    "colab": {
     "base_uri": "https://localhost:8080/"
    },
    "executionInfo": {
     "elapsed": 330,
     "status": "ok",
     "timestamp": 1656664931342,
     "user": {
      "displayName": "0000 0",
      "userId": "07788809946542167650"
     },
     "user_tz": -540
    },
    "id": "HDbtJAzK6TeP",
    "outputId": "5245b3cf-a056-44a0-99d0-77dd48c540be"
   },
   "outputs": [
    {
     "name": "stdout",
     "output_type": "stream",
     "text": [
      "['백두산', '금강산', '한라산']\n"
     ]
    }
   ],
   "source": [
    "# <실습> \n",
    "# 1 빈 리스트 list20을 생성\n",
    "list20 = []\n",
    "\n",
    "# 2 list20에 \"백두산\"과 \"한라산\" 추가\n",
    "list20.append(\"백두산\")\n",
    "list20.append(\"한라산\")\n",
    "\n",
    "# 3 list20의 1번 인덱스에 \"금강산\" 추가\n",
    "list20.insert(1, \"금강산\")\n",
    "\n",
    "print(list20)"
   ]
  },
  {
   "cell_type": "code",
   "execution_count": 1,
   "metadata": {
    "colab": {
     "base_uri": "https://localhost:8080/"
    },
    "executionInfo": {
     "elapsed": 15396,
     "status": "ok",
     "timestamp": 1657108494703,
     "user": {
      "displayName": "0000 0",
      "userId": "07788809946542167650"
     },
     "user_tz": -540
    },
    "id": "StiG-zywXA_Z",
    "outputId": "4890955d-75ba-4fcc-e4a1-607746c02f02"
   },
   "outputs": [
    {
     "name": "stdout",
     "output_type": "stream",
     "text": [
      "치즈 달걀 감자\n",
      "<class 'list'>\n"
     ]
    }
   ],
   "source": [
    "foods = input().split()\n",
    "\n",
    "print(type(foods))"
   ]
  },
  {
   "cell_type": "markdown",
   "metadata": {},
   "source": [
    "# 요소 변경하기\n",
    "- 해당 요소의 인덱스를 지정해서 값을 넣어주면 기존값이 변경\n",
    "- 슬라이싱을 이용해서 값을 변경할 때는 요소의 개수에 주의"
   ]
  },
  {
   "cell_type": "code",
   "execution_count": 1,
   "metadata": {},
   "outputs": [
    {
     "name": "stdout",
     "output_type": "stream",
     "text": [
      "['양용승', '김건도', '장영주', '고정수']\n"
     ]
    }
   ],
   "source": [
    "list30 = [\"양용승\", \"김명훈\", \"장영주\", \"고정수\"]\n",
    "\n",
    "# 김명훈을 김건도로 변경\n",
    "list30[1] = \"김건도\"\n",
    "\n",
    "print(list30)"
   ]
  },
  {
   "cell_type": "code",
   "execution_count": 2,
   "metadata": {},
   "outputs": [
    {
     "data": {
      "text/plain": [
       "['용승', '건도', '영주', '고정수']"
      ]
     },
     "execution_count": 2,
     "metadata": {},
     "output_type": "execute_result"
    }
   ],
   "source": [
    "# 양용승을 용승, 김건도를 건도, 장영주는 영주로 변경\n",
    "\n",
    "list30[0:3] = ['용승', '건도', '영주']\n",
    "\n",
    "list30"
   ]
  },
  {
   "cell_type": "code",
   "execution_count": 3,
   "metadata": {},
   "outputs": [
    {
     "data": {
      "text/plain": [
       "['용', '승', '만', '세', '건도', '영주', '고정수']"
      ]
     },
     "execution_count": 3,
     "metadata": {},
     "output_type": "execute_result"
    }
   ],
   "source": [
    "# 용승을 용승만세로 변경 -> 문자가 하나씩 요소로 들어간다\n",
    "list31 = list30.copy()\n",
    "\n",
    "list31[0:1] = '용승만세'\n",
    "\n",
    "list31\n"
   ]
  },
  {
   "cell_type": "code",
   "execution_count": 6,
   "metadata": {},
   "outputs": [
    {
     "data": {
      "text/plain": [
       "[31, '건도', '영주', '고정수']"
      ]
     },
     "execution_count": 6,
     "metadata": {},
     "output_type": "execute_result"
    }
   ],
   "source": [
    "list32 = list30.copy()\n",
    "\n",
    "#용승을 30으로 변경\n",
    "list32[0] = 30\n",
    "\n",
    "list32\n",
    "\n",
    "# list32[0:1] = 31\n",
    "# can only assign an iterable : 반복할 수 있는 값만 허용한다\n",
    "# 슬라이싱을 하면 자료형은 리스트이다 정수형 자료형을 넣으면 오류가 생긴다\n",
    "\n",
    "list32[0:1] = [31] \n",
    "\n",
    "list32 "
   ]
  },
  {
   "cell_type": "code",
   "execution_count": 7,
   "metadata": {},
   "outputs": [
    {
     "data": {
      "text/plain": [
       "['용승만세', '건도', '영주', '고정수']"
      ]
     },
     "execution_count": 7,
     "metadata": {},
     "output_type": "execute_result"
    }
   ],
   "source": [
    "list33 = list30.copy()\n",
    "\n",
    "list33[0:1] = [\"용승만세\"]\n",
    "\n",
    "list33"
   ]
  },
  {
   "cell_type": "code",
   "execution_count": 8,
   "metadata": {},
   "outputs": [
    {
     "data": {
      "text/plain": [
       "['용승만세', '고정수']"
      ]
     },
     "execution_count": 8,
     "metadata": {},
     "output_type": "execute_result"
    }
   ],
   "source": [
    "# [\"용승만세\", \"용승만세\", \"용승만세\", \"고정수\"]\n",
    "list34 = list30.copy()\n",
    "\n",
    "# 슬라이싱한 요소의 개수가 넣는 값의 요소의 개수와 다르면 넣는 데이터의 요소 개수로 변한다\n",
    "list34[0:3] = [\"용승만세\"]\n",
    "\n",
    "list34"
   ]
  },
  {
   "cell_type": "markdown",
   "metadata": {},
   "source": [
    "# 요소 삭제\n",
    "- del 리스트명.[인덱스] : 인덱스, 슬라이싱으로 삭제\n",
    "- 리스트명.remove(요소값) : 요소값으로 삭세\n",
    "    - 같은 요소가 여러개라면 첫 번째 요소만 삭제\n",
    "    - 값이 없으면 오류발생"
   ]
  },
  {
   "cell_type": "code",
   "execution_count": 2,
   "metadata": {},
   "outputs": [
    {
     "data": {
      "text/plain": [
       "[10, 30, 30, 34, 53, 45, 22, 53, 2, 42]"
      ]
     },
     "execution_count": 2,
     "metadata": {},
     "output_type": "execute_result"
    }
   ],
   "source": [
    "list30 = [10, 30, 40, 30, 34, 53, 45, 22, 53, 2, 42]\n",
    "\n",
    "# 2번 인덱스의 요소 삭제\n",
    "del list30[2]\n",
    "\n",
    "list30"
   ]
  },
  {
   "cell_type": "code",
   "execution_count": 3,
   "metadata": {},
   "outputs": [
    {
     "data": {
      "text/plain": [
       "[10, 30, 30, 34, 53, 45]"
      ]
     },
     "execution_count": 3,
     "metadata": {},
     "output_type": "execute_result"
    }
   ],
   "source": [
    "# 슬라이싱으로 범위를 지정해서 삭제\n",
    "#[22, 53, 2, 42]\n",
    "\n",
    "del list30[-4:]\n",
    "\n",
    "list30"
   ]
  },
  {
   "cell_type": "code",
   "execution_count": 4,
   "metadata": {},
   "outputs": [
    {
     "data": {
      "text/plain": [
       "[10, 40, 30, 34, 53, 45, 22, 53, 2, 42]"
      ]
     },
     "execution_count": 4,
     "metadata": {},
     "output_type": "execute_result"
    }
   ],
   "source": [
    "list30 = [10, 30, 40, 30, 34, 53, 45, 22, 53, 2, 42]\n",
    "\n",
    "# 30을 삭제 - 첫번째 요소만 삭제\n",
    "list30.remove(30)\n",
    "\n",
    "list30\n",
    "\n",
    "# 리스트 겁나 느리다"
   ]
  },
  {
   "cell_type": "code",
   "execution_count": 5,
   "metadata": {},
   "outputs": [
    {
     "ename": "ValueError",
     "evalue": "list.remove(x): x not in list",
     "output_type": "error",
     "traceback": [
      "\u001b[1;31m---------------------------------------------------------------------------\u001b[0m",
      "\u001b[1;31mValueError\u001b[0m                                Traceback (most recent call last)",
      "Input \u001b[1;32mIn [5]\u001b[0m, in \u001b[0;36m<cell line: 1>\u001b[1;34m()\u001b[0m\n\u001b[1;32m----> 1\u001b[0m \u001b[43mlist30\u001b[49m\u001b[38;5;241;43m.\u001b[39;49m\u001b[43mremove\u001b[49m\u001b[43m(\u001b[49m\u001b[38;5;241;43m130\u001b[39;49m\u001b[43m)\u001b[49m\n",
      "\u001b[1;31mValueError\u001b[0m: list.remove(x): x not in list"
     ]
    }
   ],
   "source": [
    "# 없는 요소를 삭제하려고 하면 오류 발생\n",
    "# list30.remove(130)\n"
   ]
  },
  {
   "cell_type": "code",
   "execution_count": 6,
   "metadata": {},
   "outputs": [
    {
     "name": "stdout",
     "output_type": "stream",
     "text": [
      "리스트에 해당 요소가 없습니다\n"
     ]
    }
   ],
   "source": [
    "# 리스트에 해당 요소가 있을 때만 삭제해야함\n",
    "# 130 in list30 : 130이 list30에 있으면 True를 반환\n",
    "if 130 in list30:\n",
    "    list30.remove(130)\n",
    "else:\n",
    "    print(\"리스트에 해당 요소가 없습니다\")"
   ]
  },
  {
   "cell_type": "markdown",
   "metadata": {},
   "source": [
    "# 리스트에서 자주 사용하는 함수\n",
    "\n",
    "- sort() : 오름차순 정렬\n",
    "    - 숫자, 영어, 한글이 있으면 숫자, 영어, 한글 순서로 정렬\n",
    "- reverse() : 인덱스의 순서를 받대로 정렬(순서 뒤집기)\n",
    "- index(요소) : 요소의 인덱스를 반환 얜 오류가 뜰 수 있다\n",
    "- pop() : 마지막 인덱스의 요소를 반환하고 삭제\n",
    "- len() : 리스트의 요소수를 반환"
   ]
  },
  {
   "cell_type": "code",
   "execution_count": 15,
   "metadata": {},
   "outputs": [
    {
     "data": {
      "text/plain": [
       "[2, 10, 22, 30, 30, 34, 40, 42, 45, 53, 53]"
      ]
     },
     "execution_count": 15,
     "metadata": {},
     "output_type": "execute_result"
    }
   ],
   "source": [
    "list30 = [10, 30, 40, 30, 34, 53, 45, 22, 53, 2, 42]\n",
    "\n",
    "# 오름차순 정렬\n",
    "list30.sort()\n",
    "\n",
    "list30"
   ]
  },
  {
   "cell_type": "code",
   "execution_count": 16,
   "metadata": {},
   "outputs": [
    {
     "data": {
      "text/plain": [
       "[53, 53, 45, 42, 40, 34, 30, 30, 22, 10, 2]"
      ]
     },
     "execution_count": 16,
     "metadata": {},
     "output_type": "execute_result"
    }
   ],
   "source": [
    "# 내리차순 정렬\n",
    "list30.reverse()\n",
    "\n",
    "list30"
   ]
  },
  {
   "cell_type": "code",
   "execution_count": 17,
   "metadata": {},
   "outputs": [
    {
     "data": {
      "text/plain": [
       "2"
      ]
     },
     "execution_count": 17,
     "metadata": {},
     "output_type": "execute_result"
    }
   ],
   "source": [
    "list30.index(45)"
   ]
  },
  {
   "cell_type": "code",
   "execution_count": 13,
   "metadata": {},
   "outputs": [],
   "source": [
    "# list30.index(100) 오류"
   ]
  },
  {
   "cell_type": "code",
   "execution_count": 18,
   "metadata": {},
   "outputs": [
    {
     "data": {
      "text/plain": [
       "11"
      ]
     },
     "execution_count": 18,
     "metadata": {},
     "output_type": "execute_result"
    }
   ],
   "source": [
    "# 요소 개수\n",
    "len(list30)"
   ]
  },
  {
   "cell_type": "code",
   "execution_count": 19,
   "metadata": {},
   "outputs": [
    {
     "name": "stdout",
     "output_type": "stream",
     "text": [
      "2\n"
     ]
    },
    {
     "data": {
      "text/plain": [
       "[53, 53, 45, 42, 40, 34, 30, 30, 22, 10]"
      ]
     },
     "execution_count": 19,
     "metadata": {},
     "output_type": "execute_result"
    }
   ],
   "source": [
    "# pop() : 마지막 요소를 반환하고 삭제\n",
    "# stack (가장 나중에 들어간 데이터부터 접근)을 구성할 때append()와 같이 사용\n",
    "\n",
    "print(list30.pop())\n",
    "list30"
   ]
  },
  {
   "cell_type": "markdown",
   "metadata": {},
   "source": [
    "# tuple\n",
    "- list와 사용법이 거의 같다\n",
    "- 차이점\n",
    "    - 요소를 할당할 때 소괄호 사용\n",
    "    - 추가, 수정, 삭제 불가능"
   ]
  },
  {
   "cell_type": "code",
   "execution_count": 20,
   "metadata": {},
   "outputs": [
    {
     "data": {
      "text/plain": [
       "(20, 30.34, '홍길동', False)"
      ]
     },
     "execution_count": 20,
     "metadata": {},
     "output_type": "execute_result"
    }
   ],
   "source": [
    "tuple1 = (20, 30.34, \"홍길동\", False)\n",
    "\n",
    "tuple1"
   ]
  },
  {
   "cell_type": "code",
   "execution_count": 22,
   "metadata": {},
   "outputs": [
    {
     "name": "stdout",
     "output_type": "stream",
     "text": [
      "홍길동\n"
     ]
    }
   ],
   "source": [
    "# 홍길동 출력\n",
    "\n",
    "print(tuple1[2])"
   ]
  },
  {
   "cell_type": "code",
   "execution_count": 24,
   "metadata": {},
   "outputs": [
    {
     "name": "stdout",
     "output_type": "stream",
     "text": [
      "(30.34, '홍길동', False)\n"
     ]
    }
   ],
   "source": [
    "# 30.34부터 False까지 출력\n",
    "\n",
    "print(tuple1[1:])"
   ]
  },
  {
   "cell_type": "code",
   "execution_count": 25,
   "metadata": {},
   "outputs": [
    {
     "ename": "TypeError",
     "evalue": "'tuple' object does not support item assignment",
     "output_type": "error",
     "traceback": [
      "\u001b[1;31m---------------------------------------------------------------------------\u001b[0m",
      "\u001b[1;31mTypeError\u001b[0m                                 Traceback (most recent call last)",
      "Input \u001b[1;32mIn [25]\u001b[0m, in \u001b[0;36m<cell line: 2>\u001b[1;34m()\u001b[0m\n\u001b[0;32m      1\u001b[0m \u001b[38;5;66;03m# 홍길동을 마당쇠로 변경\u001b[39;00m\n\u001b[1;32m----> 2\u001b[0m tuple1[\u001b[38;5;241m2\u001b[39m] \u001b[38;5;241m=\u001b[39m \u001b[38;5;124m'\u001b[39m\u001b[38;5;124m마당쇠\u001b[39m\u001b[38;5;124m'\u001b[39m\n",
      "\u001b[1;31mTypeError\u001b[0m: 'tuple' object does not support item assignment"
     ]
    }
   ],
   "source": [
    "# 홍길동을 마당쇠로 변경\n",
    "tuple1[2] = '마당쇠'"
   ]
  },
  {
   "cell_type": "markdown",
   "metadata": {},
   "source": [
    "# in과 not in\n",
    "\n",
    "- iterable (반복적으로 접근할 수 있는 자료형) 타입에 해당 요소가 있는지 없는지 반환\n",
    "- in : 요소가 있는지\n",
    "- not in : 요소가 없는지"
   ]
  },
  {
   "cell_type": "code",
   "execution_count": 26,
   "metadata": {},
   "outputs": [
    {
     "name": "stdout",
     "output_type": "stream",
     "text": [
      "True\n",
      "False\n"
     ]
    }
   ],
   "source": [
    "tuple2 = (20, 40, 30, 45)\n",
    "\n",
    "print(40 in tuple2)\n",
    "print(40 not in tuple2)"
   ]
  },
  {
   "cell_type": "code",
   "execution_count": 28,
   "metadata": {},
   "outputs": [
    {
     "name": "stdout",
     "output_type": "stream",
     "text": [
      "없엉\n"
     ]
    }
   ],
   "source": [
    "list40 = ['홍길동', '이순신', '김유신']\n",
    "\n",
    "\n",
    "if '마당쇠' in list40:\n",
    "    list40.index('마당쇠')\n",
    "else:\n",
    "    print(\"없엉\")"
   ]
  },
  {
   "cell_type": "code",
   "execution_count": null,
   "metadata": {},
   "outputs": [],
   "source": []
  },
  {
   "cell_type": "code",
   "execution_count": null,
   "metadata": {},
   "outputs": [],
   "source": []
  },
  {
   "cell_type": "code",
   "execution_count": null,
   "metadata": {},
   "outputs": [],
   "source": []
  },
  {
   "cell_type": "code",
   "execution_count": null,
   "metadata": {},
   "outputs": [],
   "source": []
  },
  {
   "cell_type": "code",
   "execution_count": null,
   "metadata": {},
   "outputs": [],
   "source": []
  },
  {
   "cell_type": "code",
   "execution_count": null,
   "metadata": {},
   "outputs": [],
   "source": []
  },
  {
   "cell_type": "code",
   "execution_count": null,
   "metadata": {},
   "outputs": [],
   "source": []
  },
  {
   "cell_type": "code",
   "execution_count": null,
   "metadata": {},
   "outputs": [],
   "source": []
  },
  {
   "cell_type": "code",
   "execution_count": null,
   "metadata": {},
   "outputs": [],
   "source": []
  },
  {
   "cell_type": "code",
   "execution_count": null,
   "metadata": {},
   "outputs": [],
   "source": []
  },
  {
   "cell_type": "code",
   "execution_count": null,
   "metadata": {},
   "outputs": [],
   "source": []
  },
  {
   "cell_type": "code",
   "execution_count": null,
   "metadata": {},
   "outputs": [],
   "source": []
  },
  {
   "cell_type": "code",
   "execution_count": null,
   "metadata": {},
   "outputs": [],
   "source": []
  },
  {
   "cell_type": "code",
   "execution_count": null,
   "metadata": {},
   "outputs": [],
   "source": []
  },
  {
   "cell_type": "code",
   "execution_count": null,
   "metadata": {},
   "outputs": [],
   "source": []
  },
  {
   "cell_type": "code",
   "execution_count": null,
   "metadata": {},
   "outputs": [],
   "source": []
  },
  {
   "cell_type": "code",
   "execution_count": null,
   "metadata": {},
   "outputs": [],
   "source": []
  },
  {
   "cell_type": "code",
   "execution_count": null,
   "metadata": {},
   "outputs": [],
   "source": []
  }
 ],
 "metadata": {
  "colab": {
   "authorship_tag": "ABX9TyNI2O4Ja37XPQ5gkNI2W+PX",
   "collapsed_sections": [
    "HBM9zWAUnEvF",
    "ZgCT--GqtrIW",
    "awQaudB_5QYV"
   ],
   "name": "파이썬02.ipynb",
   "provenance": []
  },
  "kernelspec": {
   "display_name": "Python 3 (ipykernel)",
   "language": "python",
   "name": "python3"
  },
  "language_info": {
   "codemirror_mode": {
    "name": "ipython",
    "version": 3
   },
   "file_extension": ".py",
   "mimetype": "text/x-python",
   "name": "python",
   "nbconvert_exporter": "python",
   "pygments_lexer": "ipython3",
   "version": "3.9.12"
  }
 },
 "nbformat": 4,
 "nbformat_minor": 1
}
