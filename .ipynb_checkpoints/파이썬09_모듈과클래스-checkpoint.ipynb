{
 "cells": [
  {
   "cell_type": "markdown",
   "id": "a7921ae7",
   "metadata": {},
   "source": [
    "# module\n",
    "\n",
    "- 기능이 유사한 함수를 모은 함수 그룹\n",
    "- '라이브러리'라고도 한다"
   ]
  },
  {
   "cell_type": "markdown",
   "id": "39e46b41",
   "metadata": {},
   "source": [
    "- 모듈 만들기\n",
    "    - module 폴더를 생성하고 calModule.py로 저장\n",
    "    - 아래 코드를 넣었다"
   ]
  },
  {
   "cell_type": "code",
   "execution_count": null,
   "id": "c37d7fb0",
   "metadata": {},
   "outputs": [],
   "source": [
    "calModule.py 만들기\n",
    "def duha(n1, n2):\n",
    "    return n1 + n2\n",
    "\n",
    "def bbae(n1, n2):\n",
    "    return n1 - n2\n",
    "\n",
    "def gobha(n1, n2):\n",
    "    return n1 * n2\n",
    "\n",
    "def nanu(n1, n2):\n",
    "    return n1 / n2\n",
    "\n"
   ]
  },
  {
   "cell_type": "markdown",
   "id": "d32297f6",
   "metadata": {},
   "source": [
    "- 모듈 사용법\n",
    "    - import 모듈명\n",
    "    - import 모듈명 as 별명\n",
    "    - from 모듈명 import 함수명\n",
    "    - 모듈명에서 폴더명을 마침표로 구분해서 표시해야한다"
   ]
  },
  {
   "cell_type": "code",
   "execution_count": 1,
   "id": "ae58b2ab",
   "metadata": {},
   "outputs": [
    {
     "name": "stdout",
     "output_type": "stream",
     "text": [
      "5\n",
      "0.6666666666666666\n"
     ]
    }
   ],
   "source": [
    "import module.calModule as cal\n",
    "\n",
    "print(cal.duha(2,3))\n",
    "print(cal.nanu(2,3))"
   ]
  },
  {
   "cell_type": "code",
   "execution_count": 2,
   "id": "1fe2df6a",
   "metadata": {},
   "outputs": [
    {
     "name": "stdout",
     "output_type": "stream",
     "text": [
      "5\n",
      "-1\n",
      "6\n",
      "0.6666666666666666\n"
     ]
    }
   ],
   "source": [
    "from module.calModule import duha, bbae, gobha, nanu\n",
    "\n",
    "print(duha(2,3))\n",
    "print(bbae(2,3))\n",
    "print(gobha(2,3))\n",
    "print(nanu(2,3))"
   ]
  },
  {
   "cell_type": "markdown",
   "id": "bf5c2898",
   "metadata": {},
   "source": [
    "# 업다운 게임\n",
    "- 모듈로 만들어서 저장하고 모듈을 호출해서 구현\n",
    "- updowngame.py 파일, 아래 내용을 구현하고 모듈로 저장\n",
    "    - 입력한 두 수 사이의 임의의 정수를 추출하는 함수 : extractNumber()\n",
    "    - 사용자가 숫자 하나를 입력하는 함수 : inputNumber()\n",
    "    - 임의로 추출한 정수와 사용자가 입력한 정수를 비교해서 up down 정답 출력하기. 정답이면 게임 끝내는 compareNumber()\n",
    "- updowngame 모듈을 호출해서 업다운 게임을 구현"
   ]
  },
  {
   "cell_type": "code",
   "execution_count": 1,
   "id": "e35527f5",
   "metadata": {},
   "outputs": [
    {
     "ename": "SyntaxError",
     "evalue": "invalid syntax (1927244390.py, line 1)",
     "output_type": "error",
     "traceback": [
      "\u001b[1;36m  Input \u001b[1;32mIn [1]\u001b[1;36m\u001b[0m\n\u001b[1;33m    from random import randint              module 폴더에 updowngame.py로 저장했다\u001b[0m\n\u001b[1;37m                                            ^\u001b[0m\n\u001b[1;31mSyntaxError\u001b[0m\u001b[1;31m:\u001b[0m invalid syntax\n"
     ]
    }
   ],
   "source": [
    "from random import randint              # module 폴더에 updowngame.py로 저장했다\n",
    "\n",
    "def exNum():\n",
    "    n1 = int(input(\"처음 >> \"))\n",
    "    n2 = int(input(\" 끝  >> \"))\n",
    "    print()\n",
    "    return randint(n1, n2)\n",
    "\n",
    "def inNum():\n",
    "    return int(input(\" 나  >> \"))\n",
    "\n",
    "def cmpNum(myNum, ranNum):\n",
    "    if myNum > ranNum:\n",
    "        print(\"sphinx >> down\")\n",
    "        print()\n",
    "        return True\n",
    "    elif myNum < ranNum:\n",
    "        print(\"sphinx >> up\")\n",
    "        print()\n",
    "        return True\n",
    "    else:\n",
    "        print(\"sphinx >> 정답\")\n",
    "        return False"
   ]
  },
  {
   "cell_type": "code",
   "execution_count": 2,
   "id": "ee632b06",
   "metadata": {},
   "outputs": [
    {
     "name": "stdout",
     "output_type": "stream",
     "text": [
      "처음 >> 3\n",
      " 끝  >> 13\n",
      "\n",
      " 나  >> 8\n",
      "sphinx >> up\n",
      "\n",
      " 나  >> 10\n",
      "sphinx >> up\n",
      "\n",
      " 나  >> 11\n",
      "sphinx >> up\n",
      "\n",
      " 나  >> 12\n",
      "sphinx >> up\n",
      "\n",
      " 나  >> 13\n",
      "sphinx >> 정답\n"
     ]
    }
   ],
   "source": [
    "from module.updowngame import exNum, inNum, cmpNum\n",
    "\n",
    "rnn = exNum()\n",
    "\n",
    "inn = inNum()\n",
    "\n",
    "while cmpNum(inn, rnn):\n",
    "    inn = inNum()"
   ]
  },
  {
   "cell_type": "markdown",
   "id": "2244c6ee",
   "metadata": {},
   "source": [
    "- \\_\\_name\\_\\_ : 현재 모듈의 이름을 담고 있는 내장 변수\n",
    "    - 모듈을 직접 실행할 때 모듈은 main이라는 이름을 가지게 된다"
   ]
  },
  {
   "cell_type": "code",
   "execution_count": 8,
   "id": "195cf425",
   "metadata": {},
   "outputs": [
    {
     "name": "stdout",
     "output_type": "stream",
     "text": [
      "모듈을 직접 실행\n",
      "__main__\n",
      "Hello\n"
     ]
    }
   ],
   "source": [
    "# hello.py\n",
    "\n",
    "def printHello():\n",
    "    print(__name__) # 이거 아래 코드에서 보면 module.hello로 나온다. \n",
    "    print(\"Hello\")\n",
    "    \n",
    "# __name__ : 모듈의 이름\n",
    "# __main__ : 모듈을 직접 실행하면 가지는 이름\n",
    "# 모듈을 직접 실행 했다면 아래를 실행한다\n",
    "if __name__ == \"__main__\":\n",
    "    print(\"모듈을 직접 실행\")\n",
    "    printHello()"
   ]
  },
  {
   "cell_type": "code",
   "execution_count": 3,
   "id": "4b56bcd7",
   "metadata": {},
   "outputs": [
    {
     "name": "stdout",
     "output_type": "stream",
     "text": [
      "module.hello\n",
      "Hello\n"
     ]
    }
   ],
   "source": [
    "import module.hello as hh\n",
    "\n",
    "\n",
    "hh.printHello() # 지금까지 하던 대로 잘 된다"
   ]
  },
  {
   "cell_type": "code",
   "execution_count": 3,
   "id": "178ecd9c",
   "metadata": {},
   "outputs": [
    {
     "name": "stdout",
     "output_type": "stream",
     "text": [
      "모듈을 직접 실행\n",
      "Hello\n"
     ]
    }
   ],
   "source": [
    "!python ./module/hello.py"
   ]
  },
  {
   "cell_type": "markdown",
   "id": "85426f16",
   "metadata": {},
   "source": [
    "- 직접 실행할 때 외부 매개변수를 전달하는 방법\n",
    "    - 만든 코드를 배포할 때 쓴다\n",
    "    - 뭐 어떻게 쓴다는 건지는 모르겠다"
   ]
  },
  {
   "cell_type": "code",
   "execution_count": 1,
   "id": "7dafc778",
   "metadata": {},
   "outputs": [
    {
     "name": "stdout",
     "output_type": "stream",
     "text": [
      "!\n"
     ]
    }
   ],
   "source": [
    "# hello2.py\n",
    "import sys\n",
    "\n",
    "def printHello(s):\n",
    "    if s == \"1\":\n",
    "        print(\"Hello\")\n",
    "    else:\n",
    "        print(\"!\")\n",
    "    \n",
    "if __name__ == \"__main__\":\n",
    "    # 외부 매개변수를 받는다\n",
    "    \n",
    "    printHello(sys.argv[1])"
   ]
  },
  {
   "cell_type": "code",
   "execution_count": 3,
   "id": "f042ee80",
   "metadata": {
    "scrolled": false
   },
   "outputs": [
    {
     "name": "stdout",
     "output_type": "stream",
     "text": [
      "!\n"
     ]
    }
   ],
   "source": [
    "!python ./module/hello2.py 2\n",
    "# argv     0번 인덱스      1       2   그 뒤로도 나올 수 있다"
   ]
  },
  {
   "cell_type": "markdown",
   "id": "7b675fea",
   "metadata": {},
   "source": [
    "- 외부 매개변수의 옵션을 설정하는 방법"
   ]
  },
  {
   "cell_type": "code",
   "execution_count": 10,
   "id": "0e57e17c",
   "metadata": {},
   "outputs": [
    {
     "name": "stderr",
     "output_type": "stream",
     "text": [
      "usage: ipykernel_launcher.py [-h] [-n1 NUM1] [-n2 NUM2]\n",
      "ipykernel_launcher.py: error: unrecognized arguments: -f C:\\Users\\gjaischool-56\\AppData\\Roaming\\jupyter\\runtime\\kernel-ef62534e-b04b-45bf-a699-40fbcd8ce631.json\n"
     ]
    },
    {
     "ename": "SystemExit",
     "evalue": "2",
     "output_type": "error",
     "traceback": [
      "An exception has occurred, use %tb to see the full traceback.\n",
      "\u001b[1;31mSystemExit\u001b[0m\u001b[1;31m:\u001b[0m 2\n"
     ]
    }
   ],
   "source": [
    "# printParam.py 만들기\n",
    "import sys\n",
    "\n",
    "# 외부 매개변수의 옵션을 설정하고 사용하는 모듈\n",
    "import argparse\n",
    "\n",
    "if __name__ == '__main__':\n",
    "    # 옵션 설정함수 생성\n",
    "    parser = argparse.ArgumentParser()\n",
    "    \n",
    "    # 옵션과 이름 추가  (옵션, 옵션 이름)\n",
    "    parser.add_argument(\"-n1\", \"--num1\")\n",
    "    parser.add_argument(\"-n2\", \"--num2\")\n",
    "    \n",
    "    # 외부에서 옵션을 가져온다\n",
    "    args = parser.parse_args()\n",
    "    \n",
    "    # 옵션값을 출력\n",
    "    print(args.num1)\n",
    "    print(args.num2)"
   ]
  },
  {
   "cell_type": "code",
   "execution_count": 1,
   "id": "9d5eb9cc",
   "metadata": {},
   "outputs": [
    {
     "name": "stdout",
     "output_type": "stream",
     "text": [
      "100\n",
      "200\n"
     ]
    }
   ],
   "source": [
    "!python ./module/printParam.py -n1 100 -n2 200"
   ]
  },
  {
   "cell_type": "markdown",
   "id": "1442a38a",
   "metadata": {},
   "source": [
    "# 클래스"
   ]
  },
  {
   "cell_type": "markdown",
   "id": "ee02cd0e",
   "metadata": {},
   "source": [
    "- 클래스 선언"
   ]
  },
  {
   "cell_type": "code",
   "execution_count": 11,
   "id": "44f2dd2e",
   "metadata": {},
   "outputs": [],
   "source": [
    "class SampleClass :\n",
    "    str1 = \"Python\""
   ]
  },
  {
   "cell_type": "markdown",
   "id": "a5bbdc05",
   "metadata": {},
   "source": [
    "- 클래스의 인스턴스 생성"
   ]
  },
  {
   "cell_type": "code",
   "execution_count": 12,
   "id": "5f2393f8",
   "metadata": {},
   "outputs": [
    {
     "name": "stdout",
     "output_type": "stream",
     "text": [
      "Python\n"
     ]
    }
   ],
   "source": [
    "# SampleClass() : SampleClass의 생성자 또는 객체??? 뭔소리냐\n",
    "# a : SampleClass() 객체를 가리키는 인스턴스\n",
    "a = SampleClass()\n",
    "\n",
    "print(a.str1)"
   ]
  },
  {
   "cell_type": "code",
   "execution_count": 13,
   "id": "20cdffed",
   "metadata": {},
   "outputs": [],
   "source": [
    "class Bicycle:\n",
    "    wheel = 24\n",
    "    body = \"Al\"\n",
    "    pedal = \"plastic\"\n",
    "    handle = \"C\""
   ]
  },
  {
   "cell_type": "code",
   "execution_count": 14,
   "id": "d27b5911",
   "metadata": {},
   "outputs": [
    {
     "name": "stdout",
     "output_type": "stream",
     "text": [
      "24\n",
      "Al\n",
      "plastic\n",
      "C\n"
     ]
    }
   ],
   "source": [
    "bb = Bicycle()\n",
    "\n",
    "print(bb.wheel)\n",
    "print(bb.body)\n",
    "print(bb.pedal)\n",
    "print(bb.handle)"
   ]
  },
  {
   "cell_type": "markdown",
   "id": "14986a65",
   "metadata": {},
   "source": [
    "- 파이썬은 클래스 변수를 사용할 때 클래스 변수를 생성한다"
   ]
  },
  {
   "cell_type": "code",
   "execution_count": 19,
   "id": "db7b7cce",
   "metadata": {},
   "outputs": [],
   "source": [
    "class SampleClass1 :\n",
    "    pass"
   ]
  },
  {
   "cell_type": "code",
   "execution_count": 20,
   "id": "372815a8",
   "metadata": {},
   "outputs": [
    {
     "data": {
      "text/plain": [
       "'홍길동'"
      ]
     },
     "execution_count": 20,
     "metadata": {},
     "output_type": "execute_result"
    }
   ],
   "source": [
    "a1 = SampleClass1()\n",
    "\n",
    "a1.name = '홍길동'\n",
    "a1.name"
   ]
  },
  {
   "cell_type": "markdown",
   "id": "ae16f739",
   "metadata": {},
   "source": [
    "- 객체의 인스턴스는 독립적으로 동작한다"
   ]
  },
  {
   "cell_type": "code",
   "execution_count": 21,
   "id": "6a7f2f0b",
   "metadata": {
    "collapsed": true
   },
   "outputs": [
    {
     "ename": "AttributeError",
     "evalue": "'SampleClass1' object has no attribute 'name'",
     "output_type": "error",
     "traceback": [
      "\u001b[1;31m---------------------------------------------------------------------------\u001b[0m",
      "\u001b[1;31mAttributeError\u001b[0m                            Traceback (most recent call last)",
      "Input \u001b[1;32mIn [21]\u001b[0m, in \u001b[0;36m<cell line: 2>\u001b[1;34m()\u001b[0m\n\u001b[0;32m      1\u001b[0m a2 \u001b[38;5;241m=\u001b[39m SampleClass1()\n\u001b[1;32m----> 2\u001b[0m \u001b[43ma2\u001b[49m\u001b[38;5;241;43m.\u001b[39;49m\u001b[43mname\u001b[49m\n",
      "\u001b[1;31mAttributeError\u001b[0m: 'SampleClass1' object has no attribute 'name'"
     ]
    }
   ],
   "source": [
    "a2 = SampleClass1()\n",
    "a2.name # 'SampleClass1' object has no attribute 'name'"
   ]
  },
  {
   "cell_type": "code",
   "execution_count": 22,
   "id": "6bd2af6e",
   "metadata": {},
   "outputs": [
    {
     "data": {
      "text/plain": [
       "10"
      ]
     },
     "execution_count": 22,
     "metadata": {},
     "output_type": "execute_result"
    }
   ],
   "source": [
    "a2.age = 10\n",
    "a2.age"
   ]
  },
  {
   "cell_type": "markdown",
   "id": "abba008b",
   "metadata": {},
   "source": [
    "- 클래스 함수"
   ]
  },
  {
   "cell_type": "code",
   "execution_count": 23,
   "id": "5fb92b00",
   "metadata": {},
   "outputs": [],
   "source": [
    "# def 함수명(self[,매개변수, ...]):\n",
    "#     명령문"
   ]
  },
  {
   "cell_type": "markdown",
   "id": "22e3da05",
   "metadata": {},
   "source": [
    "- 클래스 함수의 첫 번째 매개변수는 반드시 지정해야한다\n",
    "    - 첫 번째 매개변수는 현재 클래스를 가리킬때 사용한다.\n",
    "    - 대게 self를 쓰지만 다른걸로 바꿔도 된다\n",
    "    - 클래스 변수를 접근할 때 반드시 self.변수이름 처럼 써야한다"
   ]
  },
  {
   "cell_type": "code",
   "execution_count": 3,
   "id": "52eced34",
   "metadata": {},
   "outputs": [
    {
     "name": "stdout",
     "output_type": "stream",
     "text": [
      "Hello\n",
      "Python\n"
     ]
    }
   ],
   "source": [
    "class SampleClass2:\n",
    "    str1 = \"Python\"\n",
    "    \n",
    "    def printHello(self): # 여기에 self를 안 썼을 때 : printHello() takes 0 positional arguments but 1 was given\n",
    "        print(\"Hello\")\n",
    "        print(self.str1)\n",
    "\n",
    "a3 = SampleClass2()\n",
    "a3.printHello()"
   ]
  },
  {
   "cell_type": "markdown",
   "id": "d6dd8ba6",
   "metadata": {},
   "source": [
    "- 두 개의 수를 매개변수로 받아서 합을 구하는 함수를 포함하는 클래스를 작성하고 호출해서 합을 구해보자"
   ]
  },
  {
   "cell_type": "code",
   "execution_count": 33,
   "id": "ee2de893",
   "metadata": {},
   "outputs": [],
   "source": [
    "class rnlcks:\n",
    "    def ejgk(self, n1, n2):\n",
    "        return n1 + n2"
   ]
  },
  {
   "cell_type": "code",
   "execution_count": 34,
   "id": "b54fc6cf",
   "metadata": {},
   "outputs": [
    {
     "data": {
      "text/plain": [
       "8"
      ]
     },
     "execution_count": 34,
     "metadata": {},
     "output_type": "execute_result"
    }
   ],
   "source": [
    "rnl1 = rnlcks()\n",
    "rnl1.ejgk(3,5)"
   ]
  },
  {
   "cell_type": "markdown",
   "id": "692f9c72",
   "metadata": {},
   "source": [
    "## 실습\n",
    "- MaxClass 선언\n",
    "- inputData() 함수에서 2개의 수를 입력\n",
    "- returnMax() 함수에서 입력한 2개의 수 중 큰 수를 반환"
   ]
  },
  {
   "cell_type": "code",
   "execution_count": 43,
   "id": "0f77b2e7",
   "metadata": {},
   "outputs": [],
   "source": [
    "class MaxClass:\n",
    "    \n",
    "    def inputData(self):\n",
    "        print(\"서로 '다른' 수 두개를 넣어봐!\")\n",
    "        self.n1 = int(input(\"n1 = \"))\n",
    "        self.n2 = int(input(\"n2 = \"))\n",
    "    \n",
    "    def returnMax(self):\n",
    "        return self.n1 if self.n1 > self.n2 else self.n2"
   ]
  },
  {
   "cell_type": "code",
   "execution_count": 44,
   "id": "399f31a2",
   "metadata": {},
   "outputs": [
    {
     "name": "stdout",
     "output_type": "stream",
     "text": [
      "서로 '다른' 수 두개를 넣어봐!\n",
      "n1 = 3\n",
      "n2 = 4\n"
     ]
    },
    {
     "data": {
      "text/plain": [
       "4"
      ]
     },
     "execution_count": 44,
     "metadata": {},
     "output_type": "execute_result"
    }
   ],
   "source": [
    "mx = MaxClass()\n",
    "\n",
    "mx.inputData()\n",
    "mx.returnMax()"
   ]
  },
  {
   "cell_type": "markdown",
   "id": "54c48a40",
   "metadata": {},
   "source": [
    "- \\_\\_ : 접근 제한자\n",
    "    - Java의 private과 비슷"
   ]
  },
  {
   "cell_type": "code",
   "execution_count": 51,
   "id": "94bef459",
   "metadata": {},
   "outputs": [],
   "source": [
    "class SampleClass4:\n",
    "    __name = \"홍길동\"\n",
    "    \n",
    "sc = SampleClass4()\n",
    "\n",
    "# print(sc.name) 'SampleClass4' object has no attribute 'name'\n",
    "# print(sc.__name) 'SampleClass4' object has no attribute '__name'"
   ]
  },
  {
   "cell_type": "markdown",
   "id": "86de1b54",
   "metadata": {},
   "source": [
    "- 접근 제한자로 캡슐화된 변수를 접근하려면 setter(), getter() 함수를 써야한다\n",
    "    - setter() : 변수에 값을 할당\n",
    "    - getter() : 변수의 값을 반환"
   ]
  },
  {
   "cell_type": "code",
   "execution_count": 65,
   "id": "51e1b9e1",
   "metadata": {},
   "outputs": [
    {
     "data": {
      "text/plain": [
       "'홍길동'"
      ]
     },
     "execution_count": 65,
     "metadata": {},
     "output_type": "execute_result"
    }
   ],
   "source": [
    "class SampleClass4:\n",
    "    __name = \"홍길동\" # 아래에서 self를 쓰면 여기서 굳이 변수를 선언할 필요가 없다??\n",
    "    \n",
    "    # self를 안 쓰면 위 __name은 아래 __name 과 다르다\n",
    "    # 아래에서 self를 안쓰면 '홍길동'이 출력된다\n",
    "    def setName(self, name):\n",
    "        self.__name = name\n",
    "    \n",
    "    def getName(self):\n",
    "        return self.__name\n",
    "    \n",
    "sc = SampleClass4()    \n",
    "sc.setName(\"김유신\")\n",
    "sc.getName()"
   ]
  },
  {
   "cell_type": "markdown",
   "id": "b740ba90",
   "metadata": {},
   "source": [
    "- 생성자 (Constructor)\n",
    "    - \\_\\_init\\_\\_(self) : 생성자 함수"
   ]
  },
  {
   "cell_type": "code",
   "execution_count": 67,
   "id": "142d9f9b",
   "metadata": {},
   "outputs": [
    {
     "name": "stdout",
     "output_type": "stream",
     "text": [
      "생성자입니다\n"
     ]
    }
   ],
   "source": [
    "class Bicycle:\n",
    "    def __init__(self):\n",
    "        print(\"생성자입니다\")\n",
    "\n",
    "b = Bicycle() # 그냥 인스턴스를 생성하기만 했는데 내장함수가 실행된다. 이때 실행되는 함수가 생성자이다\n",
    "              # __init__ 으로 만들면 생성자가 되는데 안 만들어도 상관없다 "
   ]
  },
  {
   "cell_type": "markdown",
   "id": "c1ed8728",
   "metadata": {},
   "source": [
    "- 생성자를 이용해서 클래스 변수를 초기화"
   ]
  },
  {
   "cell_type": "code",
   "execution_count": 9,
   "id": "fe1b6b08",
   "metadata": {},
   "outputs": [
    {
     "name": "stdout",
     "output_type": "stream",
     "text": [
      "페달을 100km/h로 굴립니다\n"
     ]
    }
   ],
   "source": [
    "class Bicycle1:\n",
    "    pedal = \"페달\"\n",
    "    \n",
    "    def __init__(self, speed):\n",
    "        self.speed = speed\n",
    "\n",
    "    def move(self):\n",
    "        print(f\"{self.pedal}을 {self.speed}km/h로 굴립니다\")\n",
    "        \n",
    "        \n",
    "b = Bicycle1(100)\n",
    "b.move()"
   ]
  },
  {
   "cell_type": "markdown",
   "id": "c6d54f59",
   "metadata": {},
   "source": [
    "- 상속\n",
    "    - 상위 클래스에 있는 변수나 함수를 그대로 쓰라고 허가하는 것\n",
    "    - \\_\\_접근 제한자가 있으면 못 쓴다\n",
    "    - \\_접근제한자 (Java의 protected랑 비슷)가 있으면 상속 받았을 때는 사용할 수 있다\n",
    "    - 다중 상속 가능   "
   ]
  },
  {
   "cell_type": "code",
   "execution_count": 73,
   "id": "e6ea4cd3",
   "metadata": {},
   "outputs": [],
   "source": [
    "# class 클래스명 (상속받을 클래스명, ...) :\n",
    "#     명령문"
   ]
  },
  {
   "cell_type": "code",
   "execution_count": 33,
   "id": "01715421",
   "metadata": {},
   "outputs": [],
   "source": [
    "class Car1:\n",
    "    speed = 0\n",
    "    __kind = \"자동차\"\n",
    "    _company = \"현대\"\n",
    "    \n",
    "    \n",
    "    def drive(self, speed):\n",
    "        self.speed = speed\n",
    "        print(f\"{self.speed}km/h로 운전 - Car1\")\n",
    "     \n",
    "    # 함수에도 접근제한자를 쓸 수 있다\n",
    "    def __drive2(self, speed):\n",
    "        self.speed = speed\n",
    "        print(f\"{self.speed}km/h로 운전 - Car1\")\n",
    "        \n",
    "    def printKind(self):\n",
    "        print(self.__kind)\n",
    "        \n",
    "    def printCom(self):\n",
    "        print(self._company)"
   ]
  },
  {
   "cell_type": "code",
   "execution_count": 34,
   "id": "bd65ca62",
   "metadata": {},
   "outputs": [],
   "source": [
    "# Car1에서 상속을 받는다\n",
    "class Taxi(Car1):\n",
    "    pass"
   ]
  },
  {
   "cell_type": "code",
   "execution_count": 36,
   "id": "8087a53d",
   "metadata": {},
   "outputs": [
    {
     "name": "stdout",
     "output_type": "stream",
     "text": [
      "90km/h로 운전 - Car1\n"
     ]
    }
   ],
   "source": [
    "tt = Taxi()\n",
    "tt.drive(90)\n",
    "# tt.__drive2(80)'Taxi' object has no attribute '__drive2'"
   ]
  },
  {
   "cell_type": "code",
   "execution_count": 20,
   "id": "cfb91783",
   "metadata": {},
   "outputs": [
    {
     "name": "stdout",
     "output_type": "stream",
     "text": [
      "자동차\n"
     ]
    },
    {
     "data": {
      "text/plain": [
       "'택시'"
      ]
     },
     "execution_count": 20,
     "metadata": {},
     "output_type": "execute_result"
    }
   ],
   "source": [
    "tt.__kind = \"택시\" # Taxi 클래스에 __kind 변수를 새로 만든다. Car1 클래스의 __kind를 바꾸는게 아니고.\n",
    "tt.printKind() # 택시가 아닌 자동차를 출력한다. printKind는 Car1 클래스의 __kind에 접근하기 때문이다\n",
    "\n",
    "tt.__kind"
   ]
  },
  {
   "cell_type": "code",
   "execution_count": 21,
   "id": "83660531",
   "metadata": {},
   "outputs": [
    {
     "name": "stdout",
     "output_type": "stream",
     "text": [
      "테슬라\n"
     ]
    },
    {
     "data": {
      "text/plain": [
       "'테슬라'"
      ]
     },
     "execution_count": 21,
     "metadata": {},
     "output_type": "execute_result"
    }
   ],
   "source": [
    "tt._company = \"테슬라\"\n",
    "tt.printCom()\n",
    "\n",
    "tt._company"
   ]
  },
  {
   "cell_type": "markdown",
   "id": "f2bf3705",
   "metadata": {},
   "source": [
    "- 상속을 안 받고 Car1 클래스에 접근하는 방법"
   ]
  },
  {
   "cell_type": "code",
   "execution_count": 28,
   "id": "bdcb4f96",
   "metadata": {},
   "outputs": [
    {
     "name": "stdout",
     "output_type": "stream",
     "text": [
      "200km/h로 운전 - Car1\n",
      "택시\n",
      "자동차\n",
      "기아\n",
      "기아\n"
     ]
    }
   ],
   "source": [
    "class Taxi2(Car1):\n",
    "    c1 = Car1()\n",
    "    c1.speed = 200\n",
    "    c1.drive(c1.speed)\n",
    "    \n",
    "    # print(c1.__kind) 얘는 여전히 안돼! \n",
    "    \n",
    "    c1.__kind = \"택시\" # Car1()에서 접근제한자 __가 있는 __kind 변수를 바꾸는게 아니라 그냥 변수 __kind 를 생성한 것과 같다\n",
    "    print(c1.__kind)\n",
    "    c1.printKind() \n",
    "    \n",
    "    \n",
    "    c1._company = \"기아\"\n",
    "    c1.printCom()\n",
    "    print(c1._company)"
   ]
  },
  {
   "cell_type": "code",
   "execution_count": 29,
   "id": "d0379070",
   "metadata": {},
   "outputs": [
    {
     "data": {
      "text/plain": [
       "'현대'"
      ]
     },
     "execution_count": 29,
     "metadata": {},
     "output_type": "execute_result"
    }
   ],
   "source": [
    "c2 = Car1()\n",
    "\n",
    "c2._company"
   ]
  },
  {
   "cell_type": "markdown",
   "id": "bfbad25f",
   "metadata": {},
   "source": [
    "- 다중 상속"
   ]
  },
  {
   "cell_type": "code",
   "execution_count": 31,
   "id": "266a5ed0",
   "metadata": {},
   "outputs": [],
   "source": [
    "class Car2:\n",
    "    company = \"현대\"\n",
    "    \n",
    "    def drive(self, company):\n",
    "        print(f\"{self.company}에서 만든 자동차입니다 - Car2\")"
   ]
  },
  {
   "cell_type": "code",
   "execution_count": 32,
   "id": "d2b1259c",
   "metadata": {},
   "outputs": [
    {
     "name": "stdout",
     "output_type": "stream",
     "text": [
      "0\n",
      "현대\n",
      "0km로 운전 - Taxi3\n"
     ]
    }
   ],
   "source": [
    "# 오버라이딩한 함수는 먼저 상속한 클래스부터 호출한다\n",
    "class Taxi3 (Car1, Car2):\n",
    "    def drive(self, speed):\n",
    "        print(f\"{self.speed}km로 운전 - Taxi3\")\n",
    "\n",
    "tt2 = Taxi3()\n",
    "print(tt2.speed)\n",
    "print(tt2.company)\n",
    "\n",
    "# 어느 클래스의 drive()를 가져올까?\n",
    "tt2.drive(100) \n",
    "\n",
    "# 가까운 놈을 가져온다"
   ]
  },
  {
   "cell_type": "code",
   "execution_count": null,
   "id": "533ca79a",
   "metadata": {},
   "outputs": [],
   "source": []
  },
  {
   "cell_type": "code",
   "execution_count": null,
   "id": "8bb6bf46",
   "metadata": {},
   "outputs": [],
   "source": []
  },
  {
   "cell_type": "code",
   "execution_count": null,
   "id": "24a2e5ef",
   "metadata": {},
   "outputs": [],
   "source": []
  },
  {
   "cell_type": "code",
   "execution_count": null,
   "id": "cbc7c148",
   "metadata": {},
   "outputs": [],
   "source": []
  },
  {
   "cell_type": "code",
   "execution_count": null,
   "id": "ff861f39",
   "metadata": {},
   "outputs": [],
   "source": []
  },
  {
   "cell_type": "code",
   "execution_count": null,
   "id": "11c7bdba",
   "metadata": {},
   "outputs": [],
   "source": []
  },
  {
   "cell_type": "code",
   "execution_count": null,
   "id": "5b40c03d",
   "metadata": {},
   "outputs": [],
   "source": []
  },
  {
   "cell_type": "code",
   "execution_count": null,
   "id": "70de36fa",
   "metadata": {},
   "outputs": [],
   "source": []
  },
  {
   "cell_type": "code",
   "execution_count": null,
   "id": "394e99ac",
   "metadata": {},
   "outputs": [],
   "source": []
  },
  {
   "cell_type": "code",
   "execution_count": null,
   "id": "7c97ca3c",
   "metadata": {},
   "outputs": [],
   "source": []
  },
  {
   "cell_type": "code",
   "execution_count": null,
   "id": "85b782f2",
   "metadata": {},
   "outputs": [],
   "source": []
  },
  {
   "cell_type": "code",
   "execution_count": null,
   "id": "b157a62f",
   "metadata": {},
   "outputs": [],
   "source": []
  }
 ],
 "metadata": {
  "kernelspec": {
   "display_name": "Python 3 (ipykernel)",
   "language": "python",
   "name": "python3"
  },
  "language_info": {
   "codemirror_mode": {
    "name": "ipython",
    "version": 3
   },
   "file_extension": ".py",
   "mimetype": "text/x-python",
   "name": "python",
   "nbconvert_exporter": "python",
   "pygments_lexer": "ipython3",
   "version": "3.9.12"
  }
 },
 "nbformat": 4,
 "nbformat_minor": 5
}
