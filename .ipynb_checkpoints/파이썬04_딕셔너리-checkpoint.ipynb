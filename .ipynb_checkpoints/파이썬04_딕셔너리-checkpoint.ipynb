{
 "cells": [
  {
   "cell_type": "markdown",
   "id": "7b081019",
   "metadata": {},
   "source": [
    "# Dictionary\n",
    "\n",
    "- key와 value 쌍으로 구성\n",
    "- 중괄호를 사용해서 요소를 설정한다\n",
    "- key와 value는 콜론으로 구분하고 요소는 쉼표로 구분한다\n",
    "- key는 유일한 값이어야하고 수정할 수 없다\n",
    "    - key를 중복해서 쓰면 나중 것만 인식한다\n",
    "- value는 숫자, 문자, 나열형 데이터(문자열, 리스트, 튜플, 딕셔너리 등)이 올 수 있다\n",
    "- File DB의 기본형으로 대형 데이터를 저장하려고 쓴다"
   ]
  },
  {
   "cell_type": "code",
   "execution_count": 1,
   "id": "491f4c8d",
   "metadata": {},
   "outputs": [
    {
     "data": {
      "text/plain": [
       "{}"
      ]
     },
     "execution_count": 1,
     "metadata": {},
     "output_type": "execute_result"
    }
   ],
   "source": [
    "dic1 = {}\n",
    "\n",
    "dic1"
   ]
  },
  {
   "cell_type": "code",
   "execution_count": 2,
   "id": "f10a1c7b",
   "metadata": {},
   "outputs": [
    {
     "data": {
      "text/plain": [
       "{'name': '홍길동', 'age': 20}"
      ]
     },
     "execution_count": 2,
     "metadata": {},
     "output_type": "execute_result"
    }
   ],
   "source": [
    "dic2 = {\"name\":\"홍길동\", \"age\":20}\n",
    "dic2"
   ]
  },
  {
   "cell_type": "code",
   "execution_count": 3,
   "id": "f036df09",
   "metadata": {},
   "outputs": [
    {
     "data": {
      "text/plain": [
       "{1: '홍길동', 2: 20}"
      ]
     },
     "execution_count": 3,
     "metadata": {},
     "output_type": "execute_result"
    }
   ],
   "source": [
    "# key 로 숫자도 가능\n",
    "dic3 = {1:\"홍길동\", 2:20}\n",
    "\n",
    "dic3"
   ]
  },
  {
   "cell_type": "markdown",
   "id": "33e70c59",
   "metadata": {},
   "source": [
    "- key를 이용해서 검색한다"
   ]
  },
  {
   "cell_type": "code",
   "execution_count": 4,
   "id": "8bb6969a",
   "metadata": {},
   "outputs": [
    {
     "data": {
      "text/plain": [
       "'홍길동'"
      ]
     },
     "execution_count": 4,
     "metadata": {},
     "output_type": "execute_result"
    }
   ],
   "source": [
    "# 값을 가져오기\n",
    "dic3[1]"
   ]
  },
  {
   "cell_type": "code",
   "execution_count": 5,
   "id": "e85e000b",
   "metadata": {},
   "outputs": [
    {
     "data": {
      "text/plain": [
       "'홍길동'"
      ]
     },
     "execution_count": 5,
     "metadata": {},
     "output_type": "execute_result"
    }
   ],
   "source": [
    "dic2[\"name\"]"
   ]
  },
  {
   "cell_type": "markdown",
   "id": "636907b1",
   "metadata": {},
   "source": [
    "- 만약에 key를 중복해서 쓰면 이전 key를 지우고 새로 생긴다"
   ]
  },
  {
   "cell_type": "code",
   "execution_count": 6,
   "id": "5cbcb28b",
   "metadata": {},
   "outputs": [
    {
     "data": {
      "text/plain": [
       "'yi'"
      ]
     },
     "execution_count": 6,
     "metadata": {},
     "output_type": "execute_result"
    }
   ],
   "source": [
    "dic4 = {\"name\":\"hong\", \"name\":\"yi\"}\n",
    "\n",
    "dic4[\"name\"]"
   ]
  },
  {
   "cell_type": "markdown",
   "id": "3f161ecf",
   "metadata": {},
   "source": [
    "- 요소 추가하기"
   ]
  },
  {
   "cell_type": "code",
   "execution_count": 7,
   "id": "a398a12e",
   "metadata": {},
   "outputs": [
    {
     "data": {
      "text/plain": [
       "{'name': '홍길동', 'age': 20, 'job': '의적'}"
      ]
     },
     "execution_count": 7,
     "metadata": {},
     "output_type": "execute_result"
    }
   ],
   "source": [
    "dic2[\"job\"] = \"의적\"\n",
    "dic2 "
   ]
  },
  {
   "cell_type": "markdown",
   "id": "48e1ca2c",
   "metadata": {},
   "source": [
    "- value에 리스트를 추가"
   ]
  },
  {
   "cell_type": "code",
   "execution_count": 8,
   "id": "1694feff",
   "metadata": {},
   "outputs": [
    {
     "data": {
      "text/plain": [
       "{'name': ['홍길동'], 'age': [20], 'job': ['의적']}"
      ]
     },
     "execution_count": 8,
     "metadata": {},
     "output_type": "execute_result"
    }
   ],
   "source": [
    "dic5 = {\"name\":[\"홍길동\"], \"age\":[20], \"job\":[\"의적\"]}\n",
    "\n",
    "dic5"
   ]
  },
  {
   "cell_type": "markdown",
   "id": "2230db49",
   "metadata": {},
   "source": [
    "- 각각의 key에 김유신, 30, 장군을 추가"
   ]
  },
  {
   "cell_type": "code",
   "execution_count": 9,
   "id": "ffd95098",
   "metadata": {},
   "outputs": [
    {
     "data": {
      "text/plain": [
       "{'name': ['홍길동', '김유신'], 'age': [20, 30], 'job': ['의적', '장군']}"
      ]
     },
     "execution_count": 9,
     "metadata": {},
     "output_type": "execute_result"
    }
   ],
   "source": [
    "dic5['name'].append('김유신')\n",
    "dic5['age'].append(30)\n",
    "dic5['job'].append('장군')\n",
    "\n",
    "dic5"
   ]
  },
  {
   "cell_type": "markdown",
   "id": "f3a6c63b",
   "metadata": {},
   "source": [
    "- setdefault(key, value) : 딕셔너리에 새로운 요소를 추가\n",
    "    - value가 없다면 None"
   ]
  },
  {
   "cell_type": "code",
   "execution_count": 10,
   "id": "98aa89d4",
   "metadata": {},
   "outputs": [
    {
     "data": {
      "text/plain": [
       "{'code': 100, 'type': '자동차'}"
      ]
     },
     "execution_count": 10,
     "metadata": {},
     "output_type": "execute_result"
    }
   ],
   "source": [
    "dic6 = {\"code\":100, \"type\": \"자동차\"}\n",
    "dic6"
   ]
  },
  {
   "cell_type": "code",
   "execution_count": 11,
   "id": "fd470b47",
   "metadata": {},
   "outputs": [
    {
     "data": {
      "text/plain": [
       "{'code': 100, 'type': '자동차', 'name': '소나타'}"
      ]
     },
     "execution_count": 11,
     "metadata": {},
     "output_type": "execute_result"
    }
   ],
   "source": [
    "dic6.setdefault(\"name\", \"소나타\")\n",
    "\n",
    "dic6"
   ]
  },
  {
   "cell_type": "code",
   "execution_count": 12,
   "id": "6e56e01f",
   "metadata": {},
   "outputs": [
    {
     "data": {
      "text/plain": [
       "{'code': 100, 'type': '자동차', 'name': '소나타', 'price': None}"
      ]
     },
     "execution_count": 12,
     "metadata": {},
     "output_type": "execute_result"
    }
   ],
   "source": [
    "# value가 없으면 None이 들어가는 게 위에서 인덱싱으로 새로운 요소를 넣는 것과 다른점이다 \n",
    "dic6.setdefault(\"price\")\n",
    "\n",
    "dic6"
   ]
  },
  {
   "cell_type": "markdown",
   "id": "b97606e1",
   "metadata": {},
   "source": [
    "- 요소값 수정하기\n",
    "    - dic[key] = 수정할 값"
   ]
  },
  {
   "cell_type": "code",
   "execution_count": 13,
   "id": "a9aec1e9",
   "metadata": {},
   "outputs": [
    {
     "data": {
      "text/plain": [
       "{'code': 100, 'type': '자동차', 'name': '소나타', 'price': '1000만원'}"
      ]
     },
     "execution_count": 13,
     "metadata": {},
     "output_type": "execute_result"
    }
   ],
   "source": [
    "dic6[\"price\"] = \"1000만원\"\n",
    "\n",
    "dic6"
   ]
  },
  {
   "cell_type": "code",
   "execution_count": 14,
   "id": "037942ea",
   "metadata": {},
   "outputs": [
    {
     "data": {
      "text/plain": [
       "{'name': ['홍길동', '김유신'], 'age': [20, 30], 'job': ['의적', '장군']}"
      ]
     },
     "execution_count": 14,
     "metadata": {},
     "output_type": "execute_result"
    }
   ],
   "source": [
    "dic5"
   ]
  },
  {
   "cell_type": "code",
   "execution_count": 15,
   "id": "ba0f7e47",
   "metadata": {},
   "outputs": [
    {
     "data": {
      "text/plain": [
       "{'name': ['홍길동', '김유신'], 'age': [20, 30], 'job': ['왕', '장군']}"
      ]
     },
     "execution_count": 15,
     "metadata": {},
     "output_type": "execute_result"
    }
   ],
   "source": [
    "# 의적을 왕으로 변경\n",
    "\n",
    "dic5['job'][0] = '왕'\n",
    "\n",
    "dic5"
   ]
  },
  {
   "cell_type": "markdown",
   "id": "65712617",
   "metadata": {},
   "source": [
    "- 딕셔너리에 딕셔너리를 저장할 수 있다"
   ]
  },
  {
   "cell_type": "code",
   "execution_count": 18,
   "id": "d6b30eec",
   "metadata": {},
   "outputs": [
    {
     "data": {
      "text/plain": [
       "{'region1': {'region2': ['전남', '전북', '서울']}}"
      ]
     },
     "execution_count": 18,
     "metadata": {},
     "output_type": "execute_result"
    }
   ],
   "source": [
    "dic7 = {\"region1\":{\"region2\":[\"전남\", \"전북\", \"서울\"]}}\n",
    "\n",
    "dic7"
   ]
  },
  {
   "cell_type": "code",
   "execution_count": 19,
   "id": "19571137",
   "metadata": {},
   "outputs": [
    {
     "data": {
      "text/plain": [
       "{'region1': {'region2': ['전남', '경기', '서울']}}"
      ]
     },
     "execution_count": 19,
     "metadata": {},
     "output_type": "execute_result"
    }
   ],
   "source": [
    "# 전북을 경기로\n",
    "\n",
    "dic7['region1']['region2'][1] = '경기'\n",
    "\n",
    "dic7"
   ]
  },
  {
   "cell_type": "markdown",
   "id": "bd4bd91f",
   "metadata": {},
   "source": [
    "- update(key=value) : 해당 키 값을 value로 변경\n",
    "    - key값이 문자열인 경우만 가능"
   ]
  },
  {
   "cell_type": "code",
   "execution_count": 20,
   "id": "24b5919c",
   "metadata": {},
   "outputs": [
    {
     "data": {
      "text/plain": [
       "{'code': 100, 2: '자동차'}"
      ]
     },
     "execution_count": 20,
     "metadata": {},
     "output_type": "execute_result"
    }
   ],
   "source": [
    "dic8 = {\"code\":100, 2:\"자동차\"}\n",
    "\n",
    "dic8"
   ]
  },
  {
   "cell_type": "code",
   "execution_count": 21,
   "id": "3ceea420",
   "metadata": {},
   "outputs": [
    {
     "data": {
      "text/plain": [
       "{'code': 200, 2: '자동차'}"
      ]
     },
     "execution_count": 21,
     "metadata": {},
     "output_type": "execute_result"
    }
   ],
   "source": [
    "# code를 100에서 200 변경\n",
    "dic8.update(code=200)\n",
    "\n",
    "dic8"
   ]
  },
  {
   "cell_type": "code",
   "execution_count": 22,
   "id": "01034e93",
   "metadata": {},
   "outputs": [
    {
     "ename": "SyntaxError",
     "evalue": "expression cannot contain assignment, perhaps you meant \"==\"? (3470599017.py, line 2)",
     "output_type": "error",
     "traceback": [
      "\u001b[1;36m  Input \u001b[1;32mIn [22]\u001b[1;36m\u001b[0m\n\u001b[1;33m    dic8.update(2='비행기')\u001b[0m\n\u001b[1;37m                ^\u001b[0m\n\u001b[1;31mSyntaxError\u001b[0m\u001b[1;31m:\u001b[0m expression cannot contain assignment, perhaps you meant \"==\"?\n"
     ]
    }
   ],
   "source": [
    "# 2를 자동차에서 비행기로 변경\n",
    "dic8.update(2='비행기')\n",
    "\n",
    "dic8 # expression cannot contain assignment, perhaps you meant \"==\"? 하여튼 오류"
   ]
  },
  {
   "cell_type": "code",
   "execution_count": 23,
   "id": "3c368fda",
   "metadata": {},
   "outputs": [
    {
     "data": {
      "text/plain": [
       "{'code': 200, 2: '비행기'}"
      ]
     },
     "execution_count": 23,
     "metadata": {},
     "output_type": "execute_result"
    }
   ],
   "source": [
    "# update에 숫자key를 쓰려면 1 :\n",
    "dic8.update({2:\"비행기\"})\n",
    "\n",
    "dic8"
   ]
  },
  {
   "cell_type": "code",
   "execution_count": 24,
   "id": "1703d07a",
   "metadata": {},
   "outputs": [
    {
     "data": {
      "text/plain": [
       "{'code': 200, 2: '배'}"
      ]
     },
     "execution_count": 24,
     "metadata": {},
     "output_type": "execute_result"
    }
   ],
   "source": [
    "# update에 숫자key를 쓰려면 2 : 리스트를 사용해서 변경\n",
    "dic8.update([[2, \"배\"]])\n",
    "\n",
    "dic8"
   ]
  },
  {
   "cell_type": "code",
   "execution_count": 27,
   "id": "2825c8a2",
   "metadata": {},
   "outputs": [
    {
     "data": {
      "text/plain": [
       "{1: 100, 2: '자동차'}"
      ]
     },
     "execution_count": 27,
     "metadata": {},
     "output_type": "execute_result"
    }
   ],
   "source": [
    "dic9 = {1:100, 2:\"자동차\"}\n",
    "\n",
    "dic9"
   ]
  },
  {
   "cell_type": "code",
   "execution_count": 32,
   "id": "8efa9897",
   "metadata": {},
   "outputs": [
    {
     "name": "stdout",
     "output_type": "stream",
     "text": [
      "(2, 4)\n",
      "(5, 5)\n",
      "(6, 3)\n"
     ]
    }
   ],
   "source": [
    "# update에 숫자key를 쓰려면 3 :\n",
    "# zip()함수를 사용하는 방법\n",
    "# 리스트들의 같은 인덱스 값들을 튜플로 묶어 주는 기능\n",
    "\n",
    "list1 = [2, 5, 6]\n",
    "list2 = [4, 5, 3]\n",
    "\n",
    "for i in zip(list1, list2):\n",
    "    print(f\"{i}\")"
   ]
  },
  {
   "cell_type": "code",
   "execution_count": 33,
   "id": "e4a28e73",
   "metadata": {},
   "outputs": [
    {
     "data": {
      "text/plain": [
       "{1: 200, 2: '우주선'}"
      ]
     },
     "execution_count": 33,
     "metadata": {},
     "output_type": "execute_result"
    }
   ],
   "source": [
    "dic9.update(zip([1, 2], [200,\"우주선\"]))\n",
    "\n",
    "dic9"
   ]
  },
  {
   "cell_type": "markdown",
   "id": "aa2b39a2",
   "metadata": {},
   "source": [
    "- 요소 삭제하기\n",
    "    - del 딕셔너리명[key]"
   ]
  },
  {
   "cell_type": "code",
   "execution_count": 35,
   "id": "9d3b013e",
   "metadata": {},
   "outputs": [
    {
     "data": {
      "text/plain": [
       "{2: '우주선'}"
      ]
     },
     "execution_count": 35,
     "metadata": {},
     "output_type": "execute_result"
    }
   ],
   "source": [
    "del dic9[1]\n",
    "\n",
    "dic9"
   ]
  },
  {
   "cell_type": "code",
   "execution_count": 37,
   "id": "2443e569",
   "metadata": {},
   "outputs": [
    {
     "name": "stdout",
     "output_type": "stream",
     "text": [
      "{'name': '이순신'}\n",
      "{}\n"
     ]
    }
   ],
   "source": [
    "dic10 = {\"name\":\"홍길동\", \"name\":\"이순신\"}\n",
    "\n",
    "print(dic10)\n",
    "\n",
    "del dic10[\"name\"]\n",
    "\n",
    "print(dic10)"
   ]
  },
  {
   "cell_type": "markdown",
   "id": "46915035",
   "metadata": {},
   "source": [
    "- pop(key) : 해당 key를 반환하고 해당 요소를 삭제\n",
    "    - 단, 해당 key가 없으면 오류 발생"
   ]
  },
  {
   "cell_type": "code",
   "execution_count": 45,
   "id": "f3864a28",
   "metadata": {},
   "outputs": [
    {
     "data": {
      "text/plain": [
       "{'code': 100, 'type': '자동차', 'name': '소나타', 'price': '천만원'}"
      ]
     },
     "execution_count": 45,
     "metadata": {},
     "output_type": "execute_result"
    }
   ],
   "source": [
    "dic11 = {'code': 100, 'type': '자동차', 'name': '소나타', 'price': '천만원'}\n",
    "\n",
    "dic11"
   ]
  },
  {
   "cell_type": "code",
   "execution_count": 46,
   "id": "aa060929",
   "metadata": {},
   "outputs": [
    {
     "name": "stdout",
     "output_type": "stream",
     "text": [
      "소나타\n",
      "{'code': 100, 'type': '자동차', 'price': '천만원'}\n"
     ]
    }
   ],
   "source": [
    "print(dic11.pop(\"name\"))\n",
    "\n",
    "print(dic11) # 비복원 추출"
   ]
  },
  {
   "cell_type": "code",
   "execution_count": 40,
   "id": "ddee3a2e",
   "metadata": {},
   "outputs": [
    {
     "ename": "KeyError",
     "evalue": "'name'",
     "output_type": "error",
     "traceback": [
      "\u001b[1;31m---------------------------------------------------------------------------\u001b[0m",
      "\u001b[1;31mKeyError\u001b[0m                                  Traceback (most recent call last)",
      "Input \u001b[1;32mIn [40]\u001b[0m, in \u001b[0;36m<cell line: 1>\u001b[1;34m()\u001b[0m\n\u001b[1;32m----> 1\u001b[0m \u001b[38;5;28mprint\u001b[39m(\u001b[43mdic11\u001b[49m\u001b[38;5;241;43m.\u001b[39;49m\u001b[43mpop\u001b[49m\u001b[43m(\u001b[49m\u001b[38;5;124;43m\"\u001b[39;49m\u001b[38;5;124;43mname\u001b[39;49m\u001b[38;5;124;43m\"\u001b[39;49m\u001b[43m)\u001b[49m)\n\u001b[0;32m      3\u001b[0m \u001b[38;5;28mprint\u001b[39m(dic11)\n",
      "\u001b[1;31mKeyError\u001b[0m: 'name'"
     ]
    }
   ],
   "source": [
    "print(dic11.pop(\"name\"))\n",
    "\n",
    "print(dic11) # KeyError: 'name'\n",
    "# 없는 key를 pop하면 오류 발생"
   ]
  },
  {
   "cell_type": "code",
   "execution_count": 41,
   "id": "fe5f154a",
   "metadata": {},
   "outputs": [
    {
     "name": "stdout",
     "output_type": "stream",
     "text": [
      "-1\n",
      "{'code': 100, 'type': '자동차', 'price': '천만원'}\n"
     ]
    }
   ],
   "source": [
    "# 파라미터 값으로 해당 키가 없다면 반환하는 값을 설정\n",
    "print(dic11.pop(\"name\", -1))\n",
    "\n",
    "print(dic11) "
   ]
  },
  {
   "cell_type": "markdown",
   "id": "8c10ae3a",
   "metadata": {},
   "source": [
    "- popitem() : 마지막 요소(?)를 반환하고 삭제하는 기능"
   ]
  },
  {
   "cell_type": "code",
   "execution_count": 47,
   "id": "32c6e5bf",
   "metadata": {},
   "outputs": [
    {
     "name": "stdout",
     "output_type": "stream",
     "text": [
      "('price', '천만원')\n"
     ]
    },
    {
     "data": {
      "text/plain": [
       "{'code': 100, 'type': '자동차'}"
      ]
     },
     "execution_count": 47,
     "metadata": {},
     "output_type": "execute_result"
    }
   ],
   "source": [
    "print(dic11.popitem())\n",
    "\n",
    "dic11 # python 3.5 이하 버전에서는 마지막 요소를 삭제하지 않는다. 3.5이하를 안쓸건데 뭐를 지우는지 알 필요가 있을까?"
   ]
  },
  {
   "cell_type": "markdown",
   "id": "d1de5749",
   "metadata": {},
   "source": [
    "- 요소 검색하기"
   ]
  },
  {
   "cell_type": "code",
   "execution_count": 48,
   "id": "5629ed6a",
   "metadata": {},
   "outputs": [
    {
     "data": {
      "text/plain": [
       "{'code': 100, 'type': '자동차', 'name': '소나타', 'price': '천만원'}"
      ]
     },
     "execution_count": 48,
     "metadata": {},
     "output_type": "execute_result"
    }
   ],
   "source": [
    "dic11 = {'code': 100, 'type': '자동차', 'name': '소나타', 'price': '천만원'}\n",
    "\n",
    "dic11"
   ]
  },
  {
   "cell_type": "code",
   "execution_count": 49,
   "id": "35561734",
   "metadata": {},
   "outputs": [
    {
     "name": "stdout",
     "output_type": "stream",
     "text": [
      "100\n"
     ]
    }
   ],
   "source": [
    "print(dic11[\"code\"])"
   ]
  },
  {
   "cell_type": "code",
   "execution_count": 50,
   "id": "8554e751",
   "metadata": {},
   "outputs": [
    {
     "ename": "KeyError",
     "evalue": "'code1'",
     "output_type": "error",
     "traceback": [
      "\u001b[1;31m---------------------------------------------------------------------------\u001b[0m",
      "\u001b[1;31mKeyError\u001b[0m                                  Traceback (most recent call last)",
      "Input \u001b[1;32mIn [50]\u001b[0m, in \u001b[0;36m<cell line: 2>\u001b[1;34m()\u001b[0m\n\u001b[0;32m      1\u001b[0m \u001b[38;5;66;03m# 키로 인덱싱하면 키가 없으면 에러가 발생한다\u001b[39;00m\n\u001b[1;32m----> 2\u001b[0m \u001b[38;5;28mprint\u001b[39m(\u001b[43mdic11\u001b[49m\u001b[43m[\u001b[49m\u001b[38;5;124;43m\"\u001b[39;49m\u001b[38;5;124;43mcode1\u001b[39;49m\u001b[38;5;124;43m\"\u001b[39;49m\u001b[43m]\u001b[49m)\n",
      "\u001b[1;31mKeyError\u001b[0m: 'code1'"
     ]
    }
   ],
   "source": [
    "# 키로 인덱싱하면 키가 없으면 에러가 발생한다 > get()\n",
    "print(dic11[\"code1\"])"
   ]
  },
  {
   "cell_type": "markdown",
   "id": "58033ccc",
   "metadata": {},
   "source": [
    "- get(key) : key의 value를 반환, key가 없다면 None 반환"
   ]
  },
  {
   "cell_type": "code",
   "execution_count": 51,
   "id": "f9f56564",
   "metadata": {},
   "outputs": [
    {
     "name": "stdout",
     "output_type": "stream",
     "text": [
      "None\n"
     ]
    }
   ],
   "source": [
    "print(dic11.get(\"code1\"))"
   ]
  },
  {
   "cell_type": "markdown",
   "id": "0c02b1bb",
   "metadata": {},
   "source": [
    "- keys() : 전체 key를 반환\n",
    "- values() : 전체 value 반환\n",
    "- items() : 전체 key와 value 반환"
   ]
  },
  {
   "cell_type": "code",
   "execution_count": 52,
   "id": "6e5243a1",
   "metadata": {},
   "outputs": [],
   "source": [
    "# 사이킷런에서 제공하는 iris데이터 셋을 가져온다\n",
    "\n",
    "from sklearn.datasets import load_iris\n",
    "\n",
    "iris = load_iris()"
   ]
  },
  {
   "cell_type": "code",
   "execution_count": 53,
   "id": "38ba0eac",
   "metadata": {},
   "outputs": [
    {
     "data": {
      "text/plain": [
       "dict_keys(['data', 'target', 'frame', 'target_names', 'DESCR', 'feature_names', 'filename', 'data_module'])"
      ]
     },
     "execution_count": 53,
     "metadata": {},
     "output_type": "execute_result"
    }
   ],
   "source": [
    "# key 확인\n",
    "iris.keys()"
   ]
  },
  {
   "cell_type": "code",
   "execution_count": 56,
   "id": "9e0197e2",
   "metadata": {},
   "outputs": [
    {
     "data": {
      "text/plain": [
       "array(['setosa', 'versicolor', 'virginica'], dtype='<U10')"
      ]
     },
     "execution_count": 56,
     "metadata": {},
     "output_type": "execute_result"
    }
   ],
   "source": [
    "iris['target_names']"
   ]
  },
  {
   "cell_type": "markdown",
   "id": "111da1a7",
   "metadata": {},
   "source": [
    "- 키 값을 접근하는 다른 방법"
   ]
  },
  {
   "cell_type": "code",
   "execution_count": 57,
   "id": "6cd18332",
   "metadata": {},
   "outputs": [
    {
     "data": {
      "text/plain": [
       "array(['setosa', 'versicolor', 'virginica'], dtype='<U10')"
      ]
     },
     "execution_count": 57,
     "metadata": {},
     "output_type": "execute_result"
    }
   ],
   "source": [
    "iris.target_names"
   ]
  },
  {
   "cell_type": "code",
   "execution_count": 58,
   "id": "02fb51cf",
   "metadata": {},
   "outputs": [
    {
     "data": {
      "text/plain": [
       "{'code': 100, 'type': '자동차', 'name': '소나타', 'price': '천만원'}"
      ]
     },
     "execution_count": 58,
     "metadata": {},
     "output_type": "execute_result"
    }
   ],
   "source": [
    "dic11 = {'code': 100, 'type': '자동차', 'name': '소나타', 'price': '천만원'}\n",
    "\n",
    "dic11"
   ]
  },
  {
   "cell_type": "code",
   "execution_count": 59,
   "id": "857d3bd4",
   "metadata": {},
   "outputs": [
    {
     "data": {
      "text/plain": [
       "dict_values([100, '자동차', '소나타', '천만원'])"
      ]
     },
     "execution_count": 59,
     "metadata": {},
     "output_type": "execute_result"
    }
   ],
   "source": [
    "dic11.values()"
   ]
  },
  {
   "cell_type": "code",
   "execution_count": 60,
   "id": "84f1f6db",
   "metadata": {},
   "outputs": [
    {
     "data": {
      "text/plain": [
       "dict_items([('code', 100), ('type', '자동차'), ('name', '소나타'), ('price', '천만원')])"
      ]
     },
     "execution_count": 60,
     "metadata": {},
     "output_type": "execute_result"
    }
   ],
   "source": [
    "dic11.items() # 튜플 형태로 반환"
   ]
  },
  {
   "cell_type": "code",
   "execution_count": 62,
   "id": "6939cccd",
   "metadata": {},
   "outputs": [
    {
     "name": "stdout",
     "output_type": "stream",
     "text": [
      "key : code, value : 100\n",
      "key : type, value : 자동차\n",
      "key : name, value : 소나타\n",
      "key : price, value : 천만원\n"
     ]
    }
   ],
   "source": [
    "for key, value in dic11.items():\n",
    "    print(f\"key : {key}, value : {value}\")"
   ]
  },
  {
   "cell_type": "markdown",
   "id": "cca363ad",
   "metadata": {},
   "source": [
    "- in, not in : 딕셔너리에 해당 key가 있는지 검색"
   ]
  },
  {
   "cell_type": "code",
   "execution_count": 65,
   "id": "c0374d20",
   "metadata": {},
   "outputs": [
    {
     "name": "stdout",
     "output_type": "stream",
     "text": [
      "그 key가 없습니다\n"
     ]
    }
   ],
   "source": [
    "if \"code1\" in dic11:\n",
    "    print(dic11[\"code1\"])\n",
    "else:\n",
    "    print(\"그 key가 없습니다\")"
   ]
  },
  {
   "cell_type": "markdown",
   "id": "a3f93d5c",
   "metadata": {},
   "source": [
    "- clear() : 딕셔너리의 모든 요소 삭제"
   ]
  },
  {
   "cell_type": "code",
   "execution_count": 66,
   "id": "48862727",
   "metadata": {},
   "outputs": [
    {
     "data": {
      "text/plain": [
       "{}"
      ]
     },
     "execution_count": 66,
     "metadata": {},
     "output_type": "execute_result"
    }
   ],
   "source": [
    "dic11.clear()\n",
    "dic11"
   ]
  },
  {
   "cell_type": "code",
   "execution_count": 67,
   "id": "8645a8a6",
   "metadata": {},
   "outputs": [],
   "source": [
    "score_dic = {'홍길동':{'수학':99,'영어':80,'국어':75},\n",
    "             '김유신':{'영어':67,'국어':87,'수학':55},\n",
    "             '이순신':{'수학':67,'국어':41,'영어':23}}"
   ]
  },
  {
   "cell_type": "code",
   "execution_count": 77,
   "id": "4e899323",
   "metadata": {},
   "outputs": [
    {
     "name": "stdout",
     "output_type": "stream",
     "text": [
      "수학 점수 평균 : 73\n",
      "영어 점수 평균 : 56\n",
      "국어 점수 평균 : 67\n"
     ]
    }
   ],
   "source": [
    "# 수학 점수 평균 : \n",
    "# 영어 점수 평균 : \n",
    "# 국어 점수 평균 : \n",
    "\n",
    "hapm = 0\n",
    "hape = 0\n",
    "hapk = 0\n",
    "\n",
    "for value in score_dic.values():\n",
    "    hapm += value.get(\"수학\")\n",
    "    hape += value.get(\"영어\")\n",
    "    hapk += value.get(\"국어\")\n",
    "    \n",
    "print(f\"수학 점수 평균 : {int(hapm/len(score_dic))}\")\n",
    "print(f\"영어 점수 평균 : {int(hape/len(score_dic))}\")\n",
    "print(f\"국어 점수 평균 : {int(hapk/len(score_dic))}\")\n",
    "\n"
   ]
  },
  {
   "cell_type": "code",
   "execution_count": 94,
   "id": "acf09304",
   "metadata": {},
   "outputs": [
    {
     "name": "stdout",
     "output_type": "stream",
     "text": [
      "['수학', '영어', '국어']\n",
      "[0, 0, 0]\n",
      "수학 점수 평균 : 73.67\n",
      "영어 점수 평균 : 56.67\n",
      "국어 점수 평균 : 67.67\n"
     ]
    }
   ],
   "source": [
    "# 수학 점수 평균 : \n",
    "# 영어 점수 평균 : \n",
    "# 국어 점수 평균 : \n",
    "# 인덱스로 하지말고 해보자\n",
    "\n",
    "sublist = []\n",
    "for v1 in score_dic.values():\n",
    "    for k2 in v1.keys():\n",
    "        sublist.append(k2)\n",
    "    break\n",
    "\n",
    "haplist = []\n",
    "for i in sublist:\n",
    "    haplist.append(0)\n",
    "\n",
    "for v1 in score_dic.values():\n",
    "    for k2, v2 in v1.items():\n",
    "        for i in range(len(sublist)):\n",
    "            if(k2 == sublist[i]):\n",
    "                haplist[i] += v2\n",
    "\n",
    "for i in range(len(sublist)):\n",
    "    print(f\"{sublist[i]} 점수 평균 : {round(haplist[i]/len(score_dic), 2)}\")"
   ]
  },
  {
   "cell_type": "code",
   "execution_count": 9,
   "id": "1fb5631b",
   "metadata": {},
   "outputs": [
    {
     "name": "stdout",
     "output_type": "stream",
     "text": [
      "---------------------------회원 관리 프로그램 V1.0---------------------------\n",
      "[1]\t\t[2]\t\t[3]\t\t[4]\t\t[5]\t\t\n",
      "회원등록\t회원검색\t회원수정\t회원삭제\t종료\n",
      ">> 1\n",
      "회원 코드 >> 1254\n",
      "이름 >> 123\n",
      "나이 >> 231\n",
      "회원 등급(골드, 실버, 브론즈) >> 5\n",
      "[1]\t\t[2]\t\t[3]\t\t[4]\t\t[5]\t\t\n",
      "회원등록\t회원검색\t회원수정\t회원삭제\t종료\n",
      ">> 2\n",
      "---------------------------\n",
      "코드\t이름\t나이\t등급\n",
      "---------------------------\n",
      "1254\t123\t231\t5\t\n",
      "---------------------------\n",
      "\n",
      "[1]\t\t[2]\t\t[3]\t\t[4]\t\t[5]\t\t\n",
      "회원등록\t회원검색\t회원수정\t회원삭제\t종료\n",
      ">> 5\n"
     ]
    }
   ],
   "source": [
    "s1 = \"---------------------------\"\n",
    "\n",
    "\n",
    "\n",
    "print(f\"{s1}회원 관리 프로그램 V1.0{s1}\")\n",
    "member= {}\n",
    "\n",
    "\n",
    "while True:\n",
    "    print(\"[1]\\t\\t[2]\\t\\t[3]\\t\\t[4]\\t\\t[5]\\t\\t\")\n",
    "    print(\"회원등록\\t회원검색\\t회원수정\\t회원삭제\\t종료\")\n",
    "    press = input(\">> \")\n",
    "    if press == \"1\":\n",
    "        code = input(\"회원 코드 >> \")\n",
    "        name = input(\"이름 >> \")\n",
    "        age = input(\"나이 >> \")\n",
    "        stone = input(\"회원 등급(골드, 실버, 브론즈) >> \")        \n",
    "        \n",
    "        member[code] = {\"name\":name, \"age\":age, \"stone\":stone}       \n",
    "        continue\n",
    "    if press == \"2\":\n",
    "        print(s1)\n",
    "        print(\"코드\\t이름\\t나이\\t등급\")\n",
    "        print(s1)\n",
    "        for k1, v1 in member.items():\n",
    "            print(f\"{k1}\\t\", end=\"\")\n",
    "            for v2 in v1.values():\n",
    "                print(f\"{v2}\\t\", end=\"\")\n",
    "        print()\n",
    "        print(s1)\n",
    "        print()\n",
    "        \n",
    "        continue\n",
    "    if press == \"3\":\n",
    "        continue\n",
    "    if press == \"4\":\n",
    "        continue\n",
    "    if press == \"5\":\n",
    "        pass\n",
    "    break\n",
    "    "
   ]
  },
  {
   "cell_type": "code",
   "execution_count": null,
   "id": "1b015fd3",
   "metadata": {},
   "outputs": [],
   "source": []
  },
  {
   "cell_type": "code",
   "execution_count": null,
   "id": "d8ad9207",
   "metadata": {},
   "outputs": [],
   "source": []
  },
  {
   "cell_type": "code",
   "execution_count": null,
   "id": "6bdd473e",
   "metadata": {},
   "outputs": [],
   "source": []
  },
  {
   "cell_type": "code",
   "execution_count": null,
   "id": "95d8bb99",
   "metadata": {},
   "outputs": [],
   "source": []
  },
  {
   "cell_type": "code",
   "execution_count": null,
   "id": "8b54c612",
   "metadata": {},
   "outputs": [],
   "source": []
  }
 ],
 "metadata": {
  "kernelspec": {
   "display_name": "Python 3 (ipykernel)",
   "language": "python",
   "name": "python3"
  },
  "language_info": {
   "codemirror_mode": {
    "name": "ipython",
    "version": 3
   },
   "file_extension": ".py",
   "mimetype": "text/x-python",
   "name": "python",
   "nbconvert_exporter": "python",
   "pygments_lexer": "ipython3",
   "version": "3.9.12"
  }
 },
 "nbformat": 4,
 "nbformat_minor": 5
}
