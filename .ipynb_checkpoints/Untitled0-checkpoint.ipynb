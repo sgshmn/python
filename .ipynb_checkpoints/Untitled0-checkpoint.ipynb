{
 "cells": [
  {
   "cell_type": "code",
   "execution_count": 46,
   "metadata": {},
   "outputs": [
    {
     "ename": "TypeError",
     "evalue": "replace expected at least 2 arguments, got 0",
     "output_type": "error",
     "traceback": [
      "\u001b[1;31m---------------------------------------------------------------------------\u001b[0m",
      "\u001b[1;31mTypeError\u001b[0m                                 Traceback (most recent call last)",
      "Input \u001b[1;32mIn [46]\u001b[0m, in \u001b[0;36m<cell line: 1>\u001b[1;34m()\u001b[0m\n\u001b[1;32m----> 1\u001b[0m \u001b[38;5;124;43m'\u001b[39;49m\u001b[38;5;124;43masdf\u001b[39;49m\u001b[38;5;124;43m'\u001b[39;49m\u001b[38;5;241;43m.\u001b[39;49m\u001b[43mreplace\u001b[49m\u001b[43m(\u001b[49m\u001b[43m)\u001b[49m\n",
      "\u001b[1;31mTypeError\u001b[0m: replace expected at least 2 arguments, got 0"
     ]
    }
   ],
   "source": []
  },
  {
   "cell_type": "code",
   "execution_count": 41,
   "metadata": {},
   "outputs": [],
   "source": [
    "a = np.array([1, 2, 3,4 ])"
   ]
  },
  {
   "cell_type": "code",
   "execution_count": 42,
   "metadata": {},
   "outputs": [
    {
     "name": "stdout",
     "output_type": "stream",
     "text": [
      "1\n",
      "2\n",
      "3\n",
      "4\n"
     ]
    }
   ],
   "source": [
    "for i in a :\n",
    "    print(i)"
   ]
  },
  {
   "cell_type": "code",
   "execution_count": 40,
   "metadata": {},
   "outputs": [
    {
     "ename": "SyntaxError",
     "evalue": "unexpected EOF while parsing (2399830885.py, line 8)",
     "output_type": "error",
     "traceback": [
      "\u001b[1;36m  Input \u001b[1;32mIn [40]\u001b[1;36m\u001b[0m\n\u001b[1;33m    print((a.tobytes())\u001b[0m\n\u001b[1;37m                       ^\u001b[0m\n\u001b[1;31mSyntaxError\u001b[0m\u001b[1;31m:\u001b[0m unexpected EOF while parsing\n"
     ]
    }
   ],
   "source": [
    "import numpy as np\n",
    "\n",
    "arr1 = [9, 20, 28, 18, 11]\n",
    "arr2 = [30, 1, 21, 17, 28]\n",
    "\n",
    "a = np.array(arr1) | np.array(arr2)\n"
   ]
  },
  {
   "cell_type": "code",
   "execution_count": 36,
   "metadata": {},
   "outputs": [],
   "source": [
    "import numpy as np"
   ]
  },
  {
   "cell_type": "code",
   "execution_count": 37,
   "metadata": {},
   "outputs": [],
   "source": [
    "a = np.arange()"
   ]
  },
  {
   "cell_type": "code",
   "execution_count": 35,
   "metadata": {
    "scrolled": true
   },
   "outputs": [
    {
     "data": {
      "text/plain": [
       "False"
      ]
     },
     "execution_count": 35,
     "metadata": {},
     "output_type": "execute_result"
    }
   ],
   "source": [
    "'2'.isalpha()"
   ]
  },
  {
   "cell_type": "code",
   "execution_count": 32,
   "metadata": {},
   "outputs": [
    {
     "data": {
      "text/plain": [
       "True"
      ]
     },
     "execution_count": 32,
     "metadata": {},
     "output_type": "execute_result"
    }
   ],
   "source": [
    "not False"
   ]
  },
  {
   "cell_type": "code",
   "execution_count": 27,
   "metadata": {},
   "outputs": [
    {
     "data": {
      "text/plain": [
       "[1, 2]"
      ]
     },
     "execution_count": 27,
     "metadata": {},
     "output_type": "execute_result"
    }
   ],
   "source": [
    "a = [1,2, 3]\n",
    "a.pop()\n",
    "a"
   ]
  },
  {
   "cell_type": "code",
   "execution_count": 26,
   "metadata": {},
   "outputs": [
    {
     "data": {
      "text/plain": [
       "[array([4, 6]), array([7, 9])]"
      ]
     },
     "execution_count": 26,
     "metadata": {},
     "output_type": "execute_result"
    }
   ],
   "source": [
    "import numpy\n",
    "\n",
    "arr1 = [[1,2],[2,3]]\n",
    "arr2 = [[3,4],[5,6]]\n",
    "\n",
    "list(numpy.array(arr1) + numpy.array(arr2))"
   ]
  },
  {
   "cell_type": "code",
   "execution_count": 24,
   "metadata": {},
   "outputs": [
    {
     "ename": "NameError",
     "evalue": "name 'rigth' is not defined",
     "output_type": "error",
     "traceback": [
      "\u001b[1;31m---------------------------------------------------------------------------\u001b[0m",
      "\u001b[1;31mNameError\u001b[0m                                 Traceback (most recent call last)",
      "Input \u001b[1;32mIn [24]\u001b[0m, in \u001b[0;36m<cell line: 4>\u001b[1;34m()\u001b[0m\n\u001b[0;32m      2\u001b[0m right \u001b[38;5;241m=\u001b[39m \u001b[38;5;241m17\u001b[39m\n\u001b[0;32m      3\u001b[0m a \u001b[38;5;241m=\u001b[39m \u001b[38;5;241m0\u001b[39m\n\u001b[1;32m----> 4\u001b[0m \u001b[38;5;28;01mfor\u001b[39;00m i \u001b[38;5;129;01min\u001b[39;00m \u001b[38;5;28mrange\u001b[39m(left, \u001b[43mrigth\u001b[49m \u001b[38;5;241m+\u001b[39m \u001b[38;5;241m1\u001b[39m):\n\u001b[0;32m      5\u001b[0m     a \u001b[38;5;241m+\u001b[39m\u001b[38;5;241m=\u001b[39m \u001b[38;5;241m0\u001b[39m \u001b[38;5;28;01mif\u001b[39;00m (i\u001b[38;5;241m*\u001b[39m\u001b[38;5;241m*\u001b[39m(\u001b[38;5;241m1\u001b[39m\u001b[38;5;241m/\u001b[39m\u001b[38;5;241m2\u001b[39m))\u001b[38;5;241m%\u001b[39m\u001b[38;5;241m1\u001b[39m \u001b[38;5;241m==\u001b[39m \u001b[38;5;241m0\u001b[39m \u001b[38;5;28;01melse\u001b[39;00m i\n\u001b[0;32m      6\u001b[0m a\n",
      "\u001b[1;31mNameError\u001b[0m: name 'rigth' is not defined"
     ]
    }
   ],
   "source": [
    "left = 13\n",
    "right = 17\n",
    "a = 0\n",
    "for i in range(left, rigth + 1):\n",
    "    a += 0 if (i**(1/2))%1 == 0 else i\n",
    "a"
   ]
  },
  {
   "cell_type": "code",
   "execution_count": 22,
   "metadata": {},
   "outputs": [
    {
     "data": {
      "text/plain": [
       "'gfedcbZ'"
      ]
     },
     "execution_count": 22,
     "metadata": {},
     "output_type": "execute_result"
    }
   ],
   "source": [
    "s = \"Zbcdefg\"\n",
    "''.join(list(reversed(sorted(s))))"
   ]
  },
  {
   "cell_type": "code",
   "execution_count": 16,
   "metadata": {},
   "outputs": [
    {
     "data": {
      "text/plain": [
       "[(1, -3), (2, -1), (3, 0), (4, 2)]"
      ]
     },
     "execution_count": 16,
     "metadata": {},
     "output_type": "execute_result"
    }
   ],
   "source": [
    "a = [1,2,3,4]\n",
    "b = [-3,-1,0,2]\n"
   ]
  },
  {
   "cell_type": "code",
   "execution_count": 13,
   "metadata": {},
   "outputs": [
    {
     "data": {
      "text/plain": [
       "[-1]"
      ]
     },
     "execution_count": 13,
     "metadata": {},
     "output_type": "execute_result"
    }
   ],
   "source": [
    "arr = [1, 2, 3, 4]\n",
    "divisor = 5\n",
    "[n for n in arr if n%divisor == 0] or [-1]"
   ]
  },
  {
   "cell_type": "code",
   "execution_count": 9,
   "metadata": {},
   "outputs": [
    {
     "data": {
      "text/plain": [
       "1"
      ]
     },
     "execution_count": 9,
     "metadata": {},
     "output_type": "execute_result"
    }
   ],
   "source": [
    "0 or 1"
   ]
  },
  {
   "cell_type": "code",
   "execution_count": 5,
   "metadata": {},
   "outputs": [
    {
     "data": {
      "text/plain": [
       "'54321'"
      ]
     },
     "execution_count": 5,
     "metadata": {},
     "output_type": "execute_result"
    }
   ],
   "source": [
    "n = 12354\n",
    "a = list(str(n))\n",
    "a.sort()\n",
    "a.reverse()\n",
    "''.join(a)"
   ]
  },
  {
   "cell_type": "code",
   "execution_count": 12,
   "metadata": {},
   "outputs": [
    {
     "data": {
      "text/plain": [
       "True"
      ]
     },
     "execution_count": 12,
     "metadata": {},
     "output_type": "execute_result"
    }
   ],
   "source": [
    "from math import sqrt\n",
    "\n",
    "sqrt(12100) % 1 == 0"
   ]
  },
  {
   "cell_type": "code",
   "execution_count": 4,
   "metadata": {},
   "outputs": [
    {
     "data": {
      "text/plain": [
       "'xxdxxfxxdxxf'"
      ]
     },
     "execution_count": 4,
     "metadata": {},
     "output_type": "execute_result"
    }
   ],
   "source": [
    "a = 'asdasfasdasf'\n",
    "b = a.replace('as', 'xx')\n",
    "b"
   ]
  },
  {
   "cell_type": "code",
   "execution_count": 5,
   "metadata": {},
   "outputs": [
    {
     "name": "stdout",
     "output_type": "stream",
     "text": [
      "[1, 4]\n",
      "[9, 2]\n",
      "[3, 8]\n",
      "[11, 6]\n",
      "-3.25\n",
      "-4.375\n",
      "-7.75\n",
      "-2.5\n",
      "-7.75\n",
      "-0.5\n",
      "0\n"
     ]
    }
   ],
   "source": [
    "d = [[1, 4], [9, 2], [3, 8], [11, 6]]\n",
    "\n",
    "d1 = d[0]\n",
    "d2 = d[1]\n",
    "d3 = d[2]\n",
    "d4 = d[3]\n",
    "\n",
    "print(d1)\n",
    "print(d2)\n",
    "print(d3)\n",
    "print(d4)\n",
    "\n",
    "print(d1[0] - d2[0] / d1[1] - d2[1])\n",
    "print(d3[0] - d4[0] / d3[1] - d4[1])\n",
    "print(d1[0] - d3[0] / d1[1] - d3[1])\n",
    "print(d2[0] - d4[0] / d2[1] - d4[1])\n",
    "print(d1[0] - d4[0] / d1[1] - d4[1])\n",
    "print(d2[0] - d3[0] / d2[1] - d3[1])\n",
    "\n",
    "\n",
    "\n",
    "if (d1[0] - d2[0] / d1[1] - d2[1]) == (d3[0] - d4[0] / d3[1] - d4[1]):\n",
    "    print(1)\n",
    "elif (d1[0] - d3[0] / d1[1] - d3[1]) == (d2[0] - d4[0] / d2[1] - d4[1]):\n",
    "    print(1)\n",
    "elif (d1[0] - d4[0] / d1[1] - d4[1]) == (d2[0] - d3[0] / d2[1] - d3[1]):\n",
    "    print(1)\n",
    "else:\n",
    "    print(0)"
   ]
  },
  {
   "cell_type": "code",
   "execution_count": 33,
   "metadata": {},
   "outputs": [
    {
     "data": {
      "text/plain": [
       "[[1, 4], [3, 8], [9, 2], [11, 6]]"
      ]
     },
     "execution_count": 33,
     "metadata": {},
     "output_type": "execute_result"
    }
   ],
   "source": [
    "a = [[1, 4], [9, 2], [3, 8], [11, 6]]\n",
    "a.sort()\n",
    "a"
   ]
  },
  {
   "cell_type": "code",
   "execution_count": 32,
   "metadata": {},
   "outputs": [
    {
     "data": {
      "text/plain": [
       "[[0, 0, 0, 0, 0],\n",
       " [0, 0, 1, 1, 0],\n",
       " [0, 1, 0, 0, 0],\n",
       " [0, 0, 1, 0, 0],\n",
       " [1, 0, 0, 0, 0]]"
      ]
     },
     "execution_count": 32,
     "metadata": {},
     "output_type": "execute_result"
    }
   ],
   "source": [
    "a = [\n",
    "    [0, 0, 0, 0, 0],\n",
    "    [0, 0, 1, 1, 0],\n",
    "    [0, 1, 0, 0, 0],\n",
    "    [0, 0, 1, 0, 0],\n",
    "    [1, 0, 0, 0, 0]\n",
    "]\n",
    "a"
   ]
  },
  {
   "cell_type": "code",
   "execution_count": 28,
   "metadata": {},
   "outputs": [
    {
     "data": {
      "text/plain": [
       "2.0"
      ]
     },
     "execution_count": 28,
     "metadata": {},
     "output_type": "execute_result"
    }
   ],
   "source": [
    "round(2.5, 0)"
   ]
  },
  {
   "cell_type": "code",
   "execution_count": 15,
   "metadata": {},
   "outputs": [
    {
     "data": {
      "text/plain": [
       "1"
      ]
     },
     "execution_count": 15,
     "metadata": {},
     "output_type": "execute_result"
    }
   ],
   "source": [
    "3 // 2\n"
   ]
  },
  {
   "cell_type": "code",
   "execution_count": 12,
   "metadata": {},
   "outputs": [
    {
     "name": "stdout",
     "output_type": "stream",
     "text": [
      "[1, 2]\n",
      "3x + 0\n"
     ]
    }
   ],
   "source": [
    "polynomial = \"x + 2x + 0\"\n",
    "\n",
    "p = polynomial.split(' + ')\n",
    "xs = []\n",
    "nums = []\n",
    "for i in p:\n",
    "    if 'x' in i:\n",
    "        xs.append(i)\n",
    "    else:\n",
    "        nums.append(int(i))\n",
    "\n",
    "\n",
    "\n",
    "for i, v in enumerate(xs):\n",
    "    if len(v) == 1:\n",
    "        xs[i] = 1\n",
    "    else:\n",
    "        xs[i] = int(v[:-1])\n",
    "print(xs)\n",
    "if len(xs) == 0:\n",
    "    print(str(sum(nums)))\n",
    "elif len(nums) == 0:\n",
    "    print(str(sum(xs)) + 'x')\n",
    "elif sum(xs) == 1:\n",
    "    print('x + ' + str(sum(nums)))\n",
    "else:\n",
    "    print(str(sum(xs)) + 'x + ' + str(sum(nums)))"
   ]
  },
  {
   "cell_type": "code",
   "execution_count": 56,
   "metadata": {},
   "outputs": [
    {
     "data": {
      "text/plain": [
       "13"
      ]
     },
     "execution_count": 56,
     "metadata": {},
     "output_type": "execute_result"
    }
   ],
   "source": [
    "n = 10\n",
    "pl = 0\n",
    "\n",
    "a = list(range(1, n + 1))\n",
    "\n",
    "for i in a:\n",
    "    if i % 3 == 0:\n",
    "        pl += 1\n",
    "    elif '3' in str(i):\n",
    "        pl += 1\n",
    "pl + n"
   ]
  },
  {
   "cell_type": "code",
   "execution_count": 53,
   "metadata": {},
   "outputs": [
    {
     "name": "stdout",
     "output_type": "stream",
     "text": [
      "[150, 140, 130, 110]\n",
      "[150, 140, 110, 130]\n"
     ]
    },
    {
     "data": {
      "text/plain": [
       "[0, 1, 3, 2]"
      ]
     },
     "execution_count": 53,
     "metadata": {},
     "output_type": "execute_result"
    }
   ],
   "source": [
    "score = [[80, 70], [90, 50], [40, 70], [50, 80]]\n",
    "\n",
    "s = list(map(sum, score))\n",
    "c = s.copy()\n",
    "s.sort()\n",
    "s.reverse()\n",
    "print(s)\n",
    "print(c)\n",
    "\n",
    "re = []\n",
    "for i in range(len(c)):\n",
    "    re.append(s.index(c[i]))\n",
    "re"
   ]
  },
  {
   "cell_type": "code",
   "execution_count": 49,
   "metadata": {},
   "outputs": [
    {
     "name": "stdout",
     "output_type": "stream",
     "text": [
      "[0.1, 0.9, 1.1, 1.9, 2.1, 3.1]\n",
      "[4, 5, 3, 6, 2, 1]\n"
     ]
    }
   ],
   "source": [
    "nl = [1, 2, 3, 4, 5, 6]\n",
    "n = 4\n",
    "\n",
    "nl = list(map(lambda x : abs(x - n - 0.1), nl))\n",
    "nl.sort()\n",
    "\n",
    "print(nl)\n",
    "\n",
    "nl2 = []\n",
    "for i in nl:\n",
    "    if round((i % 1), 1) == 0.9:\n",
    "        nl2.append(int(i + 0.1) + n)\n",
    "    else:\n",
    "        nl2.append(int(-i - 0.1) + n)\n",
    "\n",
    "print(nl2)"
   ]
  },
  {
   "cell_type": "code",
   "execution_count": 40,
   "metadata": {
    "scrolled": true
   },
   "outputs": [
    {
     "data": {
      "text/plain": [
       "0.1"
      ]
     },
     "execution_count": 40,
     "metadata": {},
     "output_type": "execute_result"
    }
   ],
   "source": [
    "round((10 % 0.1),1)"
   ]
  },
  {
   "cell_type": "code",
   "execution_count": 14,
   "metadata": {},
   "outputs": [
    {
     "name": "stdout",
     "output_type": "stream",
     "text": [
      "[[1, 1], [1, 2], [2, 1], [2, 2]]\n"
     ]
    },
    {
     "data": {
      "text/plain": [
       "1"
      ]
     },
     "execution_count": 14,
     "metadata": {},
     "output_type": "execute_result"
    }
   ],
   "source": [
    "dots = [[1, 1], [2, 1], [2, 2], [1, 2]]\n",
    "dots.sort()\n",
    "\n",
    "print(dots)\n",
    "(dots[1][1] - dots[0][1]) * (dots[2][0] - dots[0][0])"
   ]
  },
  {
   "cell_type": "code",
   "execution_count": 15,
   "metadata": {},
   "outputs": [
    {
     "data": {
      "text/plain": [
       "[[1, 1], [1, 2], [2, 1], [2, 2]]"
      ]
     },
     "execution_count": 15,
     "metadata": {},
     "output_type": "execute_result"
    }
   ],
   "source": [
    "a = [[1, 1], [2, 1], [2, 2], [1, 2]]\n",
    "a.sort()\n",
    "a"
   ]
  },
  {
   "cell_type": "code",
   "execution_count": 2,
   "metadata": {},
   "outputs": [
    {
     "ename": "ZeroDivisionError",
     "evalue": "integer division or modulo by zero",
     "output_type": "error",
     "traceback": [
      "\u001b[1;31m---------------------------------------------------------------------------\u001b[0m",
      "\u001b[1;31mZeroDivisionError\u001b[0m                         Traceback (most recent call last)",
      "Input \u001b[1;32mIn [2]\u001b[0m, in \u001b[0;36m<cell line: 7>\u001b[1;34m()\u001b[0m\n\u001b[0;32m      5\u001b[0m temp \u001b[38;5;241m=\u001b[39m \u001b[38;5;241m0\u001b[39m\n\u001b[0;32m      6\u001b[0m \u001b[38;5;28;01mwhile\u001b[39;00m \u001b[38;5;28;01mTrue\u001b[39;00m:\n\u001b[1;32m----> 7\u001b[0m     \u001b[38;5;28;01mif\u001b[39;00m \u001b[43ma\u001b[49m\u001b[43m \u001b[49m\u001b[38;5;241;43m%\u001b[39;49m\u001b[43m \u001b[49m\u001b[43mb\u001b[49m \u001b[38;5;241m==\u001b[39m \u001b[38;5;241m0\u001b[39m:\n\u001b[0;32m      8\u001b[0m         temp \u001b[38;5;241m=\u001b[39m b\n\u001b[0;32m      9\u001b[0m         \u001b[38;5;28;01mbreak\u001b[39;00m\n",
      "\u001b[1;31mZeroDivisionError\u001b[0m: integer division or modulo by zero"
     ]
    }
   ],
   "source": [
    "a = 7\n",
    "b = 20\n",
    "\n",
    "y = b\n",
    "temp = 0\n",
    "while True:\n",
    "    if a % b == 0:\n",
    "        temp = b\n",
    "        break\n",
    "\n",
    "    temp = a\n",
    "    a = b\n",
    "    b = temp % b\n",
    "\n",
    "y /= temp\n",
    "\n",
    "k = 2\n",
    "while True:\n",
    "    if y % k == 0:\n",
    "        y /= k\n",
    "    else:\n",
    "        break\n",
    "k = 5\n",
    "while True:\n",
    "    if y % k == 0:\n",
    "        y /= k\n",
    "    else:\n",
    "        break\n",
    "\n",
    "if y == 1:\n",
    "    return 1\n",
    "else:\n",
    "    return 2"
   ]
  },
  {
   "cell_type": "code",
   "execution_count": 1,
   "metadata": {},
   "outputs": [
    {
     "data": {
      "text/plain": [
       "[1, 0]"
      ]
     },
     "execution_count": 1,
     "metadata": {},
     "output_type": "execute_result"
    }
   ],
   "source": [
    "a = [0, 0]\n",
    "a[0] += 1\n",
    "a"
   ]
  },
  {
   "cell_type": "code",
   "execution_count": 52,
   "metadata": {},
   "outputs": [
    {
     "data": {
      "text/plain": [
       "13"
      ]
     },
     "execution_count": 52,
     "metadata": {},
     "output_type": "execute_result"
    }
   ],
   "source": [
    "a = '0'\n",
    "a += '13'\n",
    "int(a)"
   ]
  },
  {
   "cell_type": "code",
   "execution_count": 50,
   "metadata": {},
   "outputs": [
    {
     "name": "stdout",
     "output_type": "stream",
     "text": [
      "[7, 6, 5, 4, 3, 2, 1]\n"
     ]
    },
    {
     "data": {
      "text/plain": [
       "[7, 6, 5, 4, 3, 2, 1]"
      ]
     },
     "execution_count": 50,
     "metadata": {},
     "output_type": "execute_result"
    }
   ],
   "source": [
    "emergency = [1, 2, 3, 4, 5, 6, 7]\n",
    "emergency.reverse()\n",
    "print(emergency)\n",
    "answer = []\n",
    "for i in range(len(emergency)):\n",
    "    k = min(emergency)\n",
    "    p = emergency.index(k)\n",
    "    emergency[p] = 101\n",
    "    answer.append(p+1)\n",
    "    \n",
    "answer"
   ]
  },
  {
   "cell_type": "code",
   "execution_count": 45,
   "metadata": {},
   "outputs": [
    {
     "data": {
      "text/plain": [
       "0"
      ]
     },
     "execution_count": 45,
     "metadata": {},
     "output_type": "execute_result"
    }
   ],
   "source": [
    "qq = [1,2,4]\n",
    "qq.reverse()\n",
    "qq.index(4)"
   ]
  },
  {
   "cell_type": "code",
   "execution_count": 39,
   "metadata": {},
   "outputs": [],
   "source": [
    "pp = []\n",
    "for i in range(1, 10000):\n",
    "    k = set(list(str(i)))\n",
    "    if len(k) == 4:\n",
    "        pp.append(i)"
   ]
  },
  {
   "cell_type": "code",
   "execution_count": 41,
   "metadata": {},
   "outputs": [
    {
     "data": {
      "text/plain": [
       "4536"
      ]
     },
     "execution_count": 41,
     "metadata": {},
     "output_type": "execute_result"
    }
   ],
   "source": [
    "len(pp)"
   ]
  },
  {
   "cell_type": "code",
   "execution_count": null,
   "metadata": {},
   "outputs": [],
   "source": [
    "def check(n):\n",
    "    k = input()\n",
    "    \n",
    "\n",
    "\n"
   ]
  },
  {
   "cell_type": "code",
   "execution_count": 36,
   "metadata": {},
   "outputs": [
    {
     "data": {
      "text/plain": [
       "2846"
      ]
     },
     "execution_count": 36,
     "metadata": {},
     "output_type": "execute_result"
    }
   ],
   "source": []
  },
  {
   "cell_type": "code",
   "execution_count": 23,
   "metadata": {},
   "outputs": [
    {
     "data": {
      "text/plain": [
       "2"
      ]
     },
     "execution_count": 23,
     "metadata": {},
     "output_type": "execute_result"
    }
   ],
   "source": [
    "s = '0b10'\n",
    "int(s, 2)"
   ]
  },
  {
   "cell_type": "code",
   "execution_count": 18,
   "metadata": {},
   "outputs": [
    {
     "data": {
      "text/plain": [
       "'sdgas'"
      ]
     },
     "execution_count": 18,
     "metadata": {},
     "output_type": "execute_result"
    }
   ],
   "source": [
    "s = 'asdgas'\n",
    "\n",
    "s[1:20]"
   ]
  },
  {
   "cell_type": "code",
   "execution_count": 10,
   "metadata": {},
   "outputs": [
    {
     "data": {
      "text/plain": [
       "dict_keys(['1', '2'])"
      ]
     },
     "execution_count": 10,
     "metadata": {},
     "output_type": "execute_result"
    }
   ],
   "source": [
    "a = {'1':3,\n",
    "    '2':4}\n",
    "a.keys()"
   ]
  },
  {
   "cell_type": "code",
   "execution_count": 8,
   "metadata": {
    "scrolled": true
   },
   "outputs": [
    {
     "data": {
      "text/plain": [
       "-1"
      ]
     },
     "execution_count": 8,
     "metadata": {},
     "output_type": "execute_result"
    }
   ],
   "source": [
    "a = 'aaasdf'\n",
    "a.find('g')"
   ]
  },
  {
   "cell_type": "code",
   "execution_count": 5,
   "metadata": {},
   "outputs": [
    {
     "data": {
      "text/plain": [
       "['p', 'p', 'p']"
      ]
     },
     "execution_count": 5,
     "metadata": {},
     "output_type": "execute_result"
    }
   ],
   "source": [
    "a = 'PPP'\n",
    "s = a.lower()\n",
    "list(s)"
   ]
  },
  {
   "cell_type": "code",
   "execution_count": 17,
   "metadata": {},
   "outputs": [
    {
     "data": {
      "text/plain": [
       "2"
      ]
     },
     "execution_count": 17,
     "metadata": {},
     "output_type": "execute_result"
    }
   ],
   "source": [
    "a = 'hello'\n",
    "p = set(a)\n",
    "\n",
    "s = [1,2,3]\n",
    "s.count(3)\n",
    "a.count('l')"
   ]
  },
  {
   "cell_type": "code",
   "execution_count": 8,
   "metadata": {},
   "outputs": [
    {
     "data": {
      "text/plain": [
       "['a', 's', 'd', 'f', '0', '1', '2']"
      ]
     },
     "execution_count": 8,
     "metadata": {},
     "output_type": "execute_result"
    }
   ],
   "source": [
    "a = 'asdf012'\n",
    "b = list(a)\n",
    "for i in b:\n",
    "    if i in [1,2,3]"
   ]
  },
  {
   "cell_type": "code",
   "execution_count": 22,
   "metadata": {},
   "outputs": [],
   "source": [
    "for i in range(1,1):\n",
    "    print(0)"
   ]
  },
  {
   "cell_type": "code",
   "execution_count": 20,
   "metadata": {},
   "outputs": [
    {
     "data": {
      "text/plain": [
       "1"
      ]
     },
     "execution_count": 20,
     "metadata": {},
     "output_type": "execute_result"
    }
   ],
   "source": [
    "a='asda'\n",
    "b='s'\n",
    "a.count(b)"
   ]
  },
  {
   "cell_type": "code",
   "execution_count": 16,
   "metadata": {},
   "outputs": [
    {
     "name": "stdout",
     "output_type": "stream",
     "text": [
      "y\n",
      "p\n",
      "p\n",
      "a\n",
      "h\n"
     ]
    }
   ],
   "source": [
    "a = 'happy'\n",
    "for j in reversed(a):\n",
    "    print(j)"
   ]
  },
  {
   "cell_type": "code",
   "execution_count": 4,
   "metadata": {},
   "outputs": [
    {
     "data": {
      "text/plain": [
       "9"
      ]
     },
     "execution_count": 4,
     "metadata": {},
     "output_type": "execute_result"
    }
   ],
   "source": [
    "-1%10"
   ]
  },
  {
   "cell_type": "code",
   "execution_count": 7,
   "metadata": {},
   "outputs": [],
   "source": [
    "a = [1, 1, 3, 4]\n",
    "a.count(-1)\n",
    "b = a.reverse()\n",
    "b"
   ]
  },
  {
   "cell_type": "code",
   "execution_count": 7,
   "metadata": {},
   "outputs": [
    {
     "name": "stdout",
     "output_type": "stream",
     "text": [
      "0\n"
     ]
    }
   ],
   "source": [
    "a = list(range(1, 11))\n",
    "try:\n",
    "    a.remove(12)\n",
    "except:\n",
    "    print(0)"
   ]
  },
  {
   "cell_type": "code",
   "execution_count": 6,
   "metadata": {},
   "outputs": [
    {
     "name": "stdout",
     "output_type": "stream",
     "text": [
      "3 3\n",
      "1 1 1\n",
      "2 2 2\n",
      "0 1 0\n",
      "3 3 3\n",
      "4 4 4\n",
      "5 5 100\n",
      "4 4 4 6 6 6 5 6 100 "
     ]
    }
   ],
   "source": [
    "m,n = map(int, input().split())\n",
    "ms = []\n",
    "for i in range(m):\n",
    "    tmp = []\n",
    "    for j in range(n):\n",
    "        tmp.append(0)\n",
    "    ms.append(tmp)\n",
    "\n",
    "for i in range(2):\n",
    "    tmp = []\n",
    "    for j in range(m):\n",
    "        tmp.append(list(map(int, input().split())))\n",
    "    \n",
    "    for j in range(m):\n",
    "        for k in range(n):\n",
    "            ms[j][k] += tmp[j][k]\n",
    "for i in range(m):\n",
    "    for j in range(n):\n",
    "        print(ms[i][j], end=' ')\n",
    "    print()"
   ]
  },
  {
   "cell_type": "code",
   "execution_count": 4,
   "metadata": {},
   "outputs": [
    {
     "data": {
      "text/plain": [
       "3"
      ]
     },
     "execution_count": 4,
     "metadata": {},
     "output_type": "execute_result"
    }
   ],
   "source": [
    "a = [1,2,3]\n",
    "len(a)"
   ]
  },
  {
   "cell_type": "code",
   "execution_count": 2,
   "metadata": {},
   "outputs": [
    {
     "name": "stdout",
     "output_type": "stream",
     "text": [
      "1\n",
      "5 50 50 70 80 100\n",
      "40.000%\n"
     ]
    }
   ],
   "source": [
    "n = int(input())\n",
    "\n",
    "for i in range(n):\n",
    "    data = list(map(int, input().split()))\n",
    "    m = data[0]\n",
    "    avg = 0\n",
    "    for j in range(1, m+1):\n",
    "        avg += data[j]\n",
    "    avg /= m\n",
    "    re = 0\n",
    "    for j in range(1, m+1):\n",
    "        if data[j] > avg:\n",
    "            re += 1\n",
    "    print(f'{float(re)/m*100.0:.3f}%')"
   ]
  },
  {
   "cell_type": "code",
   "execution_count": 1,
   "metadata": {},
   "outputs": [
    {
     "name": "stdout",
     "output_type": "stream",
     "text": [
      "2\n",
      "2 10 20\n"
     ]
    },
    {
     "ename": "NameError",
     "evalue": "name 'li' is not defined",
     "output_type": "error",
     "traceback": [
      "\u001b[1;31m---------------------------------------------------------------------------\u001b[0m",
      "\u001b[1;31mNameError\u001b[0m                                 Traceback (most recent call last)",
      "Input \u001b[1;32mIn [1]\u001b[0m, in \u001b[0;36m<cell line: 2>\u001b[1;34m()\u001b[0m\n\u001b[0;32m      7\u001b[0m avg \u001b[38;5;241m/\u001b[39m\u001b[38;5;241m=\u001b[39m li1[\u001b[38;5;241m0\u001b[39m]\n\u001b[0;32m      8\u001b[0m li2 \u001b[38;5;241m=\u001b[39m []\n\u001b[1;32m----> 9\u001b[0m \u001b[38;5;28;01mfor\u001b[39;00m i \u001b[38;5;129;01min\u001b[39;00m \u001b[38;5;28mrange\u001b[39m(\u001b[43mli\u001b[49m[\u001b[38;5;241m0\u001b[39m]):\n\u001b[0;32m     10\u001b[0m     li2\u001b[38;5;241m.\u001b[39mappend(li[i\u001b[38;5;241m+\u001b[39m\u001b[38;5;241m1\u001b[39m] \u001b[38;5;241m>\u001b[39m avg)\n\u001b[0;32m     11\u001b[0m \u001b[38;5;28mprint\u001b[39m(\u001b[38;5;124mf\u001b[39m\u001b[38;5;124m'\u001b[39m\u001b[38;5;132;01m{\u001b[39;00m\u001b[38;5;241m100\u001b[39m\u001b[38;5;241m*\u001b[39m\u001b[38;5;28msum\u001b[39m(li2)\u001b[38;5;241m/\u001b[39mli1[\u001b[38;5;241m0\u001b[39m]\u001b[38;5;132;01m}\u001b[39;00m\u001b[38;5;124m%\u001b[39m\u001b[38;5;124m'\u001b[39m)\n",
      "\u001b[1;31mNameError\u001b[0m: name 'li' is not defined"
     ]
    }
   ],
   "source": [
    "c = int(input())\n",
    "for i in range(c):\n",
    "    li1 = list(map(int, input().split()))\n",
    "    avg = 0\n",
    "    for j in li1[1:]:\n",
    "        avg += j\n",
    "    avg /= li1[0]\n",
    "    li2 = []\n",
    "    for i in range(li1[0]):\n",
    "        li2.append(li1[i+1] > avg)\n",
    "    print(f'{100*sum(li2)/li1[0]}%')"
   ]
  },
  {
   "cell_type": "code",
   "execution_count": 1,
   "metadata": {},
   "outputs": [
    {
     "ename": "SyntaxError",
     "evalue": "invalid syntax (1791603242.py, line 5)",
     "output_type": "error",
     "traceback": [
      "\u001b[1;36m  Input \u001b[1;32mIn [1]\u001b[1;36m\u001b[0m\n\u001b[1;33m    for as in ass:\u001b[0m\n\u001b[1;37m        ^\u001b[0m\n\u001b[1;31mSyntaxError\u001b[0m\u001b[1;31m:\u001b[0m invalid syntax\n"
     ]
    }
   ],
   "source": [
    "n = int(input())\n",
    "ass = []\n",
    "for i in range(n):\n",
    "    ass.append(input())\n",
    "for as in ass:\n",
    "    bs = []\n",
    "    for a in as:\n",
    "        if a =='O':\n",
    "            bs.append(1)\n",
    "        else:\n",
    "            bs.append(0)\n",
    "    for i in range(1, len(bs)):\n",
    "        if bs[i] == 1:\n",
    "            if bs[i-1] != 0:\n",
    "                bs[i] = bs[i-1] + 1\n",
    "    print(sum(bs))\n"
   ]
  },
  {
   "cell_type": "code",
   "execution_count": 12,
   "metadata": {},
   "outputs": [
    {
     "name": "stdout",
     "output_type": "stream",
     "text": [
      "3\n",
      "4 8 6\n",
      "75.0\n"
     ]
    }
   ],
   "source": [
    "n = int(input())\n",
    "ns = list(map(int, input().split()))\n",
    "m = max(ns)\n",
    "hap = 0\n",
    "for i in ns:\n",
    "    hap += (i/m)*100\n",
    "print(hap/n)"
   ]
  },
  {
   "cell_type": "code",
   "execution_count": 10,
   "metadata": {},
   "outputs": [
    {
     "data": {
      "text/plain": [
       "1"
      ]
     },
     "execution_count": 10,
     "metadata": {},
     "output_type": "execute_result"
    }
   ],
   "source": [
    "a=set([])\n",
    "a.add(3)\n",
    "len(a)"
   ]
  },
  {
   "cell_type": "code",
   "execution_count": 2,
   "metadata": {},
   "outputs": [
    {
     "name": "stdout",
     "output_type": "stream",
     "text": [
      "1\n",
      "2\n",
      "3\n",
      "4\n",
      "5\n",
      "6\n",
      "7\n",
      "8\n",
      "9\n",
      "10\n",
      "11\n",
      "12\n",
      "13\n",
      "14\n",
      "15\n",
      "16\n",
      "17\n",
      "18\n",
      "19\n",
      "20\n",
      "21\n",
      "22\n",
      "23\n",
      "24\n",
      "25\n",
      "26\n",
      "27\n",
      "28\n"
     ]
    }
   ],
   "source": [
    "a=[]\n",
    "for i in range(30):\n",
    "    a.append(i+1)\n",
    "# for i in range(28):\n",
    "#     a.pop(int(input()))\n",
    "for k in a:\n",
    "    print(k)"
   ]
  },
  {
   "cell_type": "code",
   "execution_count": 4,
   "metadata": {},
   "outputs": [
    {
     "data": {
      "text/plain": [
       "[2, 3]"
      ]
     },
     "execution_count": 4,
     "metadata": {},
     "output_type": "execute_result"
    }
   ],
   "source": [
    "a=[1,2,3]\n",
    "a.remove(1)\n",
    "a"
   ]
  },
  {
   "cell_type": "code",
   "execution_count": 18,
   "metadata": {},
   "outputs": [
    {
     "name": "stdout",
     "output_type": "stream",
     "text": [
      "{1: (1, 1), 2: (2, 0), 3: (2, 4), 4: (3, 0)}\n",
      "11\n"
     ]
    }
   ],
   "source": [
    "# 0 0 0 0 0\n",
    "# 0 1 0 0 0\n",
    "# 2 0 0 0 3\n",
    "# 4 0 0 0 0\n",
    "# 0 0 0 0 0\n",
    "# n, m = map(int, input().split())\n",
    "\n",
    "n = 5\n",
    "m = 4\n",
    "\n",
    "arr = []\n",
    "dict_loc = {}\n",
    "# for i in range(n):\n",
    "#     arr.append(list(map(int, input().split())))\n",
    "\n",
    "arr.append([0,0,0,0,0])\n",
    "arr.append([0,1,0,0,0])\n",
    "arr.append([2,0,0,0,3])\n",
    "arr.append([4,0,0,0,0])\n",
    "arr.append([0,0,0,0,0])\n",
    "\n",
    "for r in range(n):\n",
    "    for c in range(n):\n",
    "        if arr[r][c] != 0:\n",
    "            dict_loc[arr[r][c]] = (r,c)\n",
    "        \n",
    "\n",
    "print(dict_loc)\n",
    "d = 0\n",
    "for i in range(2, m+1):\n",
    "#     print(dict_loc[i])\n",
    "    d += abs(dict_loc[i-1][0] - dict_loc[i][0]) + abs(dict_loc[i-1][1] - dict_loc[i][1])\n",
    "print(d)"
   ]
  },
  {
   "cell_type": "code",
   "execution_count": 2,
   "metadata": {},
   "outputs": [
    {
     "name": "stdout",
     "output_type": "stream",
     "text": [
      "10 5\n",
      "1 10 4 9 2 3 8 5 7 6\n",
      "1 4 2 3\n"
     ]
    }
   ],
   "source": [
    "n, x = map(int, input().split())\n",
    "ns = list(map(int, input().split()))\n",
    "rs=[]\n",
    "for i in ns:\n",
    "    if i<x:\n",
    "        rs.append(str(i))\n",
    "rss=' '.join(rs)\n",
    "print(rss)"
   ]
  },
  {
   "cell_type": "code",
   "execution_count": 2,
   "metadata": {},
   "outputs": [
    {
     "name": "stdout",
     "output_type": "stream",
     "text": [
      "-3\n"
     ]
    },
    {
     "data": {
      "text/plain": [
       "1"
      ]
     },
     "execution_count": 2,
     "metadata": {},
     "output_type": "execute_result"
    }
   ],
   "source": [
    "a = '3 5 1 3 5 -3'\n",
    "b=input()\n",
    "a.count(b)"
   ]
  },
  {
   "cell_type": "code",
   "execution_count": 1,
   "metadata": {},
   "outputs": [
    {
     "name": "stdout",
     "output_type": "stream",
     "text": [
      "3\n"
     ]
    },
    {
     "data": {
      "text/plain": [
       "(3, 4)"
      ]
     },
     "execution_count": 1,
     "metadata": {},
     "output_type": "execute_result"
    }
   ],
   "source": [
    "a=int(input())\n",
    "b=a\n",
    "b+=1\n",
    "a,b"
   ]
  },
  {
   "cell_type": "code",
   "execution_count": 3,
   "metadata": {},
   "outputs": [
    {
     "name": "stdout",
     "output_type": "stream",
     "text": [
      "4\n"
     ]
    },
    {
     "ename": "ValueError",
     "evalue": "Unknown format code 'a' for object of type 'str'",
     "output_type": "error",
     "traceback": [
      "\u001b[1;31m---------------------------------------------------------------------------\u001b[0m",
      "\u001b[1;31mValueError\u001b[0m                                Traceback (most recent call last)",
      "Input \u001b[1;32mIn [3]\u001b[0m, in \u001b[0;36m<cell line: 2>\u001b[1;34m()\u001b[0m\n\u001b[0;32m      1\u001b[0m a\u001b[38;5;241m=\u001b[39m\u001b[38;5;28mint\u001b[39m(\u001b[38;5;28minput\u001b[39m())\n\u001b[0;32m      2\u001b[0m \u001b[38;5;28;01mfor\u001b[39;00m i \u001b[38;5;129;01min\u001b[39;00m \u001b[38;5;28mrange\u001b[39m(a):\n\u001b[1;32m----> 3\u001b[0m     \u001b[38;5;28mprint\u001b[39m(\u001b[38;5;124mf\u001b[39m\u001b[38;5;124m'\u001b[39m\u001b[38;5;132;01m{\u001b[39;00m\u001b[38;5;124m\"\u001b[39m\u001b[38;5;124m*\u001b[39m\u001b[38;5;124m\"\u001b[39m\u001b[38;5;241m*\u001b[39m(i\u001b[38;5;241m+\u001b[39m\u001b[38;5;241m1\u001b[39m)\u001b[38;5;132;01m:\u001b[39;00m\u001b[38;5;124m >a\u001b[39m\u001b[38;5;132;01m}\u001b[39;00m\u001b[38;5;124m'\u001b[39m)\n",
      "\u001b[1;31mValueError\u001b[0m: Unknown format code 'a' for object of type 'str'"
     ]
    }
   ],
   "source": [
    "a=int(input())\n",
    "for i in range(a):\n",
    "    print(f'{\"*\"*(i+1): >a}')"
   ]
  },
  {
   "cell_type": "code",
   "execution_count": 5,
   "metadata": {
    "scrolled": true
   },
   "outputs": [
    {
     "ename": "ModuleNotFoundError",
     "evalue": "No module named 'sys.stdin'; 'sys' is not a package",
     "output_type": "error",
     "traceback": [
      "\u001b[1;31m---------------------------------------------------------------------------\u001b[0m",
      "\u001b[1;31mModuleNotFoundError\u001b[0m                       Traceback (most recent call last)",
      "Input \u001b[1;32mIn [5]\u001b[0m, in \u001b[0;36m<cell line: 1>\u001b[1;34m()\u001b[0m\n\u001b[1;32m----> 1\u001b[0m \u001b[38;5;28;01mimport\u001b[39;00m \u001b[38;5;21;01msys\u001b[39;00m\u001b[38;5;21;01m.\u001b[39;00m\u001b[38;5;21;01mstdin\u001b[39;00m\u001b[38;5;21;01m.\u001b[39;00m\u001b[38;5;21;01mreadline\u001b[39;00m\n\u001b[0;32m      2\u001b[0m a \u001b[38;5;241m=\u001b[39m sys\u001b[38;5;241m.\u001b[39mstdin\u001b[38;5;241m.\u001b[39mreadline()\n\u001b[0;32m      3\u001b[0m \u001b[38;5;28mprint\u001b[39m(a)\n",
      "\u001b[1;31mModuleNotFoundError\u001b[0m: No module named 'sys.stdin'; 'sys' is not a package"
     ]
    }
   ],
   "source": [
    "import sys.stdin.readline\n",
    "a = sys.stdin.readline()\n",
    "print(a)"
   ]
  },
  {
   "cell_type": "code",
   "execution_count": 3,
   "metadata": {},
   "outputs": [
    {
     "data": {
      "text/plain": [
       "3"
      ]
     },
     "execution_count": 3,
     "metadata": {},
     "output_type": "execute_result"
    }
   ],
   "source": [
    "max(1,2,3)"
   ]
  },
  {
   "cell_type": "markdown",
   "metadata": {},
   "source": [
    "# 보안 정책\n",
    "\n",
    "- 비밀번호는 8 에서 30 글자\n",
    "- 소문자, 숫자, 특수문자 포함되어야함\n",
    "- 하나의 문자가 3번이상 연속되면 안 된다\n",
    "- 보안 정책에 맞는 비밀번호가 되려면 몇 번 고쳐야 하는지 답하라\n",
    "- 삽입, 수정, 삭제 모두 1번으로 센다"
   ]
  },
  {
   "cell_type": "markdown",
   "metadata": {},
   "source": [
    "# 골칫거리 버그\n",
    "- 코더랜드의 골칫거리 버그는 오늘도 어떤 장난을 쳐볼까 고민하던 중이었습니다. 그러던 중 버그의 눈에 코더랜드 시장의 수 많은 간판들이 눈에 띄었습니다.\n",
    "\n",
    "- “좋아. 오늘은 이거다!”\n",
    "\n",
    "- 몇 시간 뒤 시장의 간판들은 버그의 낙서로 엉망진창이 되었습니다. 버그는 간판의 문구에 자신이 좋아하는 문자 혹은 문자열을 마구 집어넣었습니다. 그 결과 원래 apple이라고 적혀 있던 간판에는 bg라는 문자를 아무 곳이나 마구 적어 넣어 bgappbgle 가 되었습니다.\n",
    "\n",
    "- 시장의 상인들은 이대로는 장사를 시작할 수 없을 것 같아서 낙심하고 있습니다. 여러분이 상인들을 위해 간판을 원대로 돌려주는 프로그램을 완성해주세요!"
   ]
  },
  {
   "cell_type": "code",
   "execution_count": 3,
   "metadata": {},
   "outputs": [
    {
     "name": "stdout",
     "output_type": "stream",
     "text": [
      "wkwwkdfosiwhjkdfosiwhjdwkdfosiwwwkdfosiwhjkdfwkdfosiwkdfosiwhjwhjosiwhjhjfosiwhjwelcowkdfosiwhjmewkdfosiwwkdfosiwhjhj\n",
      "wkdfosiwhj\n",
      "welcome\n"
     ]
    }
   ],
   "source": [
    "sen = input()\n",
    "bug = input()\n",
    "\n",
    "while bug in sen:\n",
    "    aa = sen.index(bug)\n",
    "    if aa == 0:\n",
    "        sen = sen[aa+len(bug):]\n",
    "    elif aa == len(sen)-len(bug):\n",
    "        sen = sen[:aa] \n",
    "    else:\n",
    "        sen = sen[:aa] + sen[aa+len(bug):]\n",
    "print(sen)"
   ]
  },
  {
   "cell_type": "markdown",
   "metadata": {},
   "source": [
    "- wkwwkdfosiwhjkdfosiwhjdwkdfosiwwwkdfosiwhjkdfwkdfosiwkdfosiwhjwhjosiwhjhjfosiwhjwelcowkdfosiwhjmewkdfosiwwkdfo\n",
    "- siwhjhj"
   ]
  },
  {
   "cell_type": "code",
   "execution_count": null,
   "metadata": {},
   "outputs": [],
   "source": [
    "def uniqueMorseRepresentation(words):\n",
    "    alpha_dict = {}\n",
    "    morse_code = [\".-\",\"-...\",\"-.-.\",\"-..\",\".\",\"..-.\",\"--.\",\"....\",\"..\",\".---\",\"-.-\",\".-..\",\"--\",\"-.\",\"---\",\".--.\",\"--.-\",\".-.\",\"...\",\"-\",\"..-\",\"...-\",\".--\",\"-..-\",\"-.--\",\"--..\"]\n",
    "    # 알파벳을 key로 가지고 모스부호를 value로 가지는 딕셔너리를 생성하세요.\n",
    "    for w in words:\n",
    "        k = \"\"\n",
    "        for c in w:\n",
    "            k = k + morse_code[ord(c) - 97]\n",
    "        print(k)\n",
    "        alpha_dict[w] = k\n",
    "    \n",
    "    # 중복을 제거하기 위해 set을 이용합니다. \n",
    "    print(alpha_dict)\n",
    "    changed_words = set(alpha_dict.values())\n",
    "    print(alpha_dict.values())\n",
    "    # 알파벳을 모스부호로 변환한 후 set의 길이를 반환합니다.\n",
    "    return len(changed_words)\n",
    "\n",
    "# 아래의 변수 및 코드는 수정하지 마세요.\n",
    "word = [\"gin\",\"zen\",\"gin\",\"msg\"]\n",
    "print(uniqueMorseRepresentation(word))"
   ]
  },
  {
   "cell_type": "code",
   "execution_count": 2,
   "metadata": {},
   "outputs": [
    {
     "data": {
      "text/plain": [
       "str"
      ]
     },
     "execution_count": 2,
     "metadata": {},
     "output_type": "execute_result"
    }
   ],
   "source": [
    "s = \"sad\"\n",
    "type(s)"
   ]
  },
  {
   "cell_type": "markdown",
   "metadata": {},
   "source": [
    "# 달력을 DB에 저장하기"
   ]
  },
  {
   "cell_type": "code",
   "execution_count": 15,
   "metadata": {},
   "outputs": [
    {
     "name": "stdout",
     "output_type": "stream",
     "text": [
      "6 days, 2:05:10\n"
     ]
    }
   ],
   "source": [
    "import datetime\n",
    "\n",
    "pre = datetime.datetime(2018, 3, 23, 12)\n",
    "\n",
    "period = datetime.timedelta(days=5, hours=26, minutes=5, seconds=10)\n",
    "\n",
    "print(period)"
   ]
  },
  {
   "cell_type": "code",
   "execution_count": 13,
   "metadata": {},
   "outputs": [
    {
     "name": "stdout",
     "output_type": "stream",
     "text": [
      "n과 k를 입력하세요 (예시:10 3): 10 3\n",
      "n개의 숫자를 차례대로 입력하세요 (예시:1 9 8 5 2 3 5 6 2 10): 1 9 8 5 2 3 5 6 2 10\n",
      "정렬 결과:  -1 -1 9 8 5 3 3 3 2 2\n"
     ]
    }
   ],
   "source": [
    "def findKth(myInput, k) :\n",
    "    '''\n",
    "    매 순간마다 k번째로 작은 원소를 리스트로 반환합니다.\n",
    "    '''\n",
    "    result = []\n",
    "    temp = []\n",
    "    for i in myInput:\n",
    "        temp.append(i)\n",
    "        temp.sort()\n",
    "        if len(temp) < k:\n",
    "            result.append(-1)\n",
    "        else:\n",
    "            result.append(temp[k-1])\n",
    "            \n",
    "    return result\n",
    "\n",
    "def main():\n",
    "    '''\n",
    "    테스트를 하고싶으면, 아래 부분을 수정합니다.\n",
    "    '''\n",
    "\n",
    "    firstLine = [int(x) for x in input(\"n과 k를 입력하세요 (예시:10 3): \").split()]\n",
    "    myInput = [int(x) for x in input(\"n개의 숫자를 차례대로 입력하세요 (예시:1 9 8 5 2 3 5 6 2 10): \").split()]\n",
    "\n",
    "    print('정렬 결과: ', *findKth(myInput, firstLine[1]))\n",
    "if __name__ == \"__main__\":\n",
    "    main()\n"
   ]
  },
  {
   "cell_type": "code",
   "execution_count": 27,
   "metadata": {},
   "outputs": [
    {
     "name": "stdout",
     "output_type": "stream",
     "text": [
      "['d', 'a', 's', 'f', 'a']\n"
     ]
    },
    {
     "data": {
      "text/plain": [
       "'dasa'"
      ]
     },
     "execution_count": 27,
     "metadata": {},
     "output_type": "execute_result"
    }
   ],
   "source": [
    "str1 = \"dasfa\"\n",
    "k = list(str1)\n",
    "print(k)\n",
    "del k[3]\n",
    "\n",
    "a = \"\".join(k)\n",
    "a"
   ]
  },
  {
   "cell_type": "code",
   "execution_count": 4,
   "metadata": {},
   "outputs": [
    {
     "name": "stdout",
     "output_type": "stream",
     "text": [
      "0 3 4\n"
     ]
    }
   ],
   "source": [
    "a = 0\n",
    "b = 3\n",
    "c = 4\n",
    "\n",
    "if not (a and b and c):\n",
    "    print(a, b, c)\n",
    "else:\n",
    "    print(False)"
   ]
  },
  {
   "cell_type": "code",
   "execution_count": 9,
   "metadata": {},
   "outputs": [
    {
     "data": {
      "image/png": "[encoded data removed]",
      "text/plain": [
       "<Figure size 432x288 with 1 Axes>"
      ]
     },
     "metadata": {
      "needs_background": "light"
     },
     "output_type": "display_data"
    },
    {
     "data": {
      "text/plain": [
       "<Figure size 432x288 with 0 Axes>"
      ]
     },
     "metadata": {},
     "output_type": "display_data"
    }
   ],
   "source": [
    "import matplotlib.pyplot as plt\n",
    "\n",
    "img_color = plt.imread('C:/python_workspace/Crawling/이미지/test.jpg')\n",
    "plt.imshow(img_color)\n",
    "plt.show()\n",
    "\n",
    "plt.savefig('img_color.png')"
   ]
  },
  {
   "cell_type": "code",
   "execution_count": 1,
   "metadata": {},
   "outputs": [
    {
     "name": "stdout",
     "output_type": "stream",
     "text": [
      "1\n"
     ]
    }
   ],
   "source": [
    "print(3//2)"
   ]
  },
  {
   "cell_type": "code",
   "execution_count": 3,
   "metadata": {},
   "outputs": [
    {
     "data": {
      "text/plain": [
       "'13'"
      ]
     },
     "execution_count": 3,
     "metadata": {},
     "output_type": "execute_result"
    }
   ],
   "source": [
    "aa = \"1\"\n",
    "b = 3\n",
    "aa += str(b) \n",
    "\n",
    "aa"
   ]
  },
  {
   "cell_type": "code",
   "execution_count": 1,
   "metadata": {},
   "outputs": [
    {
     "name": "stdout",
     "output_type": "stream",
     "text": [
      "['3', '5']\n"
     ]
    }
   ],
   "source": [
    "a = [\"3\", \"5\"]\n",
    "\n",
    "print(a)"
   ]
  },
  {
   "cell_type": "code",
   "execution_count": 4,
   "metadata": {},
   "outputs": [
    {
     "data": {
      "text/plain": [
       "'aa : 01'"
      ]
     },
     "execution_count": 4,
     "metadata": {},
     "output_type": "execute_result"
    }
   ],
   "source": [
    "\"aa : {:0>2}\".format(1)"
   ]
  },
  {
   "cell_type": "code",
   "execution_count": 6,
   "metadata": {},
   "outputs": [
    {
     "data": {
      "text/plain": [
       "'sdasfb'"
      ]
     },
     "execution_count": 6,
     "metadata": {},
     "output_type": "execute_result"
    }
   ],
   "source": [
    "a = 'sdasf'\n",
    "b = chr(98)\n",
    "\n",
    "a + b"
   ]
  },
  {
   "cell_type": "code",
   "execution_count": 1,
   "metadata": {},
   "outputs": [
    {
     "data": {
      "text/plain": [
       "2"
      ]
     },
     "execution_count": 1,
     "metadata": {},
     "output_type": "execute_result"
    }
   ],
   "source": [
    "True + True"
   ]
  },
  {
   "cell_type": "code",
   "execution_count": 4,
   "metadata": {},
   "outputs": [
    {
     "data": {
      "text/plain": [
       "'a#b#c#d'"
      ]
     },
     "execution_count": 4,
     "metadata": {},
     "output_type": "execute_result"
    }
   ],
   "source": [
    "str1 = 'a:b:c:d'\n",
    "\n",
    "str2 = \"#\".join(str1.split(\":\"))\n",
    "\n",
    "str2"
   ]
  },
  {
   "cell_type": "code",
   "execution_count": 9,
   "metadata": {},
   "outputs": [
    {
     "data": {
      "text/plain": [
       "70"
      ]
     },
     "execution_count": 9,
     "metadata": {},
     "output_type": "execute_result"
    }
   ],
   "source": [
    "a = {'A':90, 'B':80}\n",
    "a.get('C', 70)"
   ]
  },
  {
   "cell_type": "code",
   "execution_count": 10,
   "metadata": {},
   "outputs": [
    {
     "data": {
      "text/plain": [
       "481"
      ]
     },
     "execution_count": 10,
     "metadata": {},
     "output_type": "execute_result"
    }
   ],
   "source": [
    "A = [20, 55, 67, 82, 45, 33, 90, 87, 100, 25]\n",
    "\n",
    "sum(filter(lambda x: x>=50, A))"
   ]
  },
  {
   "cell_type": "code",
   "execution_count": 16,
   "metadata": {},
   "outputs": [
    {
     "name": "stdout",
     "output_type": "stream",
     "text": [
      "0 1 1 2 3 5 8 "
     ]
    }
   ],
   "source": [
    "def fibo(n):\n",
    "    if n == 0: return 0\n",
    "    if n == 1: return 1\n",
    "    return fibo(n-2) + fibo(n-1)\n",
    "\n",
    "def nfibo(n):\n",
    "    i = 0\n",
    "    while fibo(i) <= n:\n",
    "        print(fibo(i), end=\" \")\n",
    "        i += 1\n",
    "        \n",
    "nfibo(10)\n",
    "        "
   ]
  },
  {
   "cell_type": "code",
   "execution_count": 19,
   "metadata": {},
   "outputs": [
    {
     "name": "stdout",
     "output_type": "stream",
     "text": [
      "3,4\n",
      "7\n"
     ]
    }
   ],
   "source": [
    "a = input()\n",
    "b = a.split(',')\n",
    "\n",
    "hap = 0\n",
    "for i in b:\n",
    "    hap += int(i)\n",
    "    \n",
    "print(hap)"
   ]
  },
  {
   "cell_type": "code",
   "execution_count": 49,
   "metadata": {},
   "outputs": [],
   "source": [
    "f = open('abc.txt', 'r')\n",
    "lines = f.readlines()\n",
    "f.close()\n",
    "\n",
    "lines.reverse()\n",
    "\n",
    "f = open('abc.txt', 'w')\n",
    "for line in lines:\n",
    "    line = line.strip()\n",
    "    f.write(line)\n",
    "    f.write('\\n')\n",
    "f.close()\n"
   ]
  },
  {
   "cell_type": "code",
   "execution_count": 52,
   "metadata": {},
   "outputs": [],
   "source": [
    "f = open('sample.txt', 'r')\n",
    "lines = f.readlines()\n",
    "f.close()\n",
    "\n",
    "hap = 0\n",
    "cnt = len(lines)\n",
    "while lines:\n",
    "    hap += int(lines.pop())\n",
    "    \n",
    "f = open('result.txt', 'w')\n",
    "f.write(f'{hap/cnt}')\n",
    "f.close()\n",
    "\n"
   ]
  },
  {
   "cell_type": "code",
   "execution_count": 59,
   "metadata": {},
   "outputs": [
    {
     "data": {
      "text/plain": [
       "'4*4567-9-3'"
      ]
     },
     "execution_count": 59,
     "metadata": {},
     "output_type": "execute_result"
    }
   ],
   "source": [
    "def DashInsert(s):\n",
    "    new = \"\"\n",
    "    k = len(s) - 1\n",
    "    for i in range(k):\n",
    "        new += s[i]\n",
    "        if (int(s[i]) + int(s[i+1])) % 2 == 0:\n",
    "            if int(s[i]) % 2 == 0:\n",
    "                new += \"*\"\n",
    "            else:\n",
    "                new += \"-\"\n",
    "    new += s[-1]\n",
    "    return new\n",
    "                \n",
    "DashInsert('4456793')"
   ]
  },
  {
   "cell_type": "code",
   "execution_count": 68,
   "metadata": {},
   "outputs": [
    {
     "name": "stdout",
     "output_type": "stream",
     "text": [
      "aaabbcccccca\n",
      "a3b2c6a1\n"
     ]
    }
   ],
   "source": [
    "n = input()\n",
    "cnt = 0\n",
    "m = \"\"\n",
    "result = \"\"\n",
    "\n",
    "for c in n:\n",
    "    if c == m:\n",
    "        cnt += 1\n",
    "    else:\n",
    "        m = c\n",
    "        if cnt: result += str(cnt)\n",
    "        result += c\n",
    "        cnt = 1\n",
    "if cnt: result += str(cnt)\n",
    "\n",
    "print(result)"
   ]
  },
  {
   "cell_type": "code",
   "execution_count": 71,
   "metadata": {
    "scrolled": true
   },
   "outputs": [
    {
     "name": "stdout",
     "output_type": "stream",
     "text": [
      ".... .  ... .-.. . . .--. ...  . .- .-. .-.. -.--\n",
      "HE SLEEPS EARLY "
     ]
    }
   ],
   "source": [
    "a = input()\n",
    "\n",
    "b = a.split(\"  \")\n",
    "\n",
    "morses = {\n",
    "    '.-':'A',\n",
    "    '-...':'B',\n",
    "    '-.-.':'C',\n",
    "    '-.-.':'D',\n",
    "    '.':'E',\n",
    "    '..-.':'F',\n",
    "    '--.':'G',\n",
    "    '....':'H',\n",
    "    '..':'I',\n",
    "    '.---':'J',\n",
    "    '-.-':'K',\n",
    "    '.-..':'L',\n",
    "    '--':'M',\n",
    "    '-.':'N',\n",
    "    '---':'O',\n",
    "    '.--.':'P',\n",
    "    '--.-':'Q',\n",
    "    '.-.':'R',\n",
    "    '...':'S',\n",
    "    '-':'T',\n",
    "    '..-':'U',\n",
    "    '...-':'V',\n",
    "    '.--':'W',\n",
    "    '-..-':'X',\n",
    "    '-.--':'Y',\n",
    "    '--..':'Z'\n",
    "}\n",
    "\n",
    "\n",
    "for s in b:\n",
    "    ss = s.split(\" \")\n",
    "    for c in ss:\n",
    "        print(morses[c], end='')\n",
    "    print(end=' ')\n"
   ]
  },
  {
   "cell_type": "code",
   "execution_count": 7,
   "metadata": {},
   "outputs": [
    {
     "data": {
      "text/plain": [
       "4"
      ]
     },
     "execution_count": 7,
     "metadata": {},
     "output_type": "execute_result"
    }
   ],
   "source": [
    "str1 = \"aaasdasfasdsafsdsassd\"\n",
    "str1.count(\"as\")"
   ]
  },
  {
   "cell_type": "code",
   "execution_count": 12,
   "metadata": {},
   "outputs": [
    {
     "data": {
      "text/plain": [
       "[0, 1, 2, 3, 5, 7]"
      ]
     },
     "execution_count": 12,
     "metadata": {},
     "output_type": "execute_result"
    }
   ],
   "source": [
    "a = [3,5,7,1,2,0]\n",
    "sorted(a)"
   ]
  },
  {
   "cell_type": "code",
   "execution_count": 3,
   "metadata": {},
   "outputs": [
    {
     "name": "stdout",
     "output_type": "stream",
     "text": [
      "asdasd\n"
     ]
    }
   ],
   "source": [
    "print(\"     asdasd\".split()[0])"
   ]
  },
  {
   "cell_type": "code",
   "execution_count": 5,
   "metadata": {},
   "outputs": [
    {
     "data": {
      "text/plain": [
       "False"
      ]
     },
     "execution_count": 5,
     "metadata": {},
     "output_type": "execute_result"
    }
   ],
   "source": [
    "True == 3"
   ]
  },
  {
   "cell_type": "code",
   "execution_count": 7,
   "metadata": {},
   "outputs": [
    {
     "data": {
      "text/plain": [
       "False"
      ]
     },
     "execution_count": 7,
     "metadata": {},
     "output_type": "execute_result"
    }
   ],
   "source": [
    "bool(0)"
   ]
  },
  {
   "cell_type": "code",
   "execution_count": 1,
   "metadata": {},
   "outputs": [
    {
     "name": "stdout",
     "output_type": "stream",
     "text": [
      "(1, 1)\n"
     ]
    }
   ],
   "source": [
    "def aaa():\n",
    "    return 1,1\n",
    "\n",
    "\n",
    "a = aaa()\n",
    "\n",
    "print(a)"
   ]
  },
  {
   "cell_type": "code",
   "execution_count": 4,
   "metadata": {},
   "outputs": [
    {
     "data": {
      "text/plain": [
       "array([0, 2, 5, 2, 3, 0, 3, 0, 0, 3, 0, 0, 0, 0, 0, 0, 0, 0, 0, 0, 0, 0,\n",
       "       0, 0, 0, 0, 0, 0, 0, 0, 0, 0, 0, 0, 0, 0, 0, 0, 0, 0, 0, 0, 0, 0,\n",
       "       0, 0, 0, 0, 0, 0, 0, 0, 0, 0, 0, 0, 0, 0, 0, 0, 0, 0, 0, 0, 0, 0,\n",
       "       0, 0, 0, 0, 0, 0, 0, 0, 0, 0, 0, 0, 1], dtype=int64)"
      ]
     },
     "execution_count": 4,
     "metadata": {},
     "output_type": "execute_result"
    }
   ],
   "source": [
    "import numpy as np\n",
    "\n",
    "a = np.array([1, 2, 3, 3, 2, 1, 2, 2, 2, 4, 4, 4, 6, 6, 6, 78, 9, 9, 9])\n",
    "np.bincount(a)"
   ]
  },
  {
   "cell_type": "code",
   "execution_count": 5,
   "metadata": {},
   "outputs": [],
   "source": [
    "import pandas as pd\n",
    "b = pd.DataFrame(a)"
   ]
  },
  {
   "cell_type": "code",
   "execution_count": 10,
   "metadata": {},
   "outputs": [
    {
     "data": {
      "text/plain": [
       "array([ 1,  2,  3,  4,  6, 78,  9])"
      ]
     },
     "execution_count": 10,
     "metadata": {},
     "output_type": "execute_result"
    }
   ],
   "source": [
    "b[0].unique()"
   ]
  },
  {
   "cell_type": "code",
   "execution_count": 12,
   "metadata": {},
   "outputs": [],
   "source": [
    "b_dict = {1:'a',  2:'b',  3:'c',  4:'d',  6:'e', 78:'g',  9:'f'}"
   ]
  },
  {
   "cell_type": "code",
   "execution_count": 16,
   "metadata": {},
   "outputs": [
    {
     "data": {
      "text/plain": [
       "[2, 4, 6, 8, 10]"
      ]
     },
     "execution_count": 16,
     "metadata": {},
     "output_type": "execute_result"
    }
   ],
   "source": [
    "def fff(a):\n",
    "    return a*2\n",
    "\n",
    "li1 = [1,2,3,4,5]\n",
    "\n",
    "\n",
    "li2 = map(fff, li1)\n",
    "li3 = list(li2)\n",
    "li3"
   ]
  },
  {
   "cell_type": "code",
   "execution_count": 4,
   "metadata": {},
   "outputs": [
    {
     "name": "stdout",
     "output_type": "stream",
     "text": [
      "4 5\n"
     ]
    },
    {
     "data": {
      "text/plain": [
       "0.8"
      ]
     },
     "execution_count": 4,
     "metadata": {},
     "output_type": "execute_result"
    }
   ],
   "source": [
    "a = input().split(\" \")\n",
    "int(a[0]) / int(a[1])"
   ]
  },
  {
   "cell_type": "code",
   "execution_count": 5,
   "metadata": {},
   "outputs": [
    {
     "data": {
      "text/plain": [
       "543"
      ]
     },
     "execution_count": 5,
     "metadata": {},
     "output_type": "execute_result"
    }
   ],
   "source": [
    "2541-1998"
   ]
  },
  {
   "cell_type": "markdown",
   "metadata": {},
   "source": [
    "킹 1개, 퀸 1개, 룩 2개, 비숍 2개, 나이트 2개, 폰 8개"
   ]
  },
  {
   "cell_type": "code",
   "execution_count": 3,
   "metadata": {},
   "outputs": [
    {
     "name": "stdout",
     "output_type": "stream",
     "text": [
      "11\n",
      "12\n",
      "23\n",
      "35\n",
      "58\n",
      "83\n",
      "31\n",
      "14\n",
      "45\n",
      "59\n",
      "94\n",
      "43\n",
      "37\n",
      "70\n",
      "07\n",
      "77\n",
      "74\n",
      "41\n",
      "15\n",
      "56\n",
      "61\n",
      "17\n",
      "78\n",
      "85\n",
      "53\n",
      "38\n",
      "81\n",
      "19\n",
      "90\n",
      "09\n",
      "99\n",
      "98\n",
      "87\n",
      "75\n",
      "52\n",
      "27\n",
      "79\n",
      "96\n",
      "65\n",
      "51\n",
      "16\n",
      "67\n",
      "73\n",
      "30\n",
      "03\n",
      "33\n",
      "36\n",
      "69\n",
      "95\n",
      "54\n",
      "49\n",
      "93\n",
      "32\n",
      "25\n",
      "57\n",
      "72\n",
      "29\n",
      "91\n",
      "10\n",
      "01\n",
      "11\n"
     ]
    }
   ],
   "source": [
    "a1 = 1\n",
    "a2 = 1\n",
    "p1 = a1\n",
    "p2 = a2\n",
    "print(f'{a1}{a2}')\n",
    "while True:\n",
    "    k=(a1+a2)%10\n",
    "    a1=a2\n",
    "    a2=k\n",
    "    print(f'{a1}{a2}')\n",
    "    if p1==a1 and p2==a2:\n",
    "        break"
   ]
  },
  {
   "cell_type": "code",
   "execution_count": 6,
   "metadata": {},
   "outputs": [
    {
     "data": {
      "text/plain": [
       "3"
      ]
     },
     "execution_count": 6,
     "metadata": {},
     "output_type": "execute_result"
    }
   ],
   "source": [
    "a=\"111\"\n",
    "b='1'\n",
    "a.count(b)"
   ]
  },
  {
   "cell_type": "code",
   "execution_count": 7,
   "metadata": {},
   "outputs": [
    {
     "name": "stdout",
     "output_type": "stream",
     "text": [
      "11\n",
      "1 4 1 2 4 2 4 2 3 4 4\n",
      "2\n",
      "3\n"
     ]
    }
   ],
   "source": [
    "a=input()\n",
    "a=input()\n",
    "b=input()\n",
    "print(a.count(b))"
   ]
  },
  {
   "cell_type": "code",
   "execution_count": null,
   "metadata": {},
   "outputs": [],
   "source": []
  },
  {
   "cell_type": "code",
   "execution_count": null,
   "metadata": {},
   "outputs": [],
   "source": []
  },
  {
   "cell_type": "code",
   "execution_count": null,
   "metadata": {},
   "outputs": [],
   "source": []
  },
  {
   "cell_type": "code",
   "execution_count": null,
   "metadata": {},
   "outputs": [],
   "source": []
  },
  {
   "cell_type": "code",
   "execution_count": null,
   "metadata": {},
   "outputs": [],
   "source": []
  },
  {
   "cell_type": "code",
   "execution_count": null,
   "metadata": {},
   "outputs": [],
   "source": []
  },
  {
   "cell_type": "code",
   "execution_count": null,
   "metadata": {},
   "outputs": [],
   "source": []
  },
  {
   "cell_type": "code",
   "execution_count": null,
   "metadata": {},
   "outputs": [],
   "source": []
  },
  {
   "cell_type": "code",
   "execution_count": null,
   "metadata": {},
   "outputs": [],
   "source": []
  },
  {
   "cell_type": "code",
   "execution_count": null,
   "metadata": {},
   "outputs": [],
   "source": []
  },
  {
   "cell_type": "code",
   "execution_count": null,
   "metadata": {},
   "outputs": [],
   "source": []
  },
  {
   "cell_type": "code",
   "execution_count": null,
   "metadata": {},
   "outputs": [],
   "source": []
  }
 ],
 "metadata": {
  "colab": {
   "authorship_tag": "ABX9TyNhm8j0cFhXyY5teqiASZ9P",
   "name": "Untitled0.ipynb",
   "provenance": []
  },
  "kernelspec": {
   "display_name": "Python 3 (ipykernel)",
   "language": "python",
   "name": "python3"
  },
  "language_info": {
   "codemirror_mode": {
    "name": "ipython",
    "version": 3
   },
   "file_extension": ".py",
   "mimetype": "text/x-python",
   "name": "python",
   "nbconvert_exporter": "python",
   "pygments_lexer": "ipython3",
   "version": "3.9.12"
  }
 },
 "nbformat": 4,
 "nbformat_minor": 1
}
