{
 "cells": [
  {
   "cell_type": "markdown",
   "id": "a384d5e3",
   "metadata": {},
   "source": [
    "# 집합 (Set)\n",
    "\n",
    "- 같은 값을 넣을 수 없다\n",
    "- 순서가 없다\n",
    "- 중괄호를 이용해서 요소를 할당 한다\n",
    "- 집합 연산을 할 수 있다(합집합, 교집합, 차집합 등)"
   ]
  },
  {
   "cell_type": "code",
   "execution_count": 1,
   "id": "ff939e76",
   "metadata": {},
   "outputs": [
    {
     "data": {
      "text/plain": [
       "{1, 2, 3, 4, 5}"
      ]
     },
     "execution_count": 1,
     "metadata": {},
     "output_type": "execute_result"
    }
   ],
   "source": [
    "set1 = {1, 2, 3, 4, 5}\n",
    "\n",
    "set1"
   ]
  },
  {
   "cell_type": "markdown",
   "id": "6c4c7b79",
   "metadata": {},
   "source": [
    "- 다양한 데이터 타입 저장 가능\n",
    "- 데이터가 자동으로 정렬되어 저장된다"
   ]
  },
  {
   "cell_type": "code",
   "execution_count": 2,
   "id": "3fb6a871",
   "metadata": {},
   "outputs": [
    {
     "data": {
      "text/plain": [
       "{1, 2.5, 'Python', '홍길동'}"
      ]
     },
     "execution_count": 2,
     "metadata": {},
     "output_type": "execute_result"
    }
   ],
   "source": [
    "set2 = {\"홍길동\", 1, \"Python\", 2.5}\n",
    "\n",
    "set2"
   ]
  },
  {
   "cell_type": "code",
   "execution_count": 3,
   "id": "891ace5c",
   "metadata": {},
   "outputs": [
    {
     "ename": "TypeError",
     "evalue": "'<' not supported between instances of 'int' and 'str'",
     "output_type": "error",
     "traceback": [
      "\u001b[1;31m---------------------------------------------------------------------------\u001b[0m",
      "\u001b[1;31mTypeError\u001b[0m                                 Traceback (most recent call last)",
      "Input \u001b[1;32mIn [3]\u001b[0m, in \u001b[0;36m<cell line: 2>\u001b[1;34m()\u001b[0m\n\u001b[0;32m      1\u001b[0m list1 \u001b[38;5;241m=\u001b[39m [\u001b[38;5;124m\"\u001b[39m\u001b[38;5;124m홍길동\u001b[39m\u001b[38;5;124m\"\u001b[39m, \u001b[38;5;241m1\u001b[39m, \u001b[38;5;124m\"\u001b[39m\u001b[38;5;124mPython\u001b[39m\u001b[38;5;124m\"\u001b[39m, \u001b[38;5;241m2.5\u001b[39m]\n\u001b[1;32m----> 2\u001b[0m \u001b[43mlist1\u001b[49m\u001b[38;5;241;43m.\u001b[39;49m\u001b[43msort\u001b[49m\u001b[43m(\u001b[49m\u001b[43m)\u001b[49m\n\u001b[0;32m      4\u001b[0m list1\n",
      "\u001b[1;31mTypeError\u001b[0m: '<' not supported between instances of 'int' and 'str'"
     ]
    }
   ],
   "source": [
    "list1 = [\"홍길동\", 1, \"Python\", 2.5]\n",
    "# 리스트에서 sort 함수는 숫자는 숫자끼리, 문자는 문자끼리만 정렬한다\n",
    "list1.sort()\n",
    "# not supported between instances of 'int' and 'str'      이렇게 섞여있으면  sort를 쓸 수 없다\n",
    "list1"
   ]
  },
  {
   "cell_type": "code",
   "execution_count": 5,
   "id": "041f994b",
   "metadata": {},
   "outputs": [
    {
     "data": {
      "text/plain": [
       "{'e', 'g', 'l', 'o'}"
      ]
     },
     "execution_count": 5,
     "metadata": {},
     "output_type": "execute_result"
    }
   ],
   "source": [
    "str1 = 'google'\n",
    "# 중복제거\n",
    "# 정렬\n",
    "set2 = set(str1)\n",
    "\n",
    "set2"
   ]
  },
  {
   "cell_type": "markdown",
   "id": "134fe4a2",
   "metadata": {},
   "source": [
    "- 집합에 요소를 추가 add()"
   ]
  },
  {
   "cell_type": "code",
   "execution_count": 6,
   "id": "6e39d8d5",
   "metadata": {},
   "outputs": [
    {
     "data": {
      "text/plain": [
       "{'e', 'g', 'k', 'l', 'o'}"
      ]
     },
     "execution_count": 6,
     "metadata": {},
     "output_type": "execute_result"
    }
   ],
   "source": [
    "set2.add(\"k\")\n",
    "\n",
    "set2"
   ]
  },
  {
   "cell_type": "code",
   "execution_count": 9,
   "id": "3b3e0b04",
   "metadata": {},
   "outputs": [
    {
     "data": {
      "text/plain": [
       "{'C', 'Q', 'S'}"
      ]
     },
     "execution_count": 9,
     "metadata": {},
     "output_type": "execute_result"
    }
   ],
   "source": [
    "set3 = {\"S\", \"S\", \"Q\", \"S\", \"S\", \"C\", \"Q\", \"Q\", \"C\", \"C\", \"C\", \"C\", \"Q\", \"Q\", \"Q\", \"Q\"}\n",
    "\n",
    "set3"
   ]
  },
  {
   "cell_type": "markdown",
   "id": "5c5f4a5c",
   "metadata": {},
   "source": [
    "- 교집합 : 양쪽의 모두에 있는 요소의 집합\n",
    "    - &, intersection()"
   ]
  },
  {
   "cell_type": "code",
   "execution_count": 7,
   "id": "cdbb0ced",
   "metadata": {},
   "outputs": [],
   "source": [
    "set4 = {\"코드\", \"이름\", \"나이\"}\n",
    "set5 = {\"코드\", \"이름\", \"직업\"}"
   ]
  },
  {
   "cell_type": "code",
   "execution_count": 8,
   "id": "9720bbd1",
   "metadata": {},
   "outputs": [
    {
     "name": "stdout",
     "output_type": "stream",
     "text": [
      "{'이름', '코드'}\n",
      "{'이름', '코드'}\n"
     ]
    }
   ],
   "source": [
    "print(set4&set5)\n",
    "print(set4.intersection(set5))\n",
    "\n"
   ]
  },
  {
   "cell_type": "markdown",
   "id": "4e0433a2",
   "metadata": {},
   "source": [
    "- 합집합 : 양쪽 모두의 요소를 출력(중복 제거)\n",
    "    - |, union()"
   ]
  },
  {
   "cell_type": "code",
   "execution_count": 14,
   "id": "03567025",
   "metadata": {},
   "outputs": [
    {
     "name": "stdout",
     "output_type": "stream",
     "text": [
      "{'이름', '직업', '코드', '나이'}\n",
      "{'이름', '직업', '코드', '나이'}\n"
     ]
    }
   ],
   "source": [
    "print(set4|set5)\n",
    "print(set4.union(set5))\n"
   ]
  },
  {
   "cell_type": "markdown",
   "id": "e3ac343f",
   "metadata": {},
   "source": [
    "- 차집합 : 한쪽에만 있는 요소를 출력\n",
    "    - -, difference()"
   ]
  },
  {
   "cell_type": "code",
   "execution_count": 18,
   "id": "3af4405d",
   "metadata": {},
   "outputs": [
    {
     "name": "stdout",
     "output_type": "stream",
     "text": [
      "{'나이'}\n",
      "{'직업'}\n",
      "{'나이'}\n",
      "{'직업'}\n"
     ]
    }
   ],
   "source": [
    "print(set4-set5)\n",
    "print(set5-set4)\n",
    "\n",
    "print(set4.difference(set5))\n",
    "print(set5.difference(set4))"
   ]
  },
  {
   "cell_type": "markdown",
   "id": "1e6a89d5",
   "metadata": {},
   "source": [
    "## 2개의 주사위 숫자의 합의 모든 결과 출력\n",
    "\n",
    "- 중복 제거"
   ]
  },
  {
   "cell_type": "code",
   "execution_count": 27,
   "id": "1f4966e6",
   "metadata": {},
   "outputs": [
    {
     "name": "stdout",
     "output_type": "stream",
     "text": [
      "3 4 5 6 7 8 9 10 11 12 13 14 15 16 17 18 19 "
     ]
    }
   ],
   "source": [
    "dice1 = (1, 2, 3, 4, 5, 6)\n",
    "dice2 = (2, 3, 5, 7, 11, 13)\n",
    "\n",
    "sethap = set()\n",
    "for i in dice1:\n",
    "    for j in dice2:\n",
    "        sethap.add(i+j)\n",
    "for k in sethap:\n",
    "    print(k, end=\" \")"
   ]
  },
  {
   "cell_type": "code",
   "execution_count": null,
   "id": "067d8003",
   "metadata": {},
   "outputs": [],
   "source": []
  },
  {
   "cell_type": "code",
   "execution_count": null,
   "id": "c1cdf5e9",
   "metadata": {},
   "outputs": [],
   "source": []
  },
  {
   "cell_type": "code",
   "execution_count": null,
   "id": "25c081ff",
   "metadata": {},
   "outputs": [],
   "source": []
  },
  {
   "cell_type": "code",
   "execution_count": null,
   "id": "73519edd",
   "metadata": {},
   "outputs": [],
   "source": []
  },
  {
   "cell_type": "code",
   "execution_count": null,
   "id": "6a06193d",
   "metadata": {},
   "outputs": [],
   "source": []
  },
  {
   "cell_type": "code",
   "execution_count": null,
   "id": "e00698e7",
   "metadata": {},
   "outputs": [],
   "source": []
  },
  {
   "cell_type": "code",
   "execution_count": null,
   "id": "c66e74a2",
   "metadata": {},
   "outputs": [],
   "source": []
  },
  {
   "cell_type": "code",
   "execution_count": null,
   "id": "ab411474",
   "metadata": {},
   "outputs": [],
   "source": []
  },
  {
   "cell_type": "code",
   "execution_count": null,
   "id": "6b182c34",
   "metadata": {},
   "outputs": [],
   "source": []
  },
  {
   "cell_type": "code",
   "execution_count": null,
   "id": "7b064987",
   "metadata": {},
   "outputs": [],
   "source": []
  },
  {
   "cell_type": "code",
   "execution_count": null,
   "id": "b53e29df",
   "metadata": {},
   "outputs": [],
   "source": []
  },
  {
   "cell_type": "code",
   "execution_count": null,
   "id": "242a9852",
   "metadata": {},
   "outputs": [],
   "source": []
  },
  {
   "cell_type": "code",
   "execution_count": null,
   "id": "4021f014",
   "metadata": {},
   "outputs": [],
   "source": []
  },
  {
   "cell_type": "code",
   "execution_count": null,
   "id": "37fe227b",
   "metadata": {},
   "outputs": [],
   "source": []
  },
  {
   "cell_type": "code",
   "execution_count": null,
   "id": "eab9aef7",
   "metadata": {},
   "outputs": [],
   "source": []
  },
  {
   "cell_type": "code",
   "execution_count": null,
   "id": "835d9677",
   "metadata": {},
   "outputs": [],
   "source": []
  },
  {
   "cell_type": "code",
   "execution_count": null,
   "id": "58947d87",
   "metadata": {},
   "outputs": [],
   "source": []
  },
  {
   "cell_type": "code",
   "execution_count": null,
   "id": "38c9f050",
   "metadata": {},
   "outputs": [],
   "source": []
  },
  {
   "cell_type": "code",
   "execution_count": null,
   "id": "0d0410da",
   "metadata": {},
   "outputs": [],
   "source": []
  },
  {
   "cell_type": "code",
   "execution_count": null,
   "id": "0d119cf8",
   "metadata": {},
   "outputs": [],
   "source": []
  },
  {
   "cell_type": "code",
   "execution_count": null,
   "id": "31d97d32",
   "metadata": {},
   "outputs": [],
   "source": []
  },
  {
   "cell_type": "code",
   "execution_count": null,
   "id": "61b8a77a",
   "metadata": {},
   "outputs": [],
   "source": []
  },
  {
   "cell_type": "code",
   "execution_count": null,
   "id": "831f432d",
   "metadata": {},
   "outputs": [],
   "source": []
  },
  {
   "cell_type": "code",
   "execution_count": null,
   "id": "d8c07fca",
   "metadata": {},
   "outputs": [],
   "source": []
  },
  {
   "cell_type": "code",
   "execution_count": null,
   "id": "f6ec8dac",
   "metadata": {},
   "outputs": [],
   "source": []
  },
  {
   "cell_type": "code",
   "execution_count": null,
   "id": "2f96ef74",
   "metadata": {},
   "outputs": [],
   "source": []
  },
  {
   "cell_type": "code",
   "execution_count": null,
   "id": "4c47e0e6",
   "metadata": {},
   "outputs": [],
   "source": []
  },
  {
   "cell_type": "code",
   "execution_count": null,
   "id": "f5de7d9a",
   "metadata": {},
   "outputs": [],
   "source": []
  }
 ],
 "metadata": {
  "kernelspec": {
   "display_name": "Python 3 (ipykernel)",
   "language": "python",
   "name": "python3"
  },
  "language_info": {
   "codemirror_mode": {
    "name": "ipython",
    "version": 3
   },
   "file_extension": ".py",
   "mimetype": "text/x-python",
   "name": "python",
   "nbconvert_exporter": "python",
   "pygments_lexer": "ipython3",
   "version": "3.9.12"
  }
 },
 "nbformat": 4,
 "nbformat_minor": 5
}
