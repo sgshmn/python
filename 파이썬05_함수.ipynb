{
 "cells": [
  {
   "cell_type": "markdown",
   "id": "f8e5cd80",
   "metadata": {},
   "source": [
    "# 함수\n",
    "\n",
    "- 목적을 달성하기 위해 독립적으로 설계한 코드의 집합\n",
    "- 장점\n",
    "    - 반복적인 코드 감소\n",
    "    - 코드가 간단해져서 읽기 좋다\n",
    "    - 유지보수가 쉽다 (해당 함수만 수정)\n",
    "    - 재사용성 높아진다"
   ]
  },
  {
   "cell_type": "code",
   "execution_count": 1,
   "id": "88fcdcd9",
   "metadata": {},
   "outputs": [],
   "source": [
    "# 합을 구하는 함수\n",
    "def hap(num1, num2):\n",
    "    return num1 + num2"
   ]
  },
  {
   "cell_type": "code",
   "execution_count": 2,
   "id": "d941123c",
   "metadata": {},
   "outputs": [
    {
     "data": {
      "text/plain": [
       "30"
      ]
     },
     "execution_count": 2,
     "metadata": {},
     "output_type": "execute_result"
    }
   ],
   "source": [
    "number = hap(10, 20)\n",
    "number"
   ]
  },
  {
   "cell_type": "code",
   "execution_count": 3,
   "id": "0e7599a5",
   "metadata": {},
   "outputs": [
    {
     "data": {
      "text/plain": [
       "'예비군 훈련 받은 동주씨가 힘들어합니다'"
      ]
     },
     "execution_count": 3,
     "metadata": {},
     "output_type": "execute_result"
    }
   ],
   "source": [
    "# 문자열에서 임의 값을 제거하는 코드\n",
    "str1 = \"ㅋㅋㅋㅋ 예비군 훈련 받은 동주씨가 힘들어합니다 ㅋㅋㅋㅋ\"\n",
    "\n",
    "# ㅋ 라는 문자를 삭제\n",
    "str1 = str1.replace(\"ㅋ\",\"\").strip()\n",
    "\n",
    "str1"
   ]
  },
  {
   "cell_type": "code",
   "execution_count": 4,
   "id": "84f64713",
   "metadata": {},
   "outputs": [],
   "source": [
    "list1 = [\"영웅은 공부를 열심히 한다 ㅋㅋㅋㅋ\",\n",
    "         \"ㅋㅋ 옆에서 은진씨가 웃고 있다 ㅋㅋㅋ\",\n",
    "        \"승원B는 현재 ㅋ 온라인에서 ㅋ\"]\n",
    "\n",
    "list2 = [\"경령씨 열심히 하고 ㅋ 있나요 ㅋㅋ\",\n",
    "        \"영주는 ㅋㅋㅋ 자꾸 아프데요\"]"
   ]
  },
  {
   "cell_type": "code",
   "execution_count": 6,
   "id": "8747cc25",
   "metadata": {},
   "outputs": [
    {
     "name": "stdout",
     "output_type": "stream",
     "text": [
      "영웅은 공부를 열심히 한다\n",
      "옆에서 은진씨가 웃고 있다\n",
      "승원B는 현재  온라인에서\n",
      "경령씨 열심히 하고  있나요\n",
      "영주는  자꾸 아프데요\n"
     ]
    }
   ],
   "source": [
    "for s1 in list1:\n",
    "    print(s1.replace(\"ㅋ\",\"\").strip())\n",
    "for s2 in list2:\n",
    "    print(s2.replace(\"ㅋ\",\"\").strip())\n"
   ]
  },
  {
   "cell_type": "code",
   "execution_count": 9,
   "id": "d2fc5270",
   "metadata": {},
   "outputs": [],
   "source": [
    "def delk(mmm):\n",
    "    for m in mmm:\n",
    "        print(m.replace(\"ㅋ\",\"\").strip())\n",
    "        "
   ]
  },
  {
   "cell_type": "code",
   "execution_count": 10,
   "id": "a8b3e63f",
   "metadata": {},
   "outputs": [
    {
     "name": "stdout",
     "output_type": "stream",
     "text": [
      "영웅은 공부를 열심히 한다\n",
      "옆에서 은진씨가 웃고 있다\n",
      "승원B는 현재  온라인에서\n",
      "경령씨 열심히 하고  있나요\n",
      "영주는  자꾸 아프데요\n"
     ]
    }
   ],
   "source": [
    "delk(list1)\n",
    "delk(list2)"
   ]
  },
  {
   "cell_type": "markdown",
   "id": "40000b75",
   "metadata": {},
   "source": [
    "- delkk에서 값을 받아서 출력"
   ]
  },
  {
   "cell_type": "code",
   "execution_count": 16,
   "id": "8a45a994",
   "metadata": {},
   "outputs": [],
   "source": [
    "def delkk(mmm):\n",
    "    kkk = []\n",
    "    for m in mmm:\n",
    "        kkk.append(m.replace(\"ㅋ\",\"\").strip())\n",
    "    return kkk"
   ]
  },
  {
   "cell_type": "code",
   "execution_count": 17,
   "id": "fa4429aa",
   "metadata": {},
   "outputs": [
    {
     "name": "stdout",
     "output_type": "stream",
     "text": [
      "['영웅은 공부를 열심히 한다', '옆에서 은진씨가 웃고 있다', '승원B는 현재  온라인에서']\n",
      "['경령씨 열심히 하고  있나요', '영주는  자꾸 아프데요']\n"
     ]
    }
   ],
   "source": [
    "print(delkk(list1))\n",
    "print(delkk(list2))"
   ]
  },
  {
   "cell_type": "markdown",
   "id": "d2730058",
   "metadata": {},
   "source": [
    "### 매개변수와 반환값에 따라서 함수 나누기\n",
    "\n",
    "1. 매개변수x 반환값x\n",
    "2. 매개변수x 반환값o\n",
    "3. 매개변수o 반환값x\n",
    "4. 매개변수o 반환값o"
   ]
  },
  {
   "cell_type": "markdown",
   "id": "d7729baa",
   "metadata": {},
   "source": [
    "- 두 수를 입력받아서 둘 중에 더 큰수를 반환하는 함수 "
   ]
  },
  {
   "cell_type": "code",
   "execution_count": 29,
   "id": "e894aa2d",
   "metadata": {},
   "outputs": [],
   "source": [
    "def bigg():\n",
    "    print(\"제발 서로 다른 정수를 넣어줘\")\n",
    "    n1 = int(input(\"n1 = \"))\n",
    "    n2 = int(input(\"n2 = \"))\n",
    "    \n",
    "    return n1 if n1 > n2 else n2"
   ]
  },
  {
   "cell_type": "code",
   "execution_count": 28,
   "id": "69b1d584",
   "metadata": {},
   "outputs": [
    {
     "name": "stdout",
     "output_type": "stream",
     "text": [
      "제발 두 개의 다른 정수를 넣어줘\n",
      "n1 = 3\n",
      "n2 = 4\n"
     ]
    },
    {
     "data": {
      "text/plain": [
       "4"
      ]
     },
     "execution_count": 28,
     "metadata": {},
     "output_type": "execute_result"
    }
   ],
   "source": [
    "bigg()"
   ]
  },
  {
   "cell_type": "markdown",
   "id": "b8d511e8",
   "metadata": {},
   "source": [
    "- 2개의 정수를 받아 2개의 숫자 중 10에 더 가까운 수를 출력하는 함수 close10을 만들기\n",
    "- 만약 두 숫자가 10과의 거리가 같다면 첫 번째 수를 출력"
   ]
  },
  {
   "cell_type": "code",
   "execution_count": 32,
   "id": "959b3361",
   "metadata": {},
   "outputs": [],
   "source": [
    "def close10():\n",
    "    n1 = int(input(\"n1 = \"))\n",
    "    n2 = int(input(\"n2 = \"))\n",
    "    \n",
    "    dop = n2 if (n1 - 10)**2 > (n2 - 10)**2 else n1\n",
    "    print(dop)"
   ]
  },
  {
   "cell_type": "code",
   "execution_count": 36,
   "id": "0a79ed98",
   "metadata": {},
   "outputs": [
    {
     "name": "stdout",
     "output_type": "stream",
     "text": [
      "n1 = 0\n",
      "n2 = 20\n",
      "0\n"
     ]
    }
   ],
   "source": [
    "close10()"
   ]
  },
  {
   "cell_type": "markdown",
   "id": "840db01f",
   "metadata": {},
   "source": [
    "## Docstring\n",
    "- 함수에 대한 설명\n",
    "- shift + tab으로 확인 할 때 나오는 내용"
   ]
  },
  {
   "cell_type": "code",
   "execution_count": 37,
   "id": "413efef7",
   "metadata": {},
   "outputs": [],
   "source": [
    "def close10():\n",
    "    \"\"\"\n",
    "    10에서 가까운 수를 출력하는 함수\n",
    "        - 입력 매개변수나 반환 값이 없다\n",
    "    \n",
    "    \"\"\"\n",
    "    n1 = int(input(\"n1 = \"))\n",
    "    n2 = int(input(\"n2 = \"))\n",
    "    \n",
    "    dop = n2 if (n1 - 10)**2 > (n2 - 10)**2 else n1\n",
    "    print(dop)"
   ]
  },
  {
   "cell_type": "code",
   "execution_count": 40,
   "id": "65263e5b",
   "metadata": {},
   "outputs": [],
   "source": [
    "def delkk(mmm):\n",
    "    \"\"\"\n",
    "        리스트에 들어있는 문자열에서 'ㅋ'을 제거하고 좌우 공백을 제거하는 함수\n",
    "    \n",
    "        입력 매개변수 : 문자열만 있는 리스트\n",
    "        리턴 : 리스트    \n",
    "    \"\"\"\n",
    "    kkk = []\n",
    "    for m in mmm:\n",
    "        kkk.append(m.replace(\"ㅋ\",\"\").strip())\n",
    "    return kkk"
   ]
  },
  {
   "cell_type": "code",
   "execution_count": null,
   "id": "e645ff4f",
   "metadata": {},
   "outputs": [],
   "source": [
    "delkk"
   ]
  },
  {
   "cell_type": "markdown",
   "id": "6254ad4c",
   "metadata": {},
   "source": [
    "# 가변 매개변수 *"
   ]
  },
  {
   "cell_type": "code",
   "execution_count": 41,
   "id": "76fa41fb",
   "metadata": {},
   "outputs": [
    {
     "data": {
      "text/plain": [
       "69"
      ]
     },
     "execution_count": 41,
     "metadata": {},
     "output_type": "execute_result"
    }
   ],
   "source": [
    "def hap(n1, n2):\n",
    "    return n1 + n2\n",
    "hap(29,40) # 2개 합"
   ]
  },
  {
   "cell_type": "code",
   "execution_count": 42,
   "id": "d811bf59",
   "metadata": {},
   "outputs": [
    {
     "data": {
      "text/plain": [
       "101"
      ]
     },
     "execution_count": 42,
     "metadata": {},
     "output_type": "execute_result"
    }
   ],
   "source": [
    "def hap(n1, n2, n3):\n",
    "    return n1 + n2 + n3\n",
    "hap(29,40, 32) # 3개 합, 이렇게 만드는 것은 비효율적이다"
   ]
  },
  {
   "cell_type": "code",
   "execution_count": 43,
   "id": "3a3747d9",
   "metadata": {},
   "outputs": [
    {
     "name": "stdout",
     "output_type": "stream",
     "text": [
      "(29, 23)\n",
      "(24, 546, 6, 13)\n"
     ]
    }
   ],
   "source": [
    "def hap(*n):\n",
    "    print(n)\n",
    "hap(29, 23)\n",
    "hap(24, 546, 6, 13)"
   ]
  },
  {
   "cell_type": "code",
   "execution_count": 48,
   "id": "1e70ba9e",
   "metadata": {},
   "outputs": [
    {
     "data": {
      "text/plain": [
       "55"
      ]
     },
     "execution_count": 48,
     "metadata": {},
     "output_type": "execute_result"
    }
   ],
   "source": [
    "def hap(*n):\n",
    "    return sum(n)\n",
    "hap(1, 2, 3, 4, 5, 6, 7, 8, 9, 10)\n"
   ]
  },
  {
   "cell_type": "markdown",
   "id": "6276f81f",
   "metadata": {},
   "source": [
    "## 가변 매개변수 **\n",
    "\n",
    "- 딕셔너리에서 사용하는 가변 매개변수"
   ]
  },
  {
   "cell_type": "code",
   "execution_count": 55,
   "id": "efa073ae",
   "metadata": {},
   "outputs": [
    {
     "name": "stdout",
     "output_type": "stream",
     "text": [
      "{'이름': '홍길동', '나이': 20, '직업': '의적'}\n"
     ]
    }
   ],
   "source": [
    "def print_dic(**dic):\n",
    "    print(dic)\n",
    "\n",
    "print_dic(이름=\"홍길동\", 나이=20, 직업=\"의적\")\n"
   ]
  },
  {
   "cell_type": "markdown",
   "id": "e895d920",
   "metadata": {},
   "source": [
    "## 여러개의 값을 리턴하는 방법\n",
    "\n",
    "- 직접 쉽표로 구분해서 반환 - 튜플 형태로 반환\n",
    "- 나열형 타입에 저장해서 반환"
   ]
  },
  {
   "cell_type": "code",
   "execution_count": 56,
   "id": "0597d788",
   "metadata": {},
   "outputs": [
    {
     "data": {
      "text/plain": [
       "(13, 7, 30, 3.3333333333333335)"
      ]
     },
     "execution_count": 56,
     "metadata": {},
     "output_type": "execute_result"
    }
   ],
   "source": [
    "def calFun(n1, n2):\n",
    "    return n1+n2, n1-n2, n1*n2, n1/n2\n"
   ]
  },
  {
   "cell_type": "code",
   "execution_count": 57,
   "id": "38484f24",
   "metadata": {},
   "outputs": [
    {
     "name": "stdout",
     "output_type": "stream",
     "text": [
      "13 7 30 3.3333333333333335\n"
     ]
    }
   ],
   "source": [
    "r1, r2, r3, r4 = calFun(10, 3)\n",
    "print(r1, r2, r3, r4)"
   ]
  },
  {
   "cell_type": "markdown",
   "id": "a0003b5f",
   "metadata": {},
   "source": [
    "- 리턴이 아주 많으면 나열형 변수에 저장하자!"
   ]
  },
  {
   "cell_type": "code",
   "execution_count": 63,
   "id": "dafbe1dd",
   "metadata": {},
   "outputs": [
    {
     "name": "stdout",
     "output_type": "stream",
     "text": [
      "아\n",
      "조금만\n",
      "있으면\n",
      "수업이\n",
      "끝나요.\n",
      "이제\n",
      "주말이라서\n",
      "쉴\n",
      "수\n",
      "있어요.\n"
     ]
    }
   ],
   "source": [
    "str1 = \"아 조금만 있으면 수업이 끝나요. 이제 주말이라서 쉴 수 있어요.\"\n",
    "\n",
    "# str1의 문장을 빈 공백으로 분리해서 반환하는 함수를 작성\n",
    "\n",
    "def jjal(ssss):\n",
    "    return ssss.split()\n",
    "\n",
    "for i in jjal(str1):\n",
    "    print(i)"
   ]
  },
  {
   "cell_type": "markdown",
   "id": "ff50ca6d",
   "metadata": {},
   "source": [
    "- eval() : 문자열로 된 수식을 그대로 계산하는 함수"
   ]
  },
  {
   "cell_type": "code",
   "execution_count": 1,
   "id": "e5044ac6",
   "metadata": {},
   "outputs": [
    {
     "data": {
      "text/plain": [
       "3"
      ]
     },
     "execution_count": 1,
     "metadata": {},
     "output_type": "execute_result"
    }
   ],
   "source": [
    "eval(\"1+2\")"
   ]
  },
  {
   "cell_type": "code",
   "execution_count": 3,
   "id": "cb243a15",
   "metadata": {},
   "outputs": [
    {
     "name": "stdout",
     "output_type": "stream",
     "text": [
      "단순 계산기33-23\n"
     ]
    },
    {
     "data": {
      "text/plain": [
       "10"
      ]
     },
     "execution_count": 3,
     "metadata": {},
     "output_type": "execute_result"
    }
   ],
   "source": [
    "eval(input(\"단순 계산기\"))"
   ]
  },
  {
   "cell_type": "markdown",
   "id": "e8ad99bd",
   "metadata": {},
   "source": [
    "- 기본 매개변수 설정\n",
    "    - 입력 매개변수를 미리 설정한다\n",
    "    - 매개변수를 입력하지 않으면 미리 설정한 값을 사용한다"
   ]
  },
  {
   "cell_type": "code",
   "execution_count": 4,
   "id": "ffe6090f",
   "metadata": {},
   "outputs": [
    {
     "name": "stdout",
     "output_type": "stream",
     "text": [
      "33\n"
     ]
    }
   ],
   "source": [
    "def calFun(op, n1, n2):\n",
    "    return eval(str(n1) + op + str(n2))\n",
    "\n",
    "\n",
    "print(calFun(\"+\", 10, 23))"
   ]
  },
  {
   "cell_type": "code",
   "execution_count": 11,
   "id": "b559f7fe",
   "metadata": {},
   "outputs": [],
   "source": [
    "# 매개변수의 수가 부족해서 에러 발생\n",
    "# print(calFun(10, 20)) calFun() missing 1 required positional argument: 'n2'"
   ]
  },
  {
   "cell_type": "code",
   "execution_count": 8,
   "id": "672e2b52",
   "metadata": {},
   "outputs": [
    {
     "name": "stdout",
     "output_type": "stream",
     "text": [
      "2.0\n",
      "30\n"
     ]
    }
   ],
   "source": [
    "# op의 기본값을 +로 설정\n",
    "# 마지막 번째 매개변수 값을 입력하지 않으면 기본값을 쓴다\n",
    "def calFun2(n1, n2, op=\"+\"):\n",
    "    return eval(str(n1) + op + str(n2))\n",
    "\n",
    "print(calFun2(20, 10, \"/\"))\n",
    "print(calFun2(20, 10))"
   ]
  },
  {
   "cell_type": "code",
   "execution_count": 10,
   "id": "d25fbfb9",
   "metadata": {},
   "outputs": [],
   "source": [
    "# 매개변수를 모두 기본값으로 설정하면 매개변수의 순서를 지키지 않고 쓸 수 있다\n",
    "# print(calFun2(\"+\", 20, 10)) 순서 안지켜서 오류"
   ]
  },
  {
   "cell_type": "code",
   "execution_count": 14,
   "id": "1077ebd7",
   "metadata": {},
   "outputs": [
    {
     "name": "stdout",
     "output_type": "stream",
     "text": [
      "0\n"
     ]
    }
   ],
   "source": [
    "def calFun3(n1 = 0, n2 = 0, op=\"+\"):\n",
    "    return eval(str(n1) + op + str(n2))\n",
    "\n",
    "\n",
    "print(calFun3(n1 = 20, op = \"%\", n2 = 4))\n",
    "# print(calFun3(20, \"%\", 4)) 그래도 이건 안 된다. 이름을 지정해야 순서를 지키지 않아도 함수를 쓸 수 있다\n"
   ]
  },
  {
   "cell_type": "markdown",
   "id": "17396d6f",
   "metadata": {},
   "source": [
    "- 주의점1\n",
    "    - 매개변수 값을 다 설정하지 않으면 설정한 매개변수가 설정하지 않은 매개변수 뒤에 나와야 한다"
   ]
  },
  {
   "cell_type": "code",
   "execution_count": 30,
   "id": "08c6a6af",
   "metadata": {},
   "outputs": [],
   "source": [
    "# def calFun4(op=\"+\", n1, n2):\n",
    "#     return eval(str(n1) + op + str(n2))"
   ]
  },
  {
   "cell_type": "markdown",
   "id": "5d14bbec",
   "metadata": {},
   "source": [
    "- 주의점2\n",
    "    - 가변 매개변수와 기본값 매개변수를 사용하는 경우 기본값 매개변수는 가변 매개변수 앞에 와야한다"
   ]
  },
  {
   "cell_type": "code",
   "execution_count": 32,
   "id": "e6db9c0a",
   "metadata": {},
   "outputs": [],
   "source": [
    "# def calFun4( *n, op=\"+\"):\n",
    "#     return sum(n)\n",
    "\n",
    "# calFun4(1,3,4,5,2,'+') 에러 "
   ]
  },
  {
   "cell_type": "code",
   "execution_count": 33,
   "id": "a68df036",
   "metadata": {},
   "outputs": [
    {
     "data": {
      "text/plain": [
       "15"
      ]
     },
     "execution_count": 33,
     "metadata": {},
     "output_type": "execute_result"
    }
   ],
   "source": [
    "def calFun4(op=\"+\", *n):\n",
    "    return sum(n)\n",
    "\n",
    "calFun4('*',1,3,4,5,2,)"
   ]
  },
  {
   "cell_type": "code",
   "execution_count": 55,
   "id": "9863eb04",
   "metadata": {},
   "outputs": [
    {
     "data": {
      "text/plain": [
       "10"
      ]
     },
     "execution_count": 55,
     "metadata": {},
     "output_type": "execute_result"
    }
   ],
   "source": [
    "def calFun5(n1,*n,op=\"+\"):\n",
    "    return n1 + sum(n)\n",
    "\n",
    "calFun5(1,3,4,2)"
   ]
  },
  {
   "cell_type": "code",
   "execution_count": null,
   "id": "05a9763d",
   "metadata": {},
   "outputs": [],
   "source": []
  },
  {
   "cell_type": "code",
   "execution_count": null,
   "id": "b4ac4e6c",
   "metadata": {},
   "outputs": [],
   "source": []
  },
  {
   "cell_type": "code",
   "execution_count": null,
   "id": "bed73d00",
   "metadata": {},
   "outputs": [],
   "source": []
  },
  {
   "cell_type": "code",
   "execution_count": null,
   "id": "d51de469",
   "metadata": {},
   "outputs": [],
   "source": []
  },
  {
   "cell_type": "code",
   "execution_count": null,
   "id": "b3336f28",
   "metadata": {},
   "outputs": [],
   "source": []
  },
  {
   "cell_type": "code",
   "execution_count": null,
   "id": "7b84a632",
   "metadata": {},
   "outputs": [],
   "source": []
  },
  {
   "cell_type": "code",
   "execution_count": null,
   "id": "0ec83dc4",
   "metadata": {},
   "outputs": [],
   "source": []
  },
  {
   "cell_type": "code",
   "execution_count": null,
   "id": "130ced6f",
   "metadata": {},
   "outputs": [],
   "source": []
  },
  {
   "cell_type": "code",
   "execution_count": null,
   "id": "36f5a05b",
   "metadata": {},
   "outputs": [],
   "source": []
  },
  {
   "cell_type": "code",
   "execution_count": null,
   "id": "521d88d3",
   "metadata": {},
   "outputs": [],
   "source": []
  },
  {
   "cell_type": "code",
   "execution_count": null,
   "id": "93d69936",
   "metadata": {},
   "outputs": [],
   "source": []
  },
  {
   "cell_type": "code",
   "execution_count": null,
   "id": "4a87807c",
   "metadata": {},
   "outputs": [],
   "source": []
  },
  {
   "cell_type": "code",
   "execution_count": null,
   "id": "033fea34",
   "metadata": {},
   "outputs": [],
   "source": []
  },
  {
   "cell_type": "code",
   "execution_count": null,
   "id": "cb9b2561",
   "metadata": {},
   "outputs": [],
   "source": []
  },
  {
   "cell_type": "code",
   "execution_count": null,
   "id": "46a9a085",
   "metadata": {},
   "outputs": [],
   "source": []
  },
  {
   "cell_type": "code",
   "execution_count": null,
   "id": "1ce069b6",
   "metadata": {},
   "outputs": [],
   "source": []
  },
  {
   "cell_type": "code",
   "execution_count": null,
   "id": "db296c97",
   "metadata": {},
   "outputs": [],
   "source": []
  },
  {
   "cell_type": "code",
   "execution_count": null,
   "id": "15912c79",
   "metadata": {},
   "outputs": [],
   "source": []
  },
  {
   "cell_type": "code",
   "execution_count": null,
   "id": "4c8b8416",
   "metadata": {},
   "outputs": [],
   "source": []
  }
 ],
 "metadata": {
  "kernelspec": {
   "display_name": "Python 3 (ipykernel)",
   "language": "python",
   "name": "python3"
  },
  "language_info": {
   "codemirror_mode": {
    "name": "ipython",
    "version": 3
   },
   "file_extension": ".py",
   "mimetype": "text/x-python",
   "name": "python",
   "nbconvert_exporter": "python",
   "pygments_lexer": "ipython3",
   "version": "3.9.12"
  }
 },
 "nbformat": 4,
 "nbformat_minor": 5
}
