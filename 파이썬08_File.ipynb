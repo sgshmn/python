{
 "cells": [
  {
   "cell_type": "markdown",
   "id": "a41e9106",
   "metadata": {},
   "source": [
    "# 파일 쓰고 읽기\n",
    "\n",
    "- open(파일명, 모드) : 해당 파일을 모드를 목적으로 연다\n",
    "- close() : 파일 객체를 닫는다\n",
    "- write() : 파일 객체에 내용을 저장한다\n",
    "- 파일모드\n",
    "    - r : 읽기\n",
    "    - w : 쓰기\n",
    "    - a : 추가\n",
    "    - b : 이진수로 저장 (rb, wb 형태로 사용)"
   ]
  },
  {
   "cell_type": "code",
   "execution_count": 1,
   "id": "4dc597a3",
   "metadata": {
    "scrolled": true
   },
   "outputs": [],
   "source": [
    "# 파일의 내용을 저장하기 위해 파일 객체를 연다\n",
    "f = open(\"./data/test1.txt\", \"w\")\n",
    "\n",
    "# 파일에 내용을 저장한다\n",
    "f.write(\"안녕하세요 \\n우리는 App 특화반입니다\")\n",
    "\n",
    "# 다 쓴 파일 객체를 닫아준다\n",
    "f.close()"
   ]
  },
  {
   "cell_type": "code",
   "execution_count": 2,
   "id": "24fd226b",
   "metadata": {},
   "outputs": [],
   "source": [
    "# 데이터 타입을 그대로 저장하는 기능\n",
    "import pickle\n",
    "\n",
    "# 파일의 내용을 저장하기 위해 파일 객체를 연다\n",
    "f = open(\"./data/test2.pkl\", \"wb\")\n",
    "\n",
    "list1 = [1, 2, 3, 4, 5]\n",
    "\n",
    "# 리스트를 파일 객체에 저장\n",
    "pickle.dump(list1, f)\n",
    "\n",
    "f.close()"
   ]
  },
  {
   "cell_type": "code",
   "execution_count": 3,
   "id": "0ec6637c",
   "metadata": {},
   "outputs": [],
   "source": [
    "# 같은 파일명으로 쓰면 기존 내용은 사라진다\n",
    "f = open(\"./data/test1.txt\", \"w\")\n",
    "\n",
    "f.write(\"Hello\\nApp Class\")\n",
    "\n",
    "f.close()"
   ]
  },
  {
   "cell_type": "markdown",
   "id": "4f28ea6d",
   "metadata": {},
   "source": [
    "- 모드 a를 사용하면 기존 내용에 추가"
   ]
  },
  {
   "cell_type": "code",
   "execution_count": 4,
   "id": "74c31f87",
   "metadata": {},
   "outputs": [],
   "source": [
    "f = open(\"./data/test1.txt\", \"a\")\n",
    "\n",
    "f.write(\"안녕하세요\\n우리는 App 특화반입니다\")\n",
    "\n",
    "f.close()"
   ]
  },
  {
   "cell_type": "markdown",
   "id": "eed84ca0",
   "metadata": {},
   "source": [
    "# 파일 읽기\n",
    "\n",
    "- readline() : 현재 위치에서 한 줄만 읽는다\n",
    "- readlines() : 모든 줄을 한 줄씩 읽는다\n",
    "    - 한 줄씩 읽어서 리스트에 저장할 수 있다\n",
    "- read() : 문서 전체를 읽는다"
   ]
  },
  {
   "cell_type": "code",
   "execution_count": 5,
   "id": "40a1db65",
   "metadata": {},
   "outputs": [
    {
     "name": "stdout",
     "output_type": "stream",
     "text": [
      "Hello\n",
      "\n"
     ]
    }
   ],
   "source": [
    "f = open('./data/test1.txt','r')\n",
    "\n",
    "data = f.readline()\n",
    "print(data)\n",
    "\n",
    "f.close()"
   ]
  },
  {
   "cell_type": "markdown",
   "id": "543e0c05",
   "metadata": {},
   "source": [
    "- readline()을 이용해서 문서 전체 읽기"
   ]
  },
  {
   "cell_type": "code",
   "execution_count": 9,
   "id": "832711b5",
   "metadata": {},
   "outputs": [
    {
     "name": "stdout",
     "output_type": "stream",
     "text": [
      "Hello\n",
      "App Class안녕하세요\n",
      "우리는 App 특화반입니다"
     ]
    }
   ],
   "source": [
    "f = open('./data/test1.txt','r')\n",
    "\n",
    "while True:\n",
    "    data = f.readline()\n",
    "    \n",
    "    if not data:\n",
    "        break\n",
    "    print(data, end = \"\") # 이게 왜 되는지 모르겠다 >> 현재 위치에서 한 줄만 읽기 때문.\n",
    "                          # 커서가 움직이는 거라고 생각하자\n",
    "                          # \\n 만날 때 까지 읽고 커서가 \\n뒤로 간다\n",
    "    \n",
    "f.close()"
   ]
  },
  {
   "cell_type": "markdown",
   "id": "1242faec",
   "metadata": {},
   "source": [
    "- readlines() 쓰기"
   ]
  },
  {
   "cell_type": "code",
   "execution_count": 7,
   "id": "134bce88",
   "metadata": {},
   "outputs": [
    {
     "name": "stdout",
     "output_type": "stream",
     "text": [
      "['Hello\\n', 'App Class안녕하세요\\n', '우리는 App 특화반입니다']\n"
     ]
    }
   ],
   "source": [
    "f = open('./data/test1.txt','r')\n",
    "\n",
    "data = f.readlines()\n",
    "\n",
    "print(data)\n",
    "    \n",
    "f.close()"
   ]
  },
  {
   "cell_type": "code",
   "execution_count": 8,
   "id": "f1c65651",
   "metadata": {},
   "outputs": [
    {
     "name": "stdout",
     "output_type": "stream",
     "text": [
      "Hello\n",
      "App Class안녕하세요\n",
      "우리는 App 특화반입니다"
     ]
    }
   ],
   "source": [
    "for d in data:\n",
    "    print(d, end=\"\")"
   ]
  },
  {
   "cell_type": "markdown",
   "id": "22efc3b8",
   "metadata": {},
   "source": [
    "- read()"
   ]
  },
  {
   "cell_type": "code",
   "execution_count": 10,
   "id": "5f418ffc",
   "metadata": {},
   "outputs": [
    {
     "name": "stdout",
     "output_type": "stream",
     "text": [
      "Hello\n",
      "App Class안녕하세요\n",
      "우리는 App 특화반입니다\n",
      "<class 'str'>\n"
     ]
    }
   ],
   "source": [
    "f = open('./data/test1.txt','r')\n",
    "\n",
    "data = f.read()\n",
    "\n",
    "print(data)\n",
    "print(type(data))\n",
    "\n",
    "f.close()"
   ]
  },
  {
   "cell_type": "markdown",
   "id": "baa1f5a0",
   "metadata": {},
   "source": [
    "- 이진수 파일 읽기 바이너리 파일 읽기"
   ]
  },
  {
   "cell_type": "code",
   "execution_count": 12,
   "id": "6e91f2a9",
   "metadata": {},
   "outputs": [
    {
     "name": "stdout",
     "output_type": "stream",
     "text": [
      "[1, 2, 3, 4, 5]\n",
      "<class 'list'>\n"
     ]
    }
   ],
   "source": [
    "f = open('./data/test2.pkl.','rb')\n",
    "\n",
    "# pickle.load() : pickle로 저장한 파일을 읽는다\n",
    "data = pickle.load(f)\n",
    "\n",
    "print(data)\n",
    "print(type(data))\n",
    "    \n",
    "f.close()"
   ]
  },
  {
   "cell_type": "markdown",
   "id": "3d6a0927",
   "metadata": {},
   "source": [
    "- 읽을 파일이 없으면 오류가 발생한다"
   ]
  },
  {
   "cell_type": "code",
   "execution_count": 13,
   "id": "b4a0a8e5",
   "metadata": {},
   "outputs": [
    {
     "ename": "FileNotFoundError",
     "evalue": "[Errno 2] No such file or directory: './data/test2.txt'",
     "output_type": "error",
     "traceback": [
      "\u001b[1;31m---------------------------------------------------------------------------\u001b[0m",
      "\u001b[1;31mFileNotFoundError\u001b[0m                         Traceback (most recent call last)",
      "Input \u001b[1;32mIn [13]\u001b[0m, in \u001b[0;36m<cell line: 1>\u001b[1;34m()\u001b[0m\n\u001b[1;32m----> 1\u001b[0m f \u001b[38;5;241m=\u001b[39m \u001b[38;5;28;43mopen\u001b[39;49m\u001b[43m(\u001b[49m\u001b[38;5;124;43m'\u001b[39;49m\u001b[38;5;124;43m./data/test2.txt\u001b[39;49m\u001b[38;5;124;43m'\u001b[39;49m\u001b[43m,\u001b[49m\u001b[38;5;124;43m'\u001b[39;49m\u001b[38;5;124;43mr\u001b[39;49m\u001b[38;5;124;43m'\u001b[39;49m\u001b[43m)\u001b[49m\n\u001b[0;32m      3\u001b[0m data \u001b[38;5;241m=\u001b[39m f\u001b[38;5;241m.\u001b[39mread()\n\u001b[0;32m      5\u001b[0m \u001b[38;5;28mprint\u001b[39m(data)\n",
      "\u001b[1;31mFileNotFoundError\u001b[0m: [Errno 2] No such file or directory: './data/test2.txt'"
     ]
    }
   ],
   "source": [
    "# f = open('./data/test2.txt','r')\n",
    "\n",
    "# data = f.read()\n",
    "\n",
    "# print(data)\n",
    "# print(type(data))\n",
    "\n",
    "# f.close() 에러 : No such file or directory"
   ]
  },
  {
   "cell_type": "markdown",
   "id": "a96d59e0",
   "metadata": {},
   "source": [
    "- os.path.exists() : 파일이나 폴더가 있는지 검사한다"
   ]
  },
  {
   "cell_type": "code",
   "execution_count": 14,
   "id": "97393cbd",
   "metadata": {},
   "outputs": [
    {
     "name": "stdout",
     "output_type": "stream",
     "text": [
      "False\n"
     ]
    }
   ],
   "source": [
    "import os.path\n",
    "\n",
    "f_name = './data/test2.txt'\n",
    "\n",
    "print(os.path.exists(f_name)) # 있으면 True 없으면 False\n",
    "\n"
   ]
  },
  {
   "cell_type": "code",
   "execution_count": 15,
   "id": "cbbefcde",
   "metadata": {},
   "outputs": [
    {
     "name": "stdout",
     "output_type": "stream",
     "text": [
      "파일 없는데 ㅋ\n"
     ]
    }
   ],
   "source": [
    "import os.path\n",
    "\n",
    "f_name = './data/test2.txt'\n",
    "if os.path.exists(f_name):\n",
    "    f = open(f_name,'r')\n",
    "    \n",
    "    data = f.read()\n",
    "\n",
    "    print(data)\n",
    "\n",
    "    f.close()\n",
    "else:\n",
    "    print(\"파일 없는데 ㅋ\")\n"
   ]
  },
  {
   "cell_type": "markdown",
   "id": "a2756bf5",
   "metadata": {},
   "source": [
    "- 파일을 쓸 때 파일이 없는 경우에만 쓰도록 설정"
   ]
  },
  {
   "cell_type": "code",
   "execution_count": 17,
   "id": "e844eebe",
   "metadata": {},
   "outputs": [
    {
     "name": "stdout",
     "output_type": "stream",
     "text": [
      "이미 그 파일이 있는걸...... \n"
     ]
    }
   ],
   "source": [
    "f_name = './data/test1.txt'\n",
    "if os.path.exists(f_name):\n",
    "    print(\"이미 그 파일이 있는걸...... \")\n",
    "else:\n",
    "    f = open(f_name,'w')\n",
    "    \n",
    "    f.write(\"???\")\n",
    "\n",
    "    f.close()\n",
    "    "
   ]
  },
  {
   "cell_type": "markdown",
   "id": "b7a002ba",
   "metadata": {},
   "source": [
    "- with : 파일을 열면 닫아야 한다. 이걸 쓰면 알아서 닫아준다"
   ]
  },
  {
   "cell_type": "code",
   "execution_count": 20,
   "id": "ed6d07c0",
   "metadata": {},
   "outputs": [
    {
     "name": "stdout",
     "output_type": "stream",
     "text": [
      "Hello\n",
      "App Class안녕하세요\n",
      "우리는 App 특화반입니다\n"
     ]
    }
   ],
   "source": [
    "with open(\"./data/test1.txt\",\"r\") as f:\n",
    "    data = f.read()\n",
    "    print(data)\n",
    "# data = f.read() 에러 >> I/O operation on closed file. 닫아서 못 읽는다는데 ㅋ?"
   ]
  },
  {
   "cell_type": "markdown",
   "id": "c4231f32",
   "metadata": {},
   "source": [
    "## 실습 메모장 만들기 1\n",
    "- (1) 파일쓰기 (2) 파일읽기 (0) 종료하기 와 같이 메뉴 만들기\n",
    "- 파일쓰기를 선택하면 입력한 파일명에 입력한 내용을 저장\n",
    "    - 이름이 같은 파일이 있으면 파일 있다고 출력\n",
    "- 파일읽기를 선택하면 입력한 파일명의 내용을 읽어서 출력\n",
    "    - 해당 파일이 없다면 파일 없다고 출력\n",
    "- 종료하기를 선택하면 반복문 종료\n"
   ]
  },
  {
   "cell_type": "code",
   "execution_count": 1,
   "id": "66422e6d",
   "metadata": {},
   "outputs": [
    {
     "name": "stdout",
     "output_type": "stream",
     "text": [
      "\n",
      "1\t\t2\t\t3\n",
      "파일쓰기\t파일읽기\t종료하기\n",
      "\n",
      ">> 3\n",
      "잘가~~\n"
     ]
    }
   ],
   "source": [
    "# 나중에 이거 볼때 f.close() 확인하자\n",
    "\n",
    "def menu():\n",
    "    print()\n",
    "    print(\"1\\t\\t2\\t\\t0\")\n",
    "    print(\"파일쓰기\\t파일읽기\\t종료하기\")\n",
    "    print()\n",
    "    return int(input(\">> \"))\n",
    "\n",
    "def fff():\n",
    "    ffff = input(\"파일 이름 >> \")\n",
    "    print()\n",
    "    ffff = f\"./data/{ffff}.txt\"\n",
    "    return ffff\n",
    "\n",
    "def wrfi():\n",
    "    while True:\n",
    "        ffff = fff()\n",
    "        if os.path.exists(ffff):\n",
    "            print(\"이거 이미 있는걸.. 다르게 써봐\")\n",
    "            print()\n",
    "        else:\n",
    "            f = open(ffff, \"w\")\n",
    "            f.write(input(\"내용 >> \"))\n",
    "            f.close()\n",
    "            break\n",
    "            \n",
    "\n",
    "def rdfi():\n",
    "    while True:\n",
    "        ffff = fff()\n",
    "        if os.path.exists(ffff):\n",
    "            f = open(ffff, \"r\")\n",
    "            print(f.read())\n",
    "            f.close()\n",
    "            break\n",
    "            \n",
    "        else:\n",
    "            print(\"이거 없는데? 있는 파일을 찾아봐\")\n",
    "            \n",
    "            \n",
    "while True:\n",
    "    mmm = menu()\n",
    "    if mmm == 1:\n",
    "        wrfi()\n",
    "    elif mmm == 2:\n",
    "        rdfi()\n",
    "    elif mmm == 0:\n",
    "        print()\n",
    "        print(\"잘가~~\")\n",
    "        break"
   ]
  },
  {
   "cell_type": "markdown",
   "id": "ce7c63a1",
   "metadata": {},
   "source": [
    "- 파일과 폴더 함수\n",
    "    - listdif(폴더명) : 해당 폴더의 내용 (폴더, 파일) 목록을 가져온다\n",
    "    - remove(파일명) : 해당 파일 삭제\n",
    "    - mkdir(폴더명) : 해당 폴더 생성\n",
    "    - rmdir(폴더명) : 해당 폴더 삭제"
   ]
  },
  {
   "cell_type": "code",
   "execution_count": 4,
   "id": "94c85d9f",
   "metadata": {},
   "outputs": [
    {
     "data": {
      "text/plain": [
       "['height_weight.txt',\n",
       " 'movie_review.pkl',\n",
       " 'population_number.csv',\n",
       " 'ratings.dat',\n",
       " 'test1.txt',\n",
       " 'test2.pkl',\n",
       " 'test3.txt',\n",
       " 'ttt.txt']"
      ]
     },
     "execution_count": 4,
     "metadata": {},
     "output_type": "execute_result"
    }
   ],
   "source": [
    "path_name = \"./data\"\n",
    "\n",
    "filenames = os.listdir(path_name)\n",
    "\n",
    "filenames"
   ]
  },
  {
   "cell_type": "code",
   "execution_count": 5,
   "id": "071946bb",
   "metadata": {},
   "outputs": [
    {
     "name": "stdout",
     "output_type": "stream",
     "text": [
      "./data\\height_weight.txt\n",
      "./data\\movie_review.pkl\n",
      "./data\\population_number.csv\n",
      "./data\\ratings.dat\n",
      "./data\\test1.txt\n",
      "./data\\test2.pkl\n",
      "./data\\test3.txt\n",
      "./data\\ttt.txt\n"
     ]
    }
   ],
   "source": [
    "# 경로와 파일명 연결하기 - join()\n",
    "for f_name in filenames:\n",
    "    full_name = os.path.join(path_name, f_name)\n",
    "    \n",
    "    print(full_name)"
   ]
  },
  {
   "cell_type": "markdown",
   "id": "16e6c190",
   "metadata": {},
   "source": [
    "- remove() : 파일 삭제"
   ]
  },
  {
   "cell_type": "code",
   "execution_count": 6,
   "id": "5473d09b",
   "metadata": {},
   "outputs": [
    {
     "name": "stdout",
     "output_type": "stream",
     "text": [
      "삭제할 파일.확장자 으로 써 보걸아 >> ttt.txt\n"
     ]
    }
   ],
   "source": [
    "import os.path\n",
    "\n",
    "f_name = input(\"삭제할 파일.확장자 로 써 보걸아 >> \")\n",
    "full_name = os.path.join(path_name, f_name)\n",
    "\n",
    "if os.path.exists(full_name):\n",
    "    os.remove(full_name)\n",
    "else:\n",
    "    print(\"그거 없다 야\")"
   ]
  },
  {
   "cell_type": "code",
   "execution_count": 16,
   "id": "e582612f",
   "metadata": {},
   "outputs": [
    {
     "name": "stdout",
     "output_type": "stream",
     "text": [
      "생성할 폴더명 쓰걸아 >> ttt\n",
      "그거 이미 있다 야\n"
     ]
    }
   ],
   "source": [
    "dir_name = input(\"생성할 폴더명 써 보걸아 >> \")\n",
    "full_name = os.path.join(path_name, dir_name)\n",
    "\n",
    "if not os.path.exists(full_name):\n",
    "    os.mkdir(full_name)\n",
    "else:\n",
    "    print(\"그거 이미 있다 야\")"
   ]
  },
  {
   "cell_type": "code",
   "execution_count": 18,
   "id": "bedc9cee",
   "metadata": {},
   "outputs": [
    {
     "name": "stdout",
     "output_type": "stream",
     "text": [
      "삭제할 폴더명 쓰걸아 >> ttt\n",
      "그건 이미 없는걸\n"
     ]
    }
   ],
   "source": [
    "dir_name = input(\"삭제할 폴더명 써 보걸아 >> \")\n",
    "full_name = os.path.join(path_name, dir_name)\n",
    "\n",
    "if os.path.exists(full_name):\n",
    "    os.rmdir(full_name)\n",
    "else:\n",
    "    print(\"그건 이미 없는걸\")"
   ]
  },
  {
   "cell_type": "markdown",
   "id": "f259e7ef",
   "metadata": {},
   "source": [
    "## 실습  메모장 만들기2\n",
    "\n",
    "- (1)파일 쓰기 (2)파일읽기 (3)파일목록 (4)파일삭제 (5)폴더생성 (6)폴더삭제 (0) 종료\n",
    "\n",
    "    - 3 : 폴더명 입력하고 목록을 출력\n",
    "    - 4 : 파일명 입력하고 파일 삭제\n",
    "    - 5 : 폴더명 입력하고 폴더를 생성\n",
    "    - 6 : 폴더명 입력하고 폴더 삭제"
   ]
  },
  {
   "cell_type": "code",
   "execution_count": 34,
   "id": "738e0fae",
   "metadata": {
    "collapsed": true
   },
   "outputs": [
    {
     "name": "stdout",
     "output_type": "stream",
     "text": [
      "안녕?\n",
      "\n",
      "   1\t\t   2\t\t   3\t\t   4\t\t   5\t\t   6\t\t   0\n",
      "파일쓰기\t파일읽기\t파일목록\t파일삭제\t폴더생성\t폴더삭제\t종료하기\n",
      "\n",
      ">> 3\n",
      "\n",
      "경로를 써봐 >> \n",
      "\n",
      "height_weight.txt\n",
      "movie_review.pkl\n",
      "population_number.csv\n",
      "ratings.dat\n",
      "test1.txt\n",
      "test2.pkl\n",
      "test3.txt\n",
      "\n",
      "   1\t\t   2\t\t   3\t\t   4\t\t   5\t\t   6\t\t   0\n",
      "파일쓰기\t파일읽기\t파일목록\t파일삭제\t폴더생성\t폴더삭제\t종료하기\n",
      "\n",
      ">> 1\n",
      "\n",
      "경로를 써봐 >> test4.txt\n",
      "\n",
      "내용 >> 안녕!\\n넌 누구니?\n",
      "\n",
      "   1\t\t   2\t\t   3\t\t   4\t\t   5\t\t   6\t\t   0\n",
      "파일쓰기\t파일읽기\t파일목록\t파일삭제\t폴더생성\t폴더삭제\t종료하기\n",
      "\n",
      ">> 2\n",
      "\n",
      "경로를 써봐 >> test4\n",
      "\n",
      "이거 없는데? 있는 파일을 찾아봐\n",
      "\n",
      "   1\t\t   2\t\t   3\t\t   4\t\t   5\t\t   6\t\t   0\n",
      "파일쓰기\t파일읽기\t파일목록\t파일삭제\t폴더생성\t폴더삭제\t종료하기\n",
      "\n",
      ">> 2\n",
      "\n",
      "경로를 써봐 >> test4.txt\n",
      "\n",
      "안녕!\\n넌 누구니?\n",
      "\n",
      "   1\t\t   2\t\t   3\t\t   4\t\t   5\t\t   6\t\t   0\n",
      "파일쓰기\t파일읽기\t파일목록\t파일삭제\t폴더생성\t폴더삭제\t종료하기\n",
      "\n",
      ">> 4\n",
      "\n",
      "경로를 써봐 >> test4.txt\n",
      "\n",
      "\n",
      "   1\t\t   2\t\t   3\t\t   4\t\t   5\t\t   6\t\t   0\n",
      "파일쓰기\t파일읽기\t파일목록\t파일삭제\t폴더생성\t폴더삭제\t종료하기\n",
      "\n",
      ">> 2\n",
      "\n",
      "경로를 써봐 >> test3.txt\n",
      "\n",
      "나오나?\n",
      "\n",
      "   1\t\t   2\t\t   3\t\t   4\t\t   5\t\t   6\t\t   0\n",
      "파일쓰기\t파일읽기\t파일목록\t파일삭제\t폴더생성\t폴더삭제\t종료하기\n",
      "\n",
      ">> 2\n",
      "\n",
      "경로를 써봐 >> test1.txt\n",
      "\n",
      "Hello\n",
      "App Class안녕하세요\n",
      "우리는 App 특화반입니다\n",
      "\n",
      "   1\t\t   2\t\t   3\t\t   4\t\t   5\t\t   6\t\t   0\n",
      "파일쓰기\t파일읽기\t파일목록\t파일삭제\t폴더생성\t폴더삭제\t종료하기\n",
      "\n",
      ">> 3\n",
      "\n",
      "경로를 써봐 >> \n",
      "\n",
      "height_weight.txt\n",
      "movie_review.pkl\n",
      "population_number.csv\n",
      "ratings.dat\n",
      "test1.txt\n",
      "test2.pkl\n",
      "test3.txt\n",
      "\n",
      "   1\t\t   2\t\t   3\t\t   4\t\t   5\t\t   6\t\t   0\n",
      "파일쓰기\t파일읽기\t파일목록\t파일삭제\t폴더생성\t폴더삭제\t종료하기\n",
      "\n",
      ">> 2\n",
      "\n",
      "경로를 써봐 >> population_number.csv\n",
      "\n",
      "도시,지역,2015,2010,2005,2000\n",
      "서울,수도권,9904312,9631482,9762546,9853972\n",
      "부산,경상권,3448737,,,3655437\n",
      "인천,수도권,2890451,2632035,,2466338\n",
      "대구,경상권,2466052,2431774,2456016,2473990\n",
      "\n",
      "\n",
      "   1\t\t   2\t\t   3\t\t   4\t\t   5\t\t   6\t\t   0\n",
      "파일쓰기\t파일읽기\t파일목록\t파일삭제\t폴더생성\t폴더삭제\t종료하기\n",
      "\n",
      ">> 0\n",
      "\n",
      "잘가~~\n"
     ]
    }
   ],
   "source": [
    "import os.path\n",
    "\n",
    "def menu():\n",
    "    print()\n",
    "    print(\"   1\\t\\t   2\\t\\t   3\\t\\t   4\\t\\t   5\\t\\t   6\\t\\t   0\")\n",
    "    print(\"파일쓰기\\t파일읽기\\t파일목록\\t파일삭제\\t폴더생성\\t폴더삭제\\t종료하기\")\n",
    "    print()\n",
    "    return int(input(\">> \"))\n",
    "\n",
    "def fff():\n",
    "    print()\n",
    "    ff = input(\"경로를 써봐 >> \")\n",
    "    print()\n",
    "    path_name = \"./data\"\n",
    "    ff = os.path.join(path_name, ff)\n",
    "    return ff\n",
    "\n",
    "def wrfi():\n",
    "    ffff = fff()\n",
    "    if os.path.exists(ffff):\n",
    "        print(\"이거 이미 있는걸.. 다르게 써봐\")\n",
    "    else:\n",
    "        f = open(ffff, \"w\")\n",
    "        f.write(input(\"내용 >> \"))\n",
    "        f.close()\n",
    "\n",
    "def rmfi():\n",
    "    ffff = fff()\n",
    "    if os.path.exists(ffff):\n",
    "        os.remove(ffff)\n",
    "    else:\n",
    "        print(\"그건 이미 없는걸\")\n",
    "            \n",
    "def rdfi():\n",
    "    ffff = fff()\n",
    "    if os.path.exists(ffff):\n",
    "        f = open(ffff, \"r\")\n",
    "        print(f.read())\n",
    "        f.close()\n",
    "    else:\n",
    "        print(\"이거 없는데? 있는 파일을 찾아봐\")\n",
    "\n",
    "def mkfo():\n",
    "    ffff=fff()\n",
    "    if os.path.exists(ffff):\n",
    "        print(\"그거 이미 있다 야\")\n",
    "    else:\n",
    "        os.mkdir(ffff)\n",
    "\n",
    "def rmfo():\n",
    "    ffff=fff()\n",
    "    if os.path.exists(ffff):\n",
    "        os.rmdir(ffff)\n",
    "    else:\n",
    "        print(\"그건 이미 없는걸\")\n",
    "\n",
    "def fili():\n",
    "    ffff = fff()\n",
    "    ll = os.listdir(ffff)\n",
    "    if os.path.exists(ffff):\n",
    "        for i in ll:\n",
    "            print(i)\n",
    "    else:\n",
    "        print(\"그거 없어\")           \n",
    "            \n",
    "# ------------------------------------------------------------------------------------          \n",
    "print(\"안녕?\")     \n",
    "while True:\n",
    "    mmm = menu()\n",
    "    if mmm == 1: # 파일 쓰기\n",
    "        wrfi()\n",
    "    elif mmm == 2: # 파일읽기\n",
    "        rdfi()\n",
    "    elif mmm == 3: # 파일목록 불러오기\n",
    "        fili()\n",
    "    elif mmm == 4: # 파일삭제\n",
    "        rmfi()\n",
    "    elif mmm == 5: # 폴더생성\n",
    "        mkfo()\n",
    "    elif mmm == 6: # 폴더삭제\n",
    "        rmfo()  \n",
    "    elif mmm == 0: # 끝~\n",
    "        print()\n",
    "        print(\"잘가~~\")\n",
    "        break\n"
   ]
  },
  {
   "cell_type": "code",
   "execution_count": null,
   "id": "6f80caac",
   "metadata": {},
   "outputs": [],
   "source": []
  },
  {
   "cell_type": "code",
   "execution_count": null,
   "id": "d49e5b9d",
   "metadata": {},
   "outputs": [],
   "source": []
  },
  {
   "cell_type": "code",
   "execution_count": null,
   "id": "f5259c27",
   "metadata": {},
   "outputs": [],
   "source": []
  },
  {
   "cell_type": "code",
   "execution_count": null,
   "id": "42b1b040",
   "metadata": {},
   "outputs": [],
   "source": []
  },
  {
   "cell_type": "code",
   "execution_count": null,
   "id": "cb0d749b",
   "metadata": {},
   "outputs": [],
   "source": []
  },
  {
   "cell_type": "code",
   "execution_count": null,
   "id": "496d87b5",
   "metadata": {},
   "outputs": [],
   "source": []
  },
  {
   "cell_type": "code",
   "execution_count": null,
   "id": "b24d349a",
   "metadata": {},
   "outputs": [],
   "source": []
  },
  {
   "cell_type": "code",
   "execution_count": null,
   "id": "9d416c6d",
   "metadata": {},
   "outputs": [],
   "source": []
  },
  {
   "cell_type": "code",
   "execution_count": null,
   "id": "2b3deac5",
   "metadata": {},
   "outputs": [],
   "source": []
  },
  {
   "cell_type": "code",
   "execution_count": null,
   "id": "655e4aa5",
   "metadata": {},
   "outputs": [],
   "source": []
  },
  {
   "cell_type": "code",
   "execution_count": null,
   "id": "5bca90ed",
   "metadata": {},
   "outputs": [],
   "source": []
  },
  {
   "cell_type": "code",
   "execution_count": null,
   "id": "0abcf533",
   "metadata": {},
   "outputs": [],
   "source": []
  },
  {
   "cell_type": "code",
   "execution_count": null,
   "id": "b83ccfe6",
   "metadata": {},
   "outputs": [],
   "source": []
  },
  {
   "cell_type": "code",
   "execution_count": null,
   "id": "4a74cfc0",
   "metadata": {},
   "outputs": [],
   "source": []
  },
  {
   "cell_type": "code",
   "execution_count": null,
   "id": "e27e10db",
   "metadata": {},
   "outputs": [],
   "source": []
  },
  {
   "cell_type": "code",
   "execution_count": null,
   "id": "6b3388a0",
   "metadata": {},
   "outputs": [],
   "source": []
  },
  {
   "cell_type": "code",
   "execution_count": null,
   "id": "0643a207",
   "metadata": {},
   "outputs": [],
   "source": []
  },
  {
   "cell_type": "code",
   "execution_count": null,
   "id": "9dd55b28",
   "metadata": {},
   "outputs": [],
   "source": []
  },
  {
   "cell_type": "code",
   "execution_count": null,
   "id": "b37eb1ee",
   "metadata": {},
   "outputs": [],
   "source": []
  },
  {
   "cell_type": "code",
   "execution_count": null,
   "id": "e4ddeddc",
   "metadata": {},
   "outputs": [],
   "source": []
  },
  {
   "cell_type": "code",
   "execution_count": null,
   "id": "7d94e82b",
   "metadata": {},
   "outputs": [],
   "source": []
  },
  {
   "cell_type": "code",
   "execution_count": null,
   "id": "e78c41a6",
   "metadata": {},
   "outputs": [],
   "source": []
  },
  {
   "cell_type": "code",
   "execution_count": null,
   "id": "80d0d5bb",
   "metadata": {},
   "outputs": [],
   "source": []
  },
  {
   "cell_type": "code",
   "execution_count": null,
   "id": "028a1017",
   "metadata": {},
   "outputs": [],
   "source": []
  },
  {
   "cell_type": "code",
   "execution_count": null,
   "id": "e5813490",
   "metadata": {},
   "outputs": [],
   "source": []
  },
  {
   "cell_type": "code",
   "execution_count": null,
   "id": "b352179b",
   "metadata": {},
   "outputs": [],
   "source": []
  },
  {
   "cell_type": "code",
   "execution_count": null,
   "id": "f4144a71",
   "metadata": {},
   "outputs": [],
   "source": []
  }
 ],
 "metadata": {
  "kernelspec": {
   "display_name": "Python 3 (ipykernel)",
   "language": "python",
   "name": "python3"
  },
  "language_info": {
   "codemirror_mode": {
    "name": "ipython",
    "version": 3
   },
   "file_extension": ".py",
   "mimetype": "text/x-python",
   "name": "python",
   "nbconvert_exporter": "python",
   "pygments_lexer": "ipython3",
   "version": "3.9.12"
  }
 },
 "nbformat": 4,
 "nbformat_minor": 5
}
